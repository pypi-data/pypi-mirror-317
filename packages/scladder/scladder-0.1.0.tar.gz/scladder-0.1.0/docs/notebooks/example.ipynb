{
 "cells": [
  {
   "cell_type": "markdown",
   "id": "249a80ed-2d6b-4590-b452-cf56d5ab579a",
   "metadata": {},
   "source": [
    "# Getting Started - High-level API\n",
    "\n",
    "- Ladder offers a high-level API for running models in settings where there are multiple conditions.\n",
    "\n",
    "- It is very easy to get started, as long as you have your AnnData ready! See below for starting out with Patches."
   ]
  },
  {
   "cell_type": "code",
   "execution_count": null,
   "id": "3037fd10-a2f3-49aa-bab3-75110ba65b26",
   "metadata": {},
   "outputs": [],
   "source": [
    "import anndata as ad\n",
    "import scanpy as sc\n",
    "\n",
    "from ladder.data import get_data\n",
    "from ladder.scripts import CrossConditionWorkflow, InterpretableWorkflow # Workflow APIs, read more on which one you'd like for your case!"
   ]
  },
  {
   "cell_type": "code",
   "execution_count": null,
   "id": "e0542a08-3894-48e0-975a-664f48b87a29",
   "metadata": {},
   "outputs": [],
   "source": [
    "# Download the data object - skip if you have your data\n",
    "get_data(\"Vu\")"
   ]
  },
  {
   "cell_type": "code",
   "execution_count": null,
   "id": "5c40aa5f-dfdd-40b0-a725-c854fc2e72b0",
   "metadata": {},
   "outputs": [],
   "source": [
    "# Load the anndata object\n",
    "anndata = ad.read_h5ad(\"data/vu_2022_ay_wh.h5ad\")\n",
    "\n",
    "## Do optional preprocessing\n",
    "## IMPORTANT : Model input (anndata.X should be raw counts!!)\n",
    "anndata.layers[\"normalized\"] = anndata.X\n",
    "\n",
    "# Find/subset HVGs & swap to raw counts\n",
    "sc.pp.highly_variable_genes(anndata, n_top_genes=3000, batch_key=\"sample\")\n",
    "sc.pl.highly_variable_genes(anndata)\n",
    "\n",
    "anndata = anndata[:, anndata.var[\"highly_variable\"]]\n",
    "anndata.X = anndata.layers[\"counts\"]"
   ]
  },
  {
   "cell_type": "code",
   "execution_count": null,
   "id": "99de0ca3-04c3-46bf-b715-12f644fa2c1c",
   "metadata": {},
   "outputs": [],
   "source": [
    "# Initialize workflow object\n",
    "workflow = InterpretableWorkflow(anndata, verbose=True, random_seed=42)\n",
    "\n",
    "# Define the condition classes & batch key to prepare the data\n",
    "factors = [\"time\", \"age\", \"broad_type\"]\n",
    "workflow.prep_model(factors, batch_key=\"sample\", model_type='Patches', model_args={'ld_normalize' : True})\n",
    "\n",
    "# Train the model\n",
    "workflow.run_model(max_epochs=2000, convergence_threshold=1e-5, convergence_window=2000) # Lower the convergence threshold & increase the window if you need a more accurate model, will increase training time"
   ]
  }
 ],
 "metadata": {
  "kernelspec": {
   "display_name": "Python 3 (ipykernel)",
   "language": "python",
   "name": "python3"
  },
  "language_info": {
   "codemirror_mode": {
    "name": "ipython",
    "version": 3
   },
   "file_extension": ".py",
   "mimetype": "text/x-python",
   "name": "python",
   "nbconvert_exporter": "python",
   "pygments_lexer": "ipython3",
   "version": "3.12.2"
  }
 },
 "nbformat": 4,
 "nbformat_minor": 5
}
