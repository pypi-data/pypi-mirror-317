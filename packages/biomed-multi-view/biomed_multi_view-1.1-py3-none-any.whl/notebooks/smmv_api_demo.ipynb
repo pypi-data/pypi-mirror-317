{
 "cells": [
  {
   "cell_type": "markdown",
   "id": "bd25d090-ce29-4e3a-a84a-d1b69a6db9f2",
   "metadata": {},
   "source": [
    "# Using biomed.sm.mv-te-84m Models Via SmallMoleculeMultiViewModel API"
   ]
  },
  {
   "cell_type": "code",
   "execution_count": 1,
   "id": "5eea44ca-9164-4bb9-b4e9-58ec055f03b2",
   "metadata": {},
   "outputs": [
    {
     "name": "stderr",
     "output_type": "stream",
     "text": [
      "/Users/psuryan/Partha/work/code/envs/bmfm-sm-v5/lib/python3.11/site-packages/torch_geometric/typing.py:18: UserWarning: An issue occurred while importing 'pyg-lib'. Disabling its usage. Stacktrace: dlopen(/Users/psuryan/Partha/work/code/envs/bmfm-sm-v5/lib/python3.11/site-packages/libpyg.so, 0x0006): tried: '/Users/psuryan/Partha/work/code/envs/bmfm-sm-v5/lib/python3.11/site-packages/libpyg.so' (mach-o file, but is an incompatible architecture (have 'x86_64', need 'arm64e' or 'arm64')), '/System/Volumes/Preboot/Cryptexes/OS/Users/psuryan/Partha/work/code/envs/bmfm-sm-v5/lib/python3.11/site-packages/libpyg.so' (no such file), '/Users/psuryan/Partha/work/code/envs/bmfm-sm-v5/lib/python3.11/site-packages/libpyg.so' (mach-o file, but is an incompatible architecture (have 'x86_64', need 'arm64e' or 'arm64'))\n",
      "  warnings.warn(f\"An issue occurred while importing 'pyg-lib'. \"\n",
      "2024-10-26 10:27:52,484 - rdkit - INFO - MacBookPro:8512582208:0:0 - Enabling RDKit 2024.03.5 jupyter extensions\n"
     ]
    }
   ],
   "source": [
    "# Necessary Imports\n",
    "from bmfm_sm.api.smmv_api import SmallMoleculeMultiViewModel, PredictionIterator\n",
    "from bmfm_sm.core.data_modules.namespace import LateFusionStrategy\n",
    "from bmfm_sm.api.dataset_registry import DatasetRegistry\n",
    "\n",
    "from dataclasses import asdict\n",
    "from itertools import islice\n",
    "import pandas as pd\n",
    "import os"
   ]
  },
  {
   "cell_type": "markdown",
   "id": "e2d8c935-f509-4266-9593-730e416fd28b",
   "metadata": {},
   "source": [
    "## Explore the data"
   ]
  },
  {
   "cell_type": "markdown",
   "id": "a6bcdbc8-c2eb-4883-bc95-582f8fd0ef8c",
   "metadata": {},
   "source": [
    "Following are the datasets available for evaluation, finetuning and inference."
   ]
  },
  {
   "cell_type": "code",
   "execution_count": 2,
   "id": "1e6bbfbe-74fd-47f3-8dba-f8655ec71bef",
   "metadata": {},
   "outputs": [
    {
     "data": {
      "text/html": [
       "<div>\n",
       "<style scoped>\n",
       "    .dataframe tbody tr th:only-of-type {\n",
       "        vertical-align: middle;\n",
       "    }\n",
       "\n",
       "    .dataframe tbody tr th {\n",
       "        vertical-align: top;\n",
       "    }\n",
       "\n",
       "    .dataframe thead th {\n",
       "        text-align: right;\n",
       "    }\n",
       "</style>\n",
       "<table border=\"1\" class=\"dataframe\">\n",
       "  <thead>\n",
       "    <tr style=\"text-align: right;\">\n",
       "      <th></th>\n",
       "      <th>dataset_name</th>\n",
       "      <th>num_tasks</th>\n",
       "      <th>task_type</th>\n",
       "      <th>description</th>\n",
       "      <th>preferred_metric</th>\n",
       "      <th>path</th>\n",
       "      <th>example</th>\n",
       "      <th>collection</th>\n",
       "      <th>num_classes</th>\n",
       "    </tr>\n",
       "  </thead>\n",
       "  <tbody>\n",
       "    <tr>\n",
       "      <th>0</th>\n",
       "      <td>BACE</td>\n",
       "      <td>1</td>\n",
       "      <td>TaskType.CLASSIFICATION</td>\n",
       "      <td>MoleculeNet: Inhibition of human beta secretase 1</td>\n",
       "      <td>Metrics.ROCAUC</td>\n",
       "      <td>datasets/raw_data/MoleculeNet/bace.csv</td>\n",
       "      <td>CC(C)CC1=CC=C(C=C1)C(C)C(=O)O,0</td>\n",
       "      <td>DatasetCollection.MOLECULENET</td>\n",
       "      <td>2.0</td>\n",
       "    </tr>\n",
       "    <tr>\n",
       "      <th>1</th>\n",
       "      <td>BBBP</td>\n",
       "      <td>1</td>\n",
       "      <td>TaskType.CLASSIFICATION</td>\n",
       "      <td>MoleculeNet: Blood brain barrier penetration</td>\n",
       "      <td>Metrics.ROCAUC</td>\n",
       "      <td>datasets/raw_data/MoleculeNet/bbbp.csv</td>\n",
       "      <td>CC(C)CC1=CC=C(C=C1)C(C)C(=O)O,0</td>\n",
       "      <td>DatasetCollection.MOLECULENET</td>\n",
       "      <td>2.0</td>\n",
       "    </tr>\n",
       "    <tr>\n",
       "      <th>2</th>\n",
       "      <td>CLINTOX</td>\n",
       "      <td>2</td>\n",
       "      <td>TaskType.CLASSIFICATION</td>\n",
       "      <td>MoleculeNet: Toxicity data of FDA-approved dru...</td>\n",
       "      <td>Metrics.ROCAUC</td>\n",
       "      <td>datasets/raw_data/MoleculeNet/clintox.csv</td>\n",
       "      <td>[N+](=O)([O-])[O-],1 0</td>\n",
       "      <td>DatasetCollection.MOLECULENET</td>\n",
       "      <td>2.0</td>\n",
       "    </tr>\n",
       "    <tr>\n",
       "      <th>3</th>\n",
       "      <td>ESOL</td>\n",
       "      <td>1</td>\n",
       "      <td>TaskType.REGRESSION</td>\n",
       "      <td>MoleculeNet: Water solubility data for organics</td>\n",
       "      <td>Metrics.RMSE</td>\n",
       "      <td>datasets/raw_data/MoleculeNet/esol.csv</td>\n",
       "      <td>OCC3OC(OCC2OC(OC(C#N)c1ccccc1)C(O)C(O)C2O)C(O)...</td>\n",
       "      <td>DatasetCollection.MOLECULENET</td>\n",
       "      <td>NaN</td>\n",
       "    </tr>\n",
       "    <tr>\n",
       "      <th>4</th>\n",
       "      <td>FREESOLV</td>\n",
       "      <td>1</td>\n",
       "      <td>TaskType.REGRESSION</td>\n",
       "      <td>MoleculeNet: Hydration free energy</td>\n",
       "      <td>Metrics.RMSE</td>\n",
       "      <td>datasets/raw_data/MoleculeNet/freesolv.csv</td>\n",
       "      <td>CN(C)C(=O)c1ccc(cc1)OC,-11.01</td>\n",
       "      <td>DatasetCollection.MOLECULENET</td>\n",
       "      <td>NaN</td>\n",
       "    </tr>\n",
       "    <tr>\n",
       "      <th>5</th>\n",
       "      <td>HIV</td>\n",
       "      <td>1</td>\n",
       "      <td>TaskType.CLASSIFICATION</td>\n",
       "      <td>MoleculeNet: Inhibition of HIV viral replication</td>\n",
       "      <td>Metrics.ROCAUC</td>\n",
       "      <td>datasets/raw_data/MoleculeNet/hiv.csv</td>\n",
       "      <td>CC(C)CC1=CC=C(C=C1)C(C)C(=O)O,0</td>\n",
       "      <td>DatasetCollection.MOLECULENET</td>\n",
       "      <td>2.0</td>\n",
       "    </tr>\n",
       "    <tr>\n",
       "      <th>6</th>\n",
       "      <td>LIPOPHILICITY</td>\n",
       "      <td>1</td>\n",
       "      <td>TaskType.REGRESSION</td>\n",
       "      <td>MoleculeNet: Octonol/water distribution coefff...</td>\n",
       "      <td>Metrics.RMSE</td>\n",
       "      <td>datasets/raw_data/MoleculeNet/lipophilicity.csv</td>\n",
       "      <td>Cn1c(CN2CCN(CC2)c3ccc(Cl)cc3)nc4ccccc14,3.54</td>\n",
       "      <td>DatasetCollection.MOLECULENET</td>\n",
       "      <td>NaN</td>\n",
       "    </tr>\n",
       "    <tr>\n",
       "      <th>7</th>\n",
       "      <td>MUV</td>\n",
       "      <td>17</td>\n",
       "      <td>TaskType.CLASSIFICATION</td>\n",
       "      <td>MoleculeNet: PubChem derived target-activity t...</td>\n",
       "      <td>Metrics.ROCAUC</td>\n",
       "      <td>datasets/raw_data/MoleculeNet/muv.csv</td>\n",
       "      <td>Cc1cccc(N2CCN(C(=O)C34CC5CC(CC(C5)C3)C4)CC2)c1...</td>\n",
       "      <td>DatasetCollection.MOLECULENET</td>\n",
       "      <td>2.0</td>\n",
       "    </tr>\n",
       "    <tr>\n",
       "      <th>8</th>\n",
       "      <td>PCBA</td>\n",
       "      <td>128</td>\n",
       "      <td>TaskType.CLASSIFICATION</td>\n",
       "      <td>MoleculeNet: PubChem derived target-activity (...</td>\n",
       "      <td>Metrics.ROCAUC</td>\n",
       "      <td>datasets/raw_data/MoleculeNet/pcba.csv</td>\n",
       "      <td>CC(=O)N1CCC2(CC1)NC(=O)N(c1ccccc1)N2,0 0 -1 0 ...</td>\n",
       "      <td>DatasetCollection.MOLECULENET</td>\n",
       "      <td>2.0</td>\n",
       "    </tr>\n",
       "    <tr>\n",
       "      <th>9</th>\n",
       "      <td>QM7</td>\n",
       "      <td>1</td>\n",
       "      <td>TaskType.REGRESSION</td>\n",
       "      <td>MoleculeNet: Electronic properties derived fro...</td>\n",
       "      <td>Metrics.MAE</td>\n",
       "      <td>datasets/raw_data/MoleculeNet/qm7.csv</td>\n",
       "      <td>C([H])([H])([H])[H],-417.96</td>\n",
       "      <td>DatasetCollection.MOLECULENET</td>\n",
       "      <td>NaN</td>\n",
       "    </tr>\n",
       "    <tr>\n",
       "      <th>10</th>\n",
       "      <td>QM9</td>\n",
       "      <td>12</td>\n",
       "      <td>TaskType.REGRESSION</td>\n",
       "      <td>MoleculeNet: Geometric and electronic properti...</td>\n",
       "      <td>Metrics.MAE</td>\n",
       "      <td>datasets/raw_data/MoleculeNet/qm9.csv</td>\n",
       "      <td>C,0.0 13.21 -0.3877 0.1171 0.5048 35.3641 0.04...</td>\n",
       "      <td>DatasetCollection.MOLECULENET</td>\n",
       "      <td>NaN</td>\n",
       "    </tr>\n",
       "    <tr>\n",
       "      <th>11</th>\n",
       "      <td>SIDER</td>\n",
       "      <td>27</td>\n",
       "      <td>TaskType.CLASSIFICATION</td>\n",
       "      <td>MoleculeNet: Side Effect Resource.  Market dru...</td>\n",
       "      <td>Metrics.ROCAUC</td>\n",
       "      <td>datasets/raw_data/MoleculeNet/sider.csv</td>\n",
       "      <td>C(CNCCNCCNCCN)N,1 1 0 0 1 1 1 0 0 0 0 1 0 0 0 ...</td>\n",
       "      <td>DatasetCollection.MOLECULENET</td>\n",
       "      <td>2.0</td>\n",
       "    </tr>\n",
       "    <tr>\n",
       "      <th>12</th>\n",
       "      <td>TOX21</td>\n",
       "      <td>12</td>\n",
       "      <td>TaskType.CLASSIFICATION</td>\n",
       "      <td>MoleculeNet: Toxicity against set of targets</td>\n",
       "      <td>Metrics.ROCAUC</td>\n",
       "      <td>datasets/raw_data/MoleculeNet/tox21.csv</td>\n",
       "      <td>CCOc1ccc2nc(S(N)(=O)=O)sc2c1,0 0 1 -1 -1 0 0 1...</td>\n",
       "      <td>DatasetCollection.MOLECULENET</td>\n",
       "      <td>2.0</td>\n",
       "    </tr>\n",
       "    <tr>\n",
       "      <th>13</th>\n",
       "      <td>TOXCAST</td>\n",
       "      <td>617</td>\n",
       "      <td>TaskType.CLASSIFICATION</td>\n",
       "      <td>MoleculeNet: Toxicology data for a large libar...</td>\n",
       "      <td>Metrics.ROCAUC</td>\n",
       "      <td>datasets/raw_data/MoleculeNet/toxcast.csv</td>\n",
       "      <td>[O-][N+](=O)C1=CC=C(Cl)C=C1,0 0 -1 -1 -1 -1 -1...</td>\n",
       "      <td>DatasetCollection.MOLECULENET</td>\n",
       "      <td>2.0</td>\n",
       "    </tr>\n",
       "  </tbody>\n",
       "</table>\n",
       "</div>"
      ],
      "text/plain": [
       "     dataset_name  num_tasks                task_type  \\\n",
       "0            BACE          1  TaskType.CLASSIFICATION   \n",
       "1            BBBP          1  TaskType.CLASSIFICATION   \n",
       "2         CLINTOX          2  TaskType.CLASSIFICATION   \n",
       "3            ESOL          1      TaskType.REGRESSION   \n",
       "4        FREESOLV          1      TaskType.REGRESSION   \n",
       "5             HIV          1  TaskType.CLASSIFICATION   \n",
       "6   LIPOPHILICITY          1      TaskType.REGRESSION   \n",
       "7             MUV         17  TaskType.CLASSIFICATION   \n",
       "8            PCBA        128  TaskType.CLASSIFICATION   \n",
       "9             QM7          1      TaskType.REGRESSION   \n",
       "10            QM9         12      TaskType.REGRESSION   \n",
       "11          SIDER         27  TaskType.CLASSIFICATION   \n",
       "12          TOX21         12  TaskType.CLASSIFICATION   \n",
       "13        TOXCAST        617  TaskType.CLASSIFICATION   \n",
       "\n",
       "                                          description preferred_metric  \\\n",
       "0   MoleculeNet: Inhibition of human beta secretase 1   Metrics.ROCAUC   \n",
       "1        MoleculeNet: Blood brain barrier penetration   Metrics.ROCAUC   \n",
       "2   MoleculeNet: Toxicity data of FDA-approved dru...   Metrics.ROCAUC   \n",
       "3     MoleculeNet: Water solubility data for organics     Metrics.RMSE   \n",
       "4                  MoleculeNet: Hydration free energy     Metrics.RMSE   \n",
       "5    MoleculeNet: Inhibition of HIV viral replication   Metrics.ROCAUC   \n",
       "6   MoleculeNet: Octonol/water distribution coefff...     Metrics.RMSE   \n",
       "7   MoleculeNet: PubChem derived target-activity t...   Metrics.ROCAUC   \n",
       "8   MoleculeNet: PubChem derived target-activity (...   Metrics.ROCAUC   \n",
       "9   MoleculeNet: Electronic properties derived fro...      Metrics.MAE   \n",
       "10  MoleculeNet: Geometric and electronic properti...      Metrics.MAE   \n",
       "11  MoleculeNet: Side Effect Resource.  Market dru...   Metrics.ROCAUC   \n",
       "12       MoleculeNet: Toxicity against set of targets   Metrics.ROCAUC   \n",
       "13  MoleculeNet: Toxicology data for a large libar...   Metrics.ROCAUC   \n",
       "\n",
       "                                               path  \\\n",
       "0            datasets/raw_data/MoleculeNet/bace.csv   \n",
       "1            datasets/raw_data/MoleculeNet/bbbp.csv   \n",
       "2         datasets/raw_data/MoleculeNet/clintox.csv   \n",
       "3            datasets/raw_data/MoleculeNet/esol.csv   \n",
       "4        datasets/raw_data/MoleculeNet/freesolv.csv   \n",
       "5             datasets/raw_data/MoleculeNet/hiv.csv   \n",
       "6   datasets/raw_data/MoleculeNet/lipophilicity.csv   \n",
       "7             datasets/raw_data/MoleculeNet/muv.csv   \n",
       "8            datasets/raw_data/MoleculeNet/pcba.csv   \n",
       "9             datasets/raw_data/MoleculeNet/qm7.csv   \n",
       "10            datasets/raw_data/MoleculeNet/qm9.csv   \n",
       "11          datasets/raw_data/MoleculeNet/sider.csv   \n",
       "12          datasets/raw_data/MoleculeNet/tox21.csv   \n",
       "13        datasets/raw_data/MoleculeNet/toxcast.csv   \n",
       "\n",
       "                                              example  \\\n",
       "0                     CC(C)CC1=CC=C(C=C1)C(C)C(=O)O,0   \n",
       "1                     CC(C)CC1=CC=C(C=C1)C(C)C(=O)O,0   \n",
       "2                              [N+](=O)([O-])[O-],1 0   \n",
       "3   OCC3OC(OCC2OC(OC(C#N)c1ccccc1)C(O)C(O)C2O)C(O)...   \n",
       "4                       CN(C)C(=O)c1ccc(cc1)OC,-11.01   \n",
       "5                     CC(C)CC1=CC=C(C=C1)C(C)C(=O)O,0   \n",
       "6        Cn1c(CN2CCN(CC2)c3ccc(Cl)cc3)nc4ccccc14,3.54   \n",
       "7   Cc1cccc(N2CCN(C(=O)C34CC5CC(CC(C5)C3)C4)CC2)c1...   \n",
       "8   CC(=O)N1CCC2(CC1)NC(=O)N(c1ccccc1)N2,0 0 -1 0 ...   \n",
       "9                         C([H])([H])([H])[H],-417.96   \n",
       "10  C,0.0 13.21 -0.3877 0.1171 0.5048 35.3641 0.04...   \n",
       "11  C(CNCCNCCNCCN)N,1 1 0 0 1 1 1 0 0 0 0 1 0 0 0 ...   \n",
       "12  CCOc1ccc2nc(S(N)(=O)=O)sc2c1,0 0 1 -1 -1 0 0 1...   \n",
       "13  [O-][N+](=O)C1=CC=C(Cl)C=C1,0 0 -1 -1 -1 -1 -1...   \n",
       "\n",
       "                       collection  num_classes  \n",
       "0   DatasetCollection.MOLECULENET          2.0  \n",
       "1   DatasetCollection.MOLECULENET          2.0  \n",
       "2   DatasetCollection.MOLECULENET          2.0  \n",
       "3   DatasetCollection.MOLECULENET          NaN  \n",
       "4   DatasetCollection.MOLECULENET          NaN  \n",
       "5   DatasetCollection.MOLECULENET          2.0  \n",
       "6   DatasetCollection.MOLECULENET          NaN  \n",
       "7   DatasetCollection.MOLECULENET          2.0  \n",
       "8   DatasetCollection.MOLECULENET          2.0  \n",
       "9   DatasetCollection.MOLECULENET          NaN  \n",
       "10  DatasetCollection.MOLECULENET          NaN  \n",
       "11  DatasetCollection.MOLECULENET          2.0  \n",
       "12  DatasetCollection.MOLECULENET          2.0  \n",
       "13  DatasetCollection.MOLECULENET          2.0  "
      ]
     },
     "execution_count": 2,
     "metadata": {},
     "output_type": "execute_result"
    }
   ],
   "source": [
    "pd.DataFrame(DatasetRegistry.get_instance().get_collection('MoleculeNet'))"
   ]
  },
  {
   "cell_type": "markdown",
   "id": "5cb769be-cdd1-4bea-baad-e10ce929078d",
   "metadata": {},
   "source": [
    "Get more information about a particular dataset"
   ]
  },
  {
   "cell_type": "code",
   "execution_count": 3,
   "id": "178666db-7c56-4e93-bde7-f8d72b78fed2",
   "metadata": {},
   "outputs": [
    {
     "data": {
      "text/html": [
       "<div>\n",
       "<style scoped>\n",
       "    .dataframe tbody tr th:only-of-type {\n",
       "        vertical-align: middle;\n",
       "    }\n",
       "\n",
       "    .dataframe tbody tr th {\n",
       "        vertical-align: top;\n",
       "    }\n",
       "\n",
       "    .dataframe thead th {\n",
       "        text-align: right;\n",
       "    }\n",
       "</style>\n",
       "<table border=\"1\" class=\"dataframe\">\n",
       "  <thead>\n",
       "    <tr style=\"text-align: right;\">\n",
       "      <th></th>\n",
       "      <th>dataset_name</th>\n",
       "      <th>num_tasks</th>\n",
       "      <th>task_type</th>\n",
       "      <th>description</th>\n",
       "      <th>preferred_metric</th>\n",
       "      <th>path</th>\n",
       "      <th>example</th>\n",
       "      <th>collection</th>\n",
       "      <th>num_classes</th>\n",
       "    </tr>\n",
       "  </thead>\n",
       "  <tbody>\n",
       "    <tr>\n",
       "      <th>0</th>\n",
       "      <td>TOX21</td>\n",
       "      <td>12</td>\n",
       "      <td>TaskType.CLASSIFICATION</td>\n",
       "      <td>MoleculeNet: Toxicity against set of targets</td>\n",
       "      <td>Metrics.ROCAUC</td>\n",
       "      <td>datasets/raw_data/MoleculeNet/tox21.csv</td>\n",
       "      <td>CCOc1ccc2nc(S(N)(=O)=O)sc2c1,0 0 1 -1 -1 0 0 1...</td>\n",
       "      <td>DatasetCollection.MOLECULENET</td>\n",
       "      <td>2</td>\n",
       "    </tr>\n",
       "  </tbody>\n",
       "</table>\n",
       "</div>"
      ],
      "text/plain": [
       "  dataset_name  num_tasks                task_type  \\\n",
       "0        TOX21         12  TaskType.CLASSIFICATION   \n",
       "\n",
       "                                    description preferred_metric  \\\n",
       "0  MoleculeNet: Toxicity against set of targets   Metrics.ROCAUC   \n",
       "\n",
       "                                      path  \\\n",
       "0  datasets/raw_data/MoleculeNet/tox21.csv   \n",
       "\n",
       "                                             example  \\\n",
       "0  CCOc1ccc2nc(S(N)(=O)=O)sc2c1,0 0 1 -1 -1 0 0 1...   \n",
       "\n",
       "                      collection  num_classes  \n",
       "0  DatasetCollection.MOLECULENET            2  "
      ]
     },
     "execution_count": 3,
     "metadata": {},
     "output_type": "execute_result"
    }
   ],
   "source": [
    "dataset = DatasetRegistry.get_instance().get_dataset_info('TOX21')\n",
    "pd.DataFrame([asdict(dataset)])"
   ]
  },
  {
   "cell_type": "markdown",
   "id": "d30ae29b-52f4-48d4-898b-b58ea865424e",
   "metadata": {},
   "source": [
    "## Using Models from HuggingFace"
   ]
  },
  {
   "cell_type": "markdown",
   "id": "462384e6-fc62-4570-a06d-8ace2c07c8f7",
   "metadata": {},
   "source": [
    "We have made pretrained and finetuned models available in [HuggingFace](https://huggingface.co/ibm/biomed.sm.mv-te-84m)"
   ]
  },
  {
   "cell_type": "markdown",
   "id": "e8bf1670-8973-4515-98c2-6ade3c06a683",
   "metadata": {},
   "source": [
    "### Loading Pretrained Model from HuggingFace"
   ]
  },
  {
   "cell_type": "markdown",
   "id": "0a90fe32-7790-464b-a738-e67dae2c4eeb",
   "metadata": {},
   "source": [
    "Load a pretrained model from Huggingface by setting `model_path` to a Huggingface repo, and setting the `huggingface` argument to `True`"
   ]
  },
  {
   "cell_type": "code",
   "execution_count": 4,
   "id": "956cd0d3-cf63-49a8-b106-d5676c61a31f",
   "metadata": {},
   "outputs": [
    {
     "name": "stderr",
     "output_type": "stream",
     "text": [
      "2024-10-26 10:27:53,309 - root - INFO - MacBookPro:8512582208:0:0 - Loading checkpoint via HuggingFace Hub from provided path ibm/biomed.sm.mv-te-84m\n",
      "/Users/psuryan/Partha/work/code/envs/bmfm-sm-v5/lib/python3.11/site-packages/torchvision/models/_utils.py:208: UserWarning: The parameter 'pretrained' is deprecated since 0.13 and may be removed in the future, please use 'weights' instead.\n",
      "  warnings.warn(\n",
      "/Users/psuryan/Partha/work/code/envs/bmfm-sm-v5/lib/python3.11/site-packages/torchvision/models/_utils.py:223: UserWarning: Arguments other than a weight enum or `None` for 'weights' are deprecated since 0.13 and may be removed in the future. The current behavior is equivalent to passing `weights=None`.\n",
      "  warnings.warn(msg)\n",
      "2024-10-26 10:27:54,534 - root - INFO - MacBookPro:8512582208:0:0 - Using coeff_mlp architecture for aggregator\n",
      "2024-10-26 10:27:54,535 - root - INFO - MacBookPro:8512582208:0:0 - dim_list [512, 512, 768] for aggregator\n",
      "2024-10-26 10:27:54,773 - root - INFO - MacBookPro:8512582208:0:0 - in train False setting deterministic_eval = True\n"
     ]
    }
   ],
   "source": [
    "model = SmallMoleculeMultiViewModel.from_pretrained(LateFusionStrategy.ATTENTIONAL,\n",
    "                                                    model_path='ibm/biomed.sm.mv-te-84m',\n",
    "                                                    huggingface=True)"
   ]
  },
  {
   "cell_type": "markdown",
   "id": "3e5a0414-c27e-48ec-961b-5eb9e3c1f628",
   "metadata": {},
   "source": [
    "### Get Embeddings from a Pretrained Model"
   ]
  },
  {
   "cell_type": "code",
   "execution_count": 5,
   "id": "6c110032-e9c9-4aba-9ea6-7a7756a693aa",
   "metadata": {},
   "outputs": [
    {
     "name": "stderr",
     "output_type": "stream",
     "text": [
      "2024-10-26 10:27:54,776 - root - INFO - MacBookPro:8512582208:0:0 - Loading checkpoint via HuggingFace Hub from provided path ibm/biomed.sm.mv-te-84m\n",
      "2024-10-26 10:27:55,713 - root - INFO - MacBookPro:8512582208:0:0 - Using coeff_mlp architecture for aggregator\n",
      "2024-10-26 10:27:55,713 - root - INFO - MacBookPro:8512582208:0:0 - dim_list [512, 512, 768] for aggregator\n",
      "2024-10-26 10:27:55,813 - root - INFO - MacBookPro:8512582208:0:0 - in train False setting deterministic_eval = True\n"
     ]
    },
    {
     "name": "stdout",
     "output_type": "stream",
     "text": [
      "torch.Size([512])\n"
     ]
    }
   ],
   "source": [
    "example_smiles = \"CC(C)CC1=CC=C(C=C1)C(C)C(=O)O\"\n",
    "example_emb = SmallMoleculeMultiViewModel.get_embeddings(\n",
    "    smiles=example_smiles,\n",
    "    model_path=\"ibm/biomed.sm.mv-te-84m\",\n",
    "    huggingface=True,\n",
    ")\n",
    "print(example_emb.shape)"
   ]
  },
  {
   "cell_type": "markdown",
   "id": "5c11a9d2-2053-4254-b481-137faf4f507a",
   "metadata": {},
   "source": [
    "### Load Finetuned Model from HuggingFace"
   ]
  },
  {
   "cell_type": "code",
   "execution_count": 6,
   "id": "62154e94-5b9c-4342-aec6-582169db59d4",
   "metadata": {},
   "outputs": [],
   "source": [
    "dataset_registry = DatasetRegistry()\n",
    "ds = dataset_registry.get_dataset_info('BACE')"
   ]
  },
  {
   "cell_type": "code",
   "execution_count": 7,
   "id": "2e63365c-a60e-4c79-a5cd-32863cd2f5d6",
   "metadata": {},
   "outputs": [
    {
     "name": "stderr",
     "output_type": "stream",
     "text": [
      "2024-10-26 10:27:56,058 - root - INFO - MacBookPro:8512582208:0:0 - Loading checkpoint via HuggingFace Hub from provided path ibm/biomed.sm.mv-te-84m-MoleculeNet-ligand_scaffold-BACE-101\n",
      "2024-10-26 10:27:57,045 - root - INFO - MacBookPro:8512582208:0:0 - Using coeff_mlp architecture for aggregator\n",
      "2024-10-26 10:27:57,046 - root - INFO - MacBookPro:8512582208:0:0 - dim_list [512, 512, 768] for aggregator\n",
      "2024-10-26 10:27:57,303 - root - INFO - MacBookPro:8512582208:0:0 - in train False setting deterministic_eval = True\n"
     ]
    }
   ],
   "source": [
    "finetuned_model_ds = SmallMoleculeMultiViewModel.from_finetuned(\n",
    "    ds,\n",
    "    model_path=\"ibm/biomed.sm.mv-te-84m-MoleculeNet-ligand_scaffold-BACE-101\",\n",
    "    inference_mode=True,\n",
    "    huggingface=True\n",
    ")"
   ]
  },
  {
   "cell_type": "markdown",
   "id": "e71dab41-4f8c-433e-a54e-c910e0e857d3",
   "metadata": {},
   "source": [
    "### Get Predictions from Finetuned Model"
   ]
  },
  {
   "cell_type": "code",
   "execution_count": 8,
   "id": "47004466-cdbc-4d96-a622-e05ed1b0f18d",
   "metadata": {},
   "outputs": [
    {
     "name": "stdout",
     "output_type": "stream",
     "text": [
      "tensor(0, dtype=torch.int32)\n"
     ]
    }
   ],
   "source": [
    "# Get predictions\n",
    "prediction = SmallMoleculeMultiViewModel.get_predictions(\n",
    "    example_smiles, ds, finetuned_model=finetuned_model_ds\n",
    ")\n",
    "print(prediction)"
   ]
  },
  {
   "cell_type": "markdown",
   "id": "fee3a211-b667-4410-80dd-07cb9ca97f41",
   "metadata": {},
   "source": [
    "## Using Local Data"
   ]
  },
  {
   "cell_type": "markdown",
   "id": "ebf97d1b-8c00-4b07-a7c5-0f5f976afae9",
   "metadata": {},
   "source": [
    "You can also download the checkpoints and data to your system and use the API. Follow procedure in the README for setting up the data. Make sure that `BMFM_HOME` environment variable is pointing to the data_root."
   ]
  },
  {
   "cell_type": "code",
   "execution_count": 9,
   "id": "3d2fd39d-8601-4803-97be-27cdeb37b5e4",
   "metadata": {},
   "outputs": [
    {
     "name": "stdout",
     "output_type": "stream",
     "text": [
      "/Users/psuryan/Partha/work/code/data/data_root_os_v1\n"
     ]
    }
   ],
   "source": [
    "print(os.environ['BMFM_HOME'])"
   ]
  },
  {
   "cell_type": "markdown",
   "id": "020ad891-4fc9-4d1f-bd80-8390e47d2b8a",
   "metadata": {},
   "source": [
    "### Loading Pretrained Model (Local)"
   ]
  },
  {
   "cell_type": "markdown",
   "id": "42a0d97e-3e75-4dd9-9365-39ce586c1c1b",
   "metadata": {},
   "source": [
    "Load our provided pretrained checkpoint, which uses a Attentional Late Fusion strategy (default). It loads the model in inference mode."
   ]
  },
  {
   "cell_type": "code",
   "execution_count": 10,
   "id": "a574cb22-bda0-4d57-99ba-760e0f5ebd22",
   "metadata": {},
   "outputs": [
    {
     "name": "stderr",
     "output_type": "stream",
     "text": [
      "2024-10-26 10:27:58,357 - root - INFO - MacBookPro:8512582208:0:0 - Using coeff_mlp architecture for aggregator\n",
      "2024-10-26 10:27:58,358 - root - INFO - MacBookPro:8512582208:0:0 - dim_list [512, 512, 768] for aggregator\n",
      "2024-10-26 10:27:58,368 - root - INFO - MacBookPro:8512582208:0:0 - Loading checkpoint from default path /Users/psuryan/Partha/work/code/data/data_root_os_v1/bmfm_model_dir/pretrained/MULTIVIEW_MODEL/biomed-smmv-with-coeff-agg.pth\n",
      "2024-10-26 10:27:58,466 - root - INFO - MacBookPro:8512582208:0:0 - Loading pretrain checkpoint for SmallMoleculeMultiView Model - <All keys matched successfully>\n",
      "2024-10-26 10:27:58,472 - root - INFO - MacBookPro:8512582208:0:0 - in train False setting deterministic_eval = True\n"
     ]
    }
   ],
   "source": [
    "model_local = SmallMoleculeMultiViewModel.from_pretrained(LateFusionStrategy.ATTENTIONAL, inference_mode = True)"
   ]
  },
  {
   "cell_type": "markdown",
   "id": "cd14ff76-f138-4d30-90c5-2d40be1d046f",
   "metadata": {},
   "source": [
    "We can also load with a different fusion strategy - Note, aggregator will not be pretrained but BaseModel will be."
   ]
  },
  {
   "cell_type": "code",
   "execution_count": 11,
   "id": "da5760f5-8a2b-4a49-8bc5-30d1af6cd4bb",
   "metadata": {},
   "outputs": [
    {
     "name": "stderr",
     "output_type": "stream",
     "text": [
      "2024-10-26 10:27:59,354 - root - INFO - MacBookPro:8512582208:0:0 - Using moe_weighted_concat architecture for aggregator\n",
      "2024-10-26 10:27:59,354 - root - INFO - MacBookPro:8512582208:0:0 - dim_list [512, 512, 768] for aggregator\n",
      "2024-10-26 10:27:59,358 - root - INFO - MacBookPro:8512582208:0:0 - Loading checkpoint from default path /Users/psuryan/Partha/work/code/data/data_root_os_v1/bmfm_model_dir/pretrained/MULTIVIEW_MODEL/biomed-smmv-with-coeff-agg.pth\n",
      "2024-10-26 10:27:59,431 - root - INFO - MacBookPro:8512582208:0:0 - Loading pretrain checkpoint for SmallMoleculeMultiView Model - _IncompatibleKeys(missing_keys=['aggregator.weighted_concat_network.gating_network.fc.weight', 'aggregator.weighted_concat_network.gating_network.fc.bias'], unexpected_keys=['aggregator.w_before_mean.0.weight', 'aggregator.w_before_mean.0.bias', 'aggregator.w_before_mean.2.weight', 'aggregator.down_project.weight', 'aggregator.down_project.bias', 'aggregator.shared_task_head.0.weight', 'aggregator.shared_task_head.0.bias', 'aggregator.shared_task_head.1.weight', 'aggregator.shared_task_head.1.bias', 'aggregator.shared_task_head.4.weight', 'aggregator.shared_task_head.4.bias', 'aggregator.shared_task_head.5.weight', 'aggregator.shared_task_head.5.bias', 'aggregator.shared_task_head.8.weight', 'aggregator.shared_task_head.8.bias', 'aggregator.shared_task_head.9.weight', 'aggregator.shared_task_head.9.bias'])\n",
      "2024-10-26 10:27:59,437 - root - INFO - MacBookPro:8512582208:0:0 - in train False setting deterministic_eval = True\n"
     ]
    }
   ],
   "source": [
    "model_local = SmallMoleculeMultiViewModel.from_pretrained(LateFusionStrategy.MOE_WEIGHTED_CONCAT_PROJECTED, inference_mode = True)"
   ]
  },
  {
   "cell_type": "markdown",
   "id": "114d91e6-79e9-4066-8cad-8c9dae199512",
   "metadata": {},
   "source": [
    "We can also provide a `custom_model` path to load from a specific checkpoint"
   ]
  },
  {
   "cell_type": "code",
   "execution_count": 12,
   "id": "50d63599-25ed-4ebd-bc4a-8f25d60cd683",
   "metadata": {},
   "outputs": [
    {
     "name": "stderr",
     "output_type": "stream",
     "text": [
      "2024-10-26 10:28:00,324 - root - INFO - MacBookPro:8512582208:0:0 - Using concat architecture for aggregator\n",
      "2024-10-26 10:28:00,325 - root - INFO - MacBookPro:8512582208:0:0 - dim_list [512, 512, 768] for aggregator\n",
      "2024-10-26 10:28:00,325 - root - INFO - MacBookPro:8512582208:0:0 - Loading checkpoint from provided path /Users/psuryan/Partha/work/code/data/data_root_os_v1/bmfm_model_dir/pretrained/MULTIVIEW_MODEL/biomed-smmv-base.pth\n",
      "2024-10-26 10:28:00,421 - root - INFO - MacBookPro:8512582208:0:0 - Loading pretrain checkpoint for SmallMoleculeMultiView Model - <All keys matched successfully>\n",
      "2024-10-26 10:28:00,425 - root - INFO - MacBookPro:8512582208:0:0 - in train False setting deterministic_eval = True\n"
     ]
    }
   ],
   "source": [
    "ckpt_path = f\"{os.environ['BMFM_HOME']}/bmfm_model_dir/pretrained/MULTIVIEW_MODEL/biomed-smmv-base.pth\"\n",
    "model_local = SmallMoleculeMultiViewModel.from_pretrained(LateFusionStrategy.CONCAT, \n",
    "                                     model_path=ckpt_path,\n",
    "                                     inference_mode = True)"
   ]
  },
  {
   "cell_type": "markdown",
   "id": "b41e5f8e-25d1-4b24-b8ec-70440420decd",
   "metadata": {},
   "source": [
    "We can set `model_path` to `False` if to load a non-pretrained model."
   ]
  },
  {
   "cell_type": "code",
   "execution_count": 13,
   "id": "808ba051-d295-4c7b-ace9-3063c48b3577",
   "metadata": {},
   "outputs": [
    {
     "name": "stderr",
     "output_type": "stream",
     "text": [
      "2024-10-26 10:28:01,314 - root - INFO - MacBookPro:8512582208:0:0 - Using moe_noised_weighted_concat architecture for aggregator\n",
      "2024-10-26 10:28:01,314 - root - INFO - MacBookPro:8512582208:0:0 - dim_list [512, 512, 768] for aggregator\n",
      "2024-10-26 10:28:01,317 - root - INFO - MacBookPro:8512582208:0:0 - Not using checkpoint for model initialization\n"
     ]
    }
   ],
   "source": [
    "model_local = SmallMoleculeMultiViewModel.from_pretrained(LateFusionStrategy.MOE_NOISED_WEIGHTED_CONCAT_BOTH_PROJECTED, \n",
    "                                     model_path=False,\n",
    "                                     inference_mode = False)"
   ]
  },
  {
   "cell_type": "markdown",
   "id": "4a642c3c-cfb6-413b-af76-a7d80cd56870",
   "metadata": {},
   "source": [
    "### Get Embeddings from a Pretrained Model (Local)"
   ]
  },
  {
   "cell_type": "code",
   "execution_count": 14,
   "id": "48bd7aa0-407e-4a06-ad99-cc3e79c5faa5",
   "metadata": {},
   "outputs": [
    {
     "name": "stderr",
     "output_type": "stream",
     "text": [
      "2024-10-26 10:28:02,199 - root - INFO - MacBookPro:8512582208:0:0 - Using coeff_mlp architecture for aggregator\n",
      "2024-10-26 10:28:02,200 - root - INFO - MacBookPro:8512582208:0:0 - dim_list [512, 512, 768] for aggregator\n",
      "2024-10-26 10:28:02,209 - root - INFO - MacBookPro:8512582208:0:0 - Loading checkpoint from default path /Users/psuryan/Partha/work/code/data/data_root_os_v1/bmfm_model_dir/pretrained/MULTIVIEW_MODEL/biomed-smmv-with-coeff-agg.pth\n",
      "2024-10-26 10:28:02,278 - root - INFO - MacBookPro:8512582208:0:0 - Loading pretrain checkpoint for SmallMoleculeMultiView Model - <All keys matched successfully>\n",
      "2024-10-26 10:28:02,283 - root - INFO - MacBookPro:8512582208:0:0 - in train False setting deterministic_eval = True\n"
     ]
    },
    {
     "data": {
      "text/plain": [
       "torch.Size([512])"
      ]
     },
     "execution_count": 14,
     "metadata": {},
     "output_type": "execute_result"
    }
   ],
   "source": [
    "example_smiles = \"CC(C)CC1=CC=C(C=C1)C(C)C(=O)O\"\n",
    "example_emb = SmallMoleculeMultiViewModel.get_embeddings(example_smiles)\n",
    "example_emb.shape"
   ]
  },
  {
   "cell_type": "markdown",
   "id": "ef029326-edfc-4dad-b2a3-ade4a510852f",
   "metadata": {},
   "source": [
    "### Load Finetuned Model (Local)"
   ]
  },
  {
   "cell_type": "markdown",
   "id": "f8830de5-e310-4fa6-9f85-2d507c3e4d21",
   "metadata": {},
   "source": [
    "Choose a supported dataset for which finetuned checkpoint is available"
   ]
  },
  {
   "cell_type": "code",
   "execution_count": 15,
   "id": "8890ed32-a61c-4f77-81ea-02042199cf9e",
   "metadata": {},
   "outputs": [],
   "source": [
    "#Example of a Classification Prediction\n",
    "dataset_registry = DatasetRegistry()\n",
    "bace_ds = dataset_registry.get_dataset_info('BACE')"
   ]
  },
  {
   "cell_type": "code",
   "execution_count": 16,
   "id": "dd06e690-f815-4b80-ba36-e97d564a0f07",
   "metadata": {},
   "outputs": [
    {
     "name": "stderr",
     "output_type": "stream",
     "text": [
      "2024-10-26 10:28:03,605 - root - INFO - MacBookPro:8512582208:0:0 - Using coeff_mlp architecture for aggregator\n",
      "2024-10-26 10:28:03,605 - root - INFO - MacBookPro:8512582208:0:0 - dim_list [512, 512, 768] for aggregator\n",
      "2024-10-26 10:28:03,925 - root - INFO - MacBookPro:8512582208:0:0 - Loading finetune checkpoint for SmallMoleculeMultiView Model - <All keys matched successfully>\n",
      "2024-10-26 10:28:04,108 - root - INFO - MacBookPro:8512582208:0:0 - Loading finetune checkpoint for Prediction Head: /Users/psuryan/Partha/work/code/data/data_root_os_v1/bmfm_model_dir/finetuned/MULTIVIEW_MODEL/MoleculeNet/ligand_scaffold/BACE/best-101.ckpt\n",
      "2024-10-26 10:28:04,136 - root - INFO - MacBookPro:8512582208:0:0 - in train False setting deterministic_eval = True\n"
     ]
    }
   ],
   "source": [
    "finetuned_model_bace_local = SmallMoleculeMultiViewModel.from_finetuned(bace_ds, inference_mode = True)"
   ]
  },
  {
   "cell_type": "code",
   "execution_count": 17,
   "id": "0f7a8703-0603-4879-bb48-2bdc0505ed1d",
   "metadata": {},
   "outputs": [
    {
     "data": {
      "text/plain": [
       "tensor(0, dtype=torch.int32)"
      ]
     },
     "execution_count": 17,
     "metadata": {},
     "output_type": "execute_result"
    }
   ],
   "source": [
    "example_smiles = \"CC(C)CC1=CC=C(C=C1)C(C)C(=O)O\"\n",
    "bace_prediction = SmallMoleculeMultiViewModel.get_predictions(example_smiles, bace_ds, finetuned_model=finetuned_model_bace_local)\n",
    "bace_prediction"
   ]
  },
  {
   "cell_type": "code",
   "execution_count": 18,
   "id": "e8d56d17-e6af-4eec-9d26-897a176d26c1",
   "metadata": {},
   "outputs": [
    {
     "name": "stderr",
     "output_type": "stream",
     "text": [
      "2024-10-26 10:28:05,556 - root - INFO - MacBookPro:8512582208:0:0 - Using coeff_mlp architecture for aggregator\n",
      "2024-10-26 10:28:05,556 - root - INFO - MacBookPro:8512582208:0:0 - dim_list [512, 512, 768] for aggregator\n",
      "2024-10-26 10:28:05,850 - root - INFO - MacBookPro:8512582208:0:0 - Loading finetune checkpoint for SmallMoleculeMultiView Model - <All keys matched successfully>\n",
      "2024-10-26 10:28:06,021 - root - INFO - MacBookPro:8512582208:0:0 - Loading finetune checkpoint for Prediction Head: /Users/psuryan/Partha/work/code/data/data_root_os_v1/bmfm_model_dir/finetuned/MULTIVIEW_MODEL/MoleculeNet/ligand_scaffold/ESOL/best-101.ckpt\n",
      "2024-10-26 10:28:06,039 - root - INFO - MacBookPro:8512582208:0:0 - in train False setting deterministic_eval = True\n"
     ]
    },
    {
     "data": {
      "text/plain": [
       "tensor(-3.5531)"
      ]
     },
     "execution_count": 18,
     "metadata": {},
     "output_type": "execute_result"
    }
   ],
   "source": [
    "#Example of a Regression Prediction\n",
    "esol_ds = dataset_registry.get_dataset_info('ESOL')\n",
    "finetuned_model_esol_local = SmallMoleculeMultiViewModel.from_finetuned(esol_ds, inference_mode = True)\n",
    "esol_prediction = SmallMoleculeMultiViewModel.get_predictions(example_smiles, esol_ds, finetuned_model=finetuned_model_esol_local)\n",
    "esol_prediction"
   ]
  }
 ],
 "metadata": {
  "kernelspec": {
   "display_name": "Python 3 (ipykernel)",
   "language": "python",
   "name": "python3"
  },
  "language_info": {
   "codemirror_mode": {
    "name": "ipython",
    "version": 3
   },
   "file_extension": ".py",
   "mimetype": "text/x-python",
   "name": "python",
   "nbconvert_exporter": "python",
   "pygments_lexer": "ipython3",
   "version": "3.11.10"
  }
 },
 "nbformat": 4,
 "nbformat_minor": 5
}
