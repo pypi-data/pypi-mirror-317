{
 "cells": [
  {
   "cell_type": "markdown",
   "metadata": {},
   "source": [
    "# Large-scale Collective Matrix Factorization (lsCMF)\n",
    "\n",
    "This is a package implementing the data integration methodology described in \n",
    "[\"Large-scale Data Integration using Matrix Denoising and\n",
    "Geometric Factor Matching\" (Held, 2024, arXiv:2405.10036 \\[stat.ME\\])](https://arxiv.org/abs/2405.10036).\n",
    "\n",
    "## Install development version\n",
    "\n",
    "To install the development version of the package run\n",
    "\n",
    "```sh\n",
    "pip install git+https://github.com/cyianor/lscmf.git\n",
    "```\n",
    "\n",
    "## Install stable version\n",
    "\n",
    "To install the stable version of the package run\n",
    "\n",
    "```sh\n",
    "pip install lscmf\n",
    "```\n",
    "\n",
    "## Usage example\n",
    "\n",
    "A simple usage example is shown below:"
   ]
  },
  {
   "cell_type": "code",
   "execution_count": 38,
   "metadata": {},
   "outputs": [],
   "source": [
    "import lscmf\n",
    "from numpy.random import default_rng\n",
    "\n",
    "# Control randomness\n",
    "rng = default_rng(42)\n",
    "\n",
    "# Simulate some data\n",
    "# - `viewdims`: Dimensions of each view\n",
    "# - `factor_scales`: The strength/singular value of each factor. \n",
    "#                    The diagonal of the D matrices in the paper.\n",
    "# - `snr`: Signal-to-noise ratio of the noise added to each true signal\n",
    "#\n",
    "# The function below generates orthogonal matrices V_i and uses the\n",
    "# supplied D_ij to form signal matrices V_i D_ij V_j^T. Noise with\n",
    "# residual variance controlled by the signal-to-noise ratio is added.\n",
    "xs_sim = lscmf.simulate(\n",
    "    viewdims={0: 500, 1: 250, 2: 250},\n",
    "    factor_scales={\n",
    "        (0, 1): [3.0, 2.5, 2.0, 0.0, 0.0],\n",
    "        (0, 2): [2.8, 0.0, 0.0, 2.0, 0.0],\n",
    "        (1, 2): [1.2, 0.0, 5.0, 0.0, 1.1],\n",
    "    },\n",
    "    snr=1.0,\n",
    "    rng=rng,\n",
    ")\n",
    "\n",
    "# `xs_sim` is a dictionary containing\n",
    "# - \"xs_truth\", the true signal matrices\n",
    "# - \"xs\", the noisy data\n",
    "# - \"vs\", the simulated orthogonal factors\n",
    "\n",
    "# Create the lscmf object and fit the model to data\n",
    "est = lscmf.LargeScaleCMF().fit(xs_sim[\"xs\"])"
   ]
  },
  {
   "cell_type": "markdown",
   "metadata": {},
   "source": [
    "Estimates of model parameters are then contained in the `LargeScaleCMF` object.\n",
    "The estimated singular values can be accessed as shown below."
   ]
  },
  {
   "cell_type": "code",
   "execution_count": 39,
   "metadata": {},
   "outputs": [
    {
     "data": {
      "text/plain": [
       "{(0,\n",
       "  1): array([ 2.98687823, -1.96015864,  0.        ,  0.        ,  2.47498787]),\n",
       " (0,\n",
       "  2): array([-2.78861131,  0.        ,  0.        ,  1.96604697,  0.        ]),\n",
       " (1,\n",
       "  2): array([-1.13272996,  4.98917765, -1.00988163,  0.        ,  0.        ])}"
      ]
     },
     "execution_count": 39,
     "metadata": {},
     "output_type": "execute_result"
    }
   ],
   "source": [
    "est.ds_"
   ]
  },
  {
   "cell_type": "markdown",
   "metadata": {},
   "source": [
    "The estimated factors can be accessed as follows, e.g., for view 0 the first factor is"
   ]
  },
  {
   "cell_type": "code",
   "execution_count": 53,
   "metadata": {},
   "outputs": [
    {
     "name": "stdout",
     "output_type": "stream",
     "text": [
      "Scalar product between estimated and true factor: -0.95\n"
     ]
    },
    {
     "data": {
      "image/png": "[encoded data removed]",
      "text/plain": [
       "<Figure size 800x300 with 1 Axes>"
      ]
     },
     "metadata": {},
     "output_type": "display_data"
    }
   ],
   "source": [
    "import matplotlib.pyplot as plt\n",
    "\n",
    "cos_angle = (est.vs_[1][:, 2] * xs_sim[\"vs\"][1][:, 4]).sum()\n",
    "print(f\"Scalar product between estimated and true factor: {cos_angle:.2f}\")\n",
    "\n",
    "fig = plt.figure(figsize=(8, 3), dpi=100)\n",
    "ax = fig.add_subplot(111)\n",
    "# Negate integrated factor since it was estimated as -v instead of v\n",
    "ax.hist((-est.vs_[1][:, 2]) - xs_sim[\"vs\"][1][:, 4], bins=30)\n",
    "ax.set_xlabel(\"Element-wise difference between estimated and true factor\")\n",
    "ax.set_ylabel(\"Frequency\");\n",
    "ax.set_title(\"View 1, Integrated factor 3, True factor 5\");"
   ]
  },
  {
   "cell_type": "markdown",
   "metadata": {},
   "source": [
    "A raw graph-based interface exists as well."
   ]
  },
  {
   "cell_type": "code",
   "execution_count": 61,
   "metadata": {},
   "outputs": [],
   "source": [
    "# Create a view graph to hold the data layout\n",
    "G = lscmf.ViewGraph()\n",
    "# Add data\n",
    "# - `names` need to be provided as an iterable.\n",
    "#   These are in general arbitrary, however, in case of\n",
    "#   repeated layers, each layer requires a unique name.\n",
    "# - `xs` is an iterable to the input data in the same order as\n",
    "#   `names`\n",
    "# - `viewrels` is an iterable containing tuples describing the\n",
    "#    relationships between views contained in data matrices.\n",
    "G.add_data_from([\"x01\", \"x02\", \"x12\"], xs_sim[\"xs\"].values(), [(0, 1), (0, 2), (1, 2)])\n",
    "\n",
    "# Once data is added to the view graph, joint matrices for each\n",
    "# view need to be formed and denoising needs to be performed.\n",
    "# Different types of shrinkers can be used for denoising and they\n",
    "# depend on the type of loss assumed for reconstruction of the\n",
    "# signal. See Gavish and Donoho (2017) for details.\n",
    "# In the paper, Frobenius loss is assumed, and therefore the resulting\n",
    "# `FrobeniusShrinker` is used here.\n",
    "lscmf.precompute(G, lscmf.FrobeniusShrinker)\n",
    "\n",
    "# Finally, matching of factors for each view and merging of the\n",
    "# factor match graphs is performed. This function returns\n",
    "# the final merged factor match graph.\n",
    "H = lscmf.match_factors(G)"
   ]
  },
  {
   "cell_type": "markdown",
   "metadata": {},
   "source": [
    "Matches in the factor match graph can be investigated. `MatchNode`s contain a `data_edge`, which is a `MultiEdge(name, viewrel)` corresponding to an input matrix during view graph construction, and a `factor` which is the factor in the `data_edge`. Keys of the dictionary are integrated factors.\n",
    "\n",
    "In the example below, `MatchNode(data_edge=MultiEdge(x01, (0, 1)), factor=0)` is the first factor in data matrix $X_{01}$ which is being associated with integrated factor 0.\n",
    "\n",
    "The numbering of integrated factors is arbitrary and may be non-consecutive."
   ]
  },
  {
   "cell_type": "code",
   "execution_count": 62,
   "metadata": {},
   "outputs": [
    {
     "data": {
      "text/plain": [
       "defaultdict(set,\n",
       "            {0: {MatchNode(data_edge=MultiEdge(x01, (0, 1)), factor=0),\n",
       "              MatchNode(data_edge=MultiEdge(x02, (0, 2)), factor=0),\n",
       "              MatchNode(data_edge=MultiEdge(x12, (1, 2)), factor=1)},\n",
       "             2: {MatchNode(data_edge=MultiEdge(x02, (0, 2)), factor=1)},\n",
       "             1: {MatchNode(data_edge=MultiEdge(x01, (0, 1)), factor=2),\n",
       "              MatchNode(data_edge=MultiEdge(x12, (1, 2)), factor=0)},\n",
       "             3: {MatchNode(data_edge=MultiEdge(x12, (1, 2)), factor=2)},\n",
       "             4: {MatchNode(data_edge=MultiEdge(x01, (0, 1)), factor=1)}})"
      ]
     },
     "execution_count": 62,
     "metadata": {},
     "output_type": "execute_result"
    }
   ],
   "source": [
    "H.graph"
   ]
  },
  {
   "cell_type": "markdown",
   "metadata": {},
   "source": [
    "Reconstruction of $D_{ij}$ and $V_i$ is performed in `LargeScaleCMF.fit()` and it is recommended to use that interface unless the graph interface is required for a specific reason."
   ]
  }
 ],
 "metadata": {
  "kernelspec": {
   "display_name": "lscmf-m1iwqHmf-py3.12",
   "language": "python",
   "name": "python3"
  },
  "language_info": {
   "codemirror_mode": {
    "name": "ipython",
    "version": 3
   },
   "file_extension": ".py",
   "mimetype": "text/x-python",
   "name": "python",
   "nbconvert_exporter": "python",
   "pygments_lexer": "ipython3",
   "version": "3.12.3"
  }
 },
 "nbformat": 4,
 "nbformat_minor": 2
}
