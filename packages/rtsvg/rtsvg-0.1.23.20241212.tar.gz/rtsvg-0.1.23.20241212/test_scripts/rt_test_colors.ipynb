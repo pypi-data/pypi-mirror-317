{
 "cells": [
  {
   "cell_type": "code",
   "execution_count": null,
   "metadata": {},
   "outputs": [],
   "source": [
    "import pandas as pd\n",
    "import numpy as np\n",
    "import sys\n",
    "sys.path.insert(1, '../rtsvg')\n",
    "from rtsvg import *\n",
    "rt = RACETrack()"
   ]
  },
  {
   "cell_type": "code",
   "execution_count": null,
   "metadata": {},
   "outputs": [],
   "source": [
    "df = pd.DataFrame({'bin': ['True','False'], 'count':[10, 8], \n",
    "                   'boolean':[True,False], 'first_cap':['True','False'], 'lower':['true','false'],\n",
    "                   'all_caps':['TRUE','FALSE']})\n",
    "params = {'df':df, 'bin_by':'bin', 'count_by':'count', 'h':128}\n",
    "rt.tile([rt.histogram(color_by='boolean', **params),\n",
    "         rt.histogram(color_by='first_cap', **params),\n",
    "         rt.histogram(color_by='lower', **params),\n",
    "         rt.histogram(color_by='all_caps', **params)])"
   ]
  },
  {
   "cell_type": "code",
   "execution_count": null,
   "metadata": {},
   "outputs": [],
   "source": []
  }
 ],
 "metadata": {
  "kernelspec": {
   "display_name": ".venv",
   "language": "python",
   "name": "python3"
  },
  "language_info": {
   "codemirror_mode": {
    "name": "ipython",
    "version": 3
   },
   "file_extension": ".py",
   "mimetype": "text/x-python",
   "name": "python",
   "nbconvert_exporter": "python",
   "pygments_lexer": "ipython3",
   "version": "3.11.6"
  }
 },
 "nbformat": 4,
 "nbformat_minor": 2
}
