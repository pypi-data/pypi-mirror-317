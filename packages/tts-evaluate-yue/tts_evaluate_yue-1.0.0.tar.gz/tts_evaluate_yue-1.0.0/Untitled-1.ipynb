{
 "cells": [
  {
   "cell_type": "code",
   "execution_count": 2,
   "metadata": {},
   "outputs": [
    {
     "name": "stderr",
     "output_type": "stream",
     "text": [
      "Device set to use cuda:0\n"
     ]
    }
   ],
   "source": [
    "import tts_evaluate_yue\n",
    "\n",
    "hf_asr = tts_evaluate_yue.HFASR(\n",
    "    \"/home/sage/datapreprocess/yue_v5_hf\",\n",
    "    \"/home/sage/datapreprocess/yue_v5_hf\"\n",
    ")\n",
    "faster_asr = tts_evaluate_yue.FasterASR(\n",
    "    \"/home/sage/faster-whisper-server/models/cwj/faster_whisper_yue_v5\"\n",
    ")\n",
    "# tts = tts_evaluate_yue.CosyVoiceTTS(\n",
    "#     \"/home/sage/CosyVoice/pretrained_models/CosyVoice-300M-SFT\"\n",
    "# )"
   ]
  },
  {
   "cell_type": "code",
   "execution_count": 3,
   "metadata": {},
   "outputs": [],
   "source": [
    "import torchaudio\n",
    "\n",
    "waveform, sample_rate = torchaudio.load(\"yue.mp3\")"
   ]
  },
  {
   "cell_type": "code",
   "execution_count": null,
   "metadata": {},
   "outputs": [
    {
     "name": "stderr",
     "output_type": "stream",
     "text": [
      "/home/sage/tts_evaluate_yue/.venv/lib/python3.11/site-packages/transformers/models/whisper/generation_whisper.py:512: FutureWarning: The input name `inputs` is deprecated. Please make sure to use `input_features` instead.\n",
      "  warnings.warn(\n",
      "Due to a bug fix in https://github.com/huggingface/transformers/pull/28687 transcription using a multilingual Whisper will default to language detection followed by transcription instead of translation to English.This might be a breaking change for your use case. If you want to instead always translate your audio to English, make sure to pass `language='en'`.\n",
      "Passing a tuple of `past_key_values` is deprecated and will be removed in Transformers v4.43.0. You should pass an instance of `EncoderDecoderCache` instead, e.g. `past_key_values=EncoderDecoderCache.from_legacy_cache(past_key_values)`.\n"
     ]
    },
    {
     "name": "stdout",
     "output_type": "stream",
     "text": [
      "('一問一件詭，七問一件詞，佢話詭詭詭詭詭詭詭詭詭詭詭詭詭詭詭詭詭詭詭詭詭詭詭詭詭詭詭詭詭詭詭詭詭詭詭詭詭詭詭詭詭詭詭詭詭詭詭詭詭詭詭詭詭詭詭詭詭詭詭詭詭詭詭詭詭詭詭詭詭詭詭詭詭詭詭詭詭詭詭詭詭詭詭詭詭詭詭詭詭詭詭詭詭詭詭詭詭詭詭詭詭詭詭詭詭詭詭詭詭詭詭詭詭詭詭詭詭詭詭詭詭詭詭詭詭詭詭詭詭詭詭詭詭詭詭詭詭詭詭詭詭詭詭詭詭詭詭詭詭詭詭詭詭詭詭詭詭詭詭詭詭詭詭詭詭詭詭詭詭詭詭詭詭詭詭詭詭詭詭詭詭詭詭詭詭詭詭詭詭詭詭詭詭詭詭詭詭詭詭詭詭詭詭詭詭詭詭詭詭詭詭�', 'cantonese')\n",
      "要問一件龜，出問一件紙，可話龜龜過紙或紙龜過龜，咁究竟龜過紙定係紙龜過龜。\n"
     ]
    }
   ],
   "source": [
    "print(faster_asr.get_asr(waveform.numpy()[0], \"auto\"))\n",
    "print(hf_asr.get_asr(waveform.numpy()[0], \"auto\"))"
   ]
  },
  {
   "cell_type": "code",
   "execution_count": null,
   "metadata": {},
   "outputs": [],
   "source": []
  },
  {
   "cell_type": "code",
   "execution_count": null,
   "metadata": {},
   "outputs": [],
   "source": []
  },
  {
   "cell_type": "code",
   "execution_count": null,
   "metadata": {},
   "outputs": [],
   "source": []
  }
 ],
 "metadata": {
  "kernelspec": {
   "display_name": ".venv",
   "language": "python",
   "name": "python3"
  },
  "language_info": {
   "codemirror_mode": {
    "name": "ipython",
    "version": 3
   },
   "file_extension": ".py",
   "mimetype": "text/x-python",
   "name": "python",
   "nbconvert_exporter": "python",
   "pygments_lexer": "ipython3",
   "version": "3.11.10"
  }
 },
 "nbformat": 4,
 "nbformat_minor": 2
}
