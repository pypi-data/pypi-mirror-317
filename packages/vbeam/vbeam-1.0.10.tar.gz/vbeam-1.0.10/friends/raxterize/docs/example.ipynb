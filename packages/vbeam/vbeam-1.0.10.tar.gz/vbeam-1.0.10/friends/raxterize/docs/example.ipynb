{
 "cells": [
  {
   "cell_type": "markdown",
   "metadata": {},
   "source": [
    "The next cell just beamforms an image:"
   ]
  },
  {
   "cell_type": "code",
   "execution_count": null,
   "metadata": {},
   "outputs": [],
   "source": [
    "from vbeam.fastmath import backend_manager\n",
    "\n",
    "backend_manager.active_backend = \"jax\"\n",
    "\n",
    "import jax\n",
    "import numpy as np\n",
    "import pyuff\n",
    "\n",
    "from vbeam.beamformers import get_beamformer\n",
    "from vbeam.data_importers import import_pyuff\n",
    "from vbeam.scan import Scanlines, sector_scan\n",
    "from vbeam.util.download import cached_download\n",
    "\n",
    "# Download and read the channel data\n",
    "data_url = \"http://www.ustb.no/datasets/Verasonics_P2-4_parasternal_long_small.uff\"\n",
    "uff = pyuff.Uff(cached_download(data_url))\n",
    "channel_data = uff.read(\"/channel_data\")\n",
    "\n",
    "# Import the data\n",
    "data = import_pyuff(channel_data, frames=0)\n",
    "\n",
    "# Define and set a custom sector scan\n",
    "scan_angles = np.array([wave.source.azimuth for wave in channel_data.sequence])\n",
    "scan_depths = np.linspace(0e-3, 110e-3, 512)\n",
    "data.scan = sector_scan(scan_angles, scan_depths).with_points_reshaper(Scanlines())\n",
    "\n",
    "# Get a default beamformer without cartesian mapping\n",
    "beamformer = jax.jit(get_beamformer(data, cartesian_map=False))\n",
    "result = beamformer()"
   ]
  },
  {
   "cell_type": "markdown",
   "metadata": {},
   "source": [
    "Let's rasterize it!"
   ]
  },
  {
   "cell_type": "code",
   "execution_count": null,
   "metadata": {},
   "outputs": [],
   "source": [
    "import matplotlib.pyplot as plt\n",
    "from raxterize.core import image2polygons, lerp_all\n",
    "\n",
    "from vbeam.scan.common import grid\n",
    "\n",
    "# Convert the image to polygons\n",
    "polygons = image2polygons(data.scan.get_point_cube(), result)\n",
    "\n",
    "# Create the grid that we want to rasterize to\n",
    "nx, ny = 200, 200\n",
    "new_grid = grid(\n",
    "    np.linspace(-0.08, 0.08, nx),\n",
    "    np.array([0]),\n",
    "    np.linspace(0, 0.11, ny),\n",
    "    shape=(nx * ny, 3),\n",
    ")\n",
    "\n",
    "# Rasterize the polygons to the grid\n",
    "rasterized_result = lerp_all(polygons, new_grid)\n",
    "\n",
    "# Show image\n",
    "plt.imshow(rasterized_result.reshape(nx, ny).T, aspect=\"auto\")\n"
   ]
  }
 ],
 "metadata": {
  "kernelspec": {
   "display_name": "Python 3.9.7 ('.venv': poetry)",
   "language": "python",
   "name": "python3"
  },
  "language_info": {
   "codemirror_mode": {
    "name": "ipython",
    "version": 3
   },
   "file_extension": ".py",
   "mimetype": "text/x-python",
   "name": "python",
   "nbconvert_exporter": "python",
   "pygments_lexer": "ipython3",
   "version": "3.9.7"
  },
  "orig_nbformat": 4,
  "vscode": {
   "interpreter": {
    "hash": "da993329905889b8b94b4daac68b0f870f0107ce133530fba10bb9f91ed53fb2"
   }
  }
 },
 "nbformat": 4,
 "nbformat_minor": 2
}
