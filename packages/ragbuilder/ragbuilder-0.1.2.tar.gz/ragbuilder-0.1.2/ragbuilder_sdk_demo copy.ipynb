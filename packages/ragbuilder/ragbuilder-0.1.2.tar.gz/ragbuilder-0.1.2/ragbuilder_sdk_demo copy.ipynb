{
 "cells": [
  {
   "cell_type": "markdown",
   "metadata": {},
   "source": [
    "## Overall Optimization Demo - Quickstart"
   ]
  },
  {
   "cell_type": "code",
   "execution_count": null,
   "metadata": {},
   "outputs": [],
   "source": [
    "# First clone the RAGBuilder repo\n",
    "!git clone https://github.com/KruxAI/ragbuilder.git"
   ]
  },
  {
   "cell_type": "code",
   "execution_count": 10,
   "metadata": {},
   "outputs": [],
   "source": [
    "from ragbuilder import RAGBuilder, DataIngestOptionsConfig, RetrievalOptionsConfig\n",
    "from ragbuilder.generation.sample_retriever import sample_retriever"
   ]
  },
  {
   "cell_type": "code",
   "execution_count": 11,
   "metadata": {},
   "outputs": [
    {
     "name": "stdout",
     "output_type": "stream",
     "text": [
      "rag_get_retriever initiated\n",
      "An error occurred: An instance of Chroma already exists for ephemeral with different settings\n"
     ]
    },
    {
     "name": "stderr",
     "output_type": "stream",
     "text": [
      "Traceback (most recent call last):\n",
      "  File \"/Users/ashwinaravind/Desktop/kruxgitrepo/ragbuilder/src/ragbuilder/generation/sample_retriever.py\", line 34, in sample_retriever\n",
      "    # Initialize Chroma database\n",
      "        ^^^^^^^^^^^^^^^^^^^^^^^^\n",
      "  File \"/Users/ashwinaravind/.pyenv/versions/3.12.5/lib/python3.12/site-packages/langchain_chroma/vectorstores.py\", line 1128, in from_documents\n",
      "    return cls.from_texts(\n",
      "           ^^^^^^^^^^^^^^^\n",
      "  File \"/Users/ashwinaravind/.pyenv/versions/3.12.5/lib/python3.12/site-packages/langchain_chroma/vectorstores.py\", line 1061, in from_texts\n",
      "    chroma_collection = cls(\n",
      "                        ^^^^\n",
      "  File \"/Users/ashwinaravind/.pyenv/versions/3.12.5/lib/python3.12/site-packages/langchain_chroma/vectorstores.py\", line 313, in __init__\n",
      "    self._client = chromadb.Client(_client_settings)\n",
      "                   ^^^^^^^^^^^^^^^^^^^^^^^^^^^^^^^^^\n",
      "  File \"/Users/ashwinaravind/.pyenv/versions/3.12.5/lib/python3.12/site-packages/chromadb/__init__.py\", line 334, in Client\n",
      "    return ClientCreator(tenant=tenant, database=database, settings=settings)\n",
      "           ^^^^^^^^^^^^^^^^^^^^^^^^^^^^^^^^^^^^^^^^^^^^^^^^^^^^^^^^^^^^^^^^^^\n",
      "  File \"/Users/ashwinaravind/.pyenv/versions/3.12.5/lib/python3.12/site-packages/chromadb/api/client.py\", line 55, in __init__\n",
      "    super().__init__(settings=settings)\n",
      "  File \"/Users/ashwinaravind/.pyenv/versions/3.12.5/lib/python3.12/site-packages/chromadb/api/shared_system_client.py\", line 19, in __init__\n",
      "    SharedSystemClient._create_system_if_not_exists(self._identifier, settings)\n",
      "  File \"/Users/ashwinaravind/.pyenv/versions/3.12.5/lib/python3.12/site-packages/chromadb/api/shared_system_client.py\", line 38, in _create_system_if_not_exists\n",
      "    raise ValueError(\n",
      "ValueError: An instance of Chroma already exists for ephemeral with different settings\n"
     ]
    },
    {
     "ename": "AttributeError",
     "evalue": "'NoneType' object has no attribute 'invoke'",
     "output_type": "error",
     "traceback": [
      "\u001b[0;31m---------------------------------------------------------------------------\u001b[0m",
      "\u001b[0;31mAttributeError\u001b[0m                            Traceback (most recent call last)",
      "Cell \u001b[0;32mIn[11], line 1\u001b[0m\n\u001b[0;32m----> 1\u001b[0m r\u001b[38;5;241m=\u001b[39m\u001b[43msample_retriever\u001b[49m\u001b[43m(\u001b[49m\u001b[43m)\u001b[49m\u001b[38;5;241;43m.\u001b[39;49m\u001b[43minvoke\u001b[49m(\u001b[38;5;124m\"\u001b[39m\u001b[38;5;124mwho is Clara?\u001b[39m\u001b[38;5;124m\"\u001b[39m)\n\u001b[1;32m      2\u001b[0m r\n",
      "\u001b[0;31mAttributeError\u001b[0m: 'NoneType' object has no attribute 'invoke'"
     ]
    }
   ],
   "source": [
    "r=sample_retriever().invoke(\"who is Clara?\")\n",
    "r"
   ]
  },
  {
   "cell_type": "code",
   "execution_count": null,
   "metadata": {},
   "outputs": [],
   "source": []
  }
 ],
 "metadata": {
  "kernelspec": {
   "display_name": "ragbuilder",
   "language": "python",
   "name": "python3"
  },
  "language_info": {
   "codemirror_mode": {
    "name": "ipython",
    "version": 3
   },
   "file_extension": ".py",
   "mimetype": "text/x-python",
   "name": "python",
   "nbconvert_exporter": "python",
   "pygments_lexer": "ipython3",
   "version": "3.12.5"
  }
 },
 "nbformat": 4,
 "nbformat_minor": 2
}
