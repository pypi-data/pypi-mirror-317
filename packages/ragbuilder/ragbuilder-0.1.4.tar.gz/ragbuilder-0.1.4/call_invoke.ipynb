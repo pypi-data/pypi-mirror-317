{
 "cells": [
  {
   "cell_type": "code",
   "execution_count": 1,
   "metadata": {},
   "outputs": [
    {
     "name": "stdout",
     "output_type": "stream",
     "text": [
      "{\"response\":{\"answer\":\"Answer: Joey's roommate was Chandler Bing. This is a well-known aspect of the show \\\"Friends,\\\" where Joey and Chandler share an apartment together throughout much of the series.\",\"context\":\"The One Where Monica Gets a New Roommate (The Pilot-The Uncut Version)\\n\\nTranscribed by: guineapig Additional transcribing by: Eric Aasen (Note: The previously unseen parts of this episode are shown in\\n\\nFrannie: Hey, Monica!\\n\\nMonica: Hey Frannie, welcome back! How was Florida?\\n\\nFrannie: You had sex, didn't you?\\n\\nMonica: How do you do that?\\n\\nSo? Who?\\n\\nMonica: You know Paul?\\n\\nFrannie: Paul the Wine Guy? Oh yeah, I know Paul.\\n\\nMonica: You mean you know Paul like I know Paul?\\n\\nFrannie: Are you kidding? I take credit for Paul. Y'know before me, there was no snap in his turtle for two years.\\n\\n[Scene: Central Perk, everyone but Rachel is there.]\\n\\nJoey: (sitting on the arm of the couch)Of course it was a line!\\n\\nMonica: Why?! Why? Why, why would anybody do something like that?\\n\\nRoss: I assume we're looking for an answer more sophisticated than 'to get you into bed'.\\n\\nPhoebe: All right, c'mere, gimme your feet. (She starts massaging them.)\\n\\nMonica: I just thought he was nice, y'know?\\n\\nJoey: (bursts out laughing again) I can't believe you didn't know it was a line!\\n\\n(Monica pushes him off of the sofa as Rachel enters with a shopping bag.)\\n\\nRachel: Guess what?\\n\\nRoss: You got a job?\\n\\nRachel: Are you kidding? I'm trained for nothing! I was laughed out of twelve interviews today.\\n\\nChandler: And yet you're surprisingly upbeat.\\n\\nRachel: You would be too if you found John and David boots on sale, fifty percent off!\\n\\nChandler: Oh, how well you know me...\\n\\nRachel: They're my new 'I don't need a job, I don't need my parents, I've got great boots' boots!\\n\\nMonica: How'd you pay for them?\\n\\nRachel: Uh, credit card.\\n\\nMonica: And who pays for that?\\n\\nRachel: Um... my... father.\\n\\n[Scene: Monica and Rachel's, everyone is sitting around the kitchen table. Rachel's credit cards are spread out on the table along with a pair of scissors.]\\n\\nMonica: C'mon, you can't live off your parents your whole life.\\n\\nRachel: I know that. That's why I was getting married.\\nJennifer: With Operation.\\n\\nConan: It was a little game. Yeah, with an electric buzzer.\\n\\n[Cut to Monica and Chandler's, The One With George Stephanopoulos, Phoebe is showing Monica and Rachel that she brought Operation to their slumber party.]\\n\\nPhoebe: Oh-ooh, and I brought Operation, but umm I lost the umm (It starts buzzing) Its making a noise.\\n\\n[Cut back to the cast and Conan.]\\n\\nLisa: But le Blanc really doesnt mess up much.\\n\\nConan: You dont verbally mess up, but sometimes physically? You mess up.\\n\\nMatt: I have had some clumsy moments I guess you can call em.\\n\\n[Cut to Central Perk, to the theme from The Dick Van Dyke show Joey runs into Central Perk carrying a stack of Soap Opera Digests and falls on the step. He does bounce right back up making it all that much funnier.]\\n\\n[Cut back to the cast and Conan.]\\n\\nLisa: He fell down once! And we re-did it and we went back. And he(laughs)he was afraid he was gonna fall down\\n\\nConan: You could actually see him trying not to fall down.\\n\\n[Cut to Central Perk, same as before Joey is entering.]\\n\\nJoey: Pheebs! (He looks down as he goes down the step to make sure he didnt fall again.) Check it out! (He starts laughing when he realized what he did.)\\n\\n[Cut back to the cast and Conan.]\\n\\nCourtney: This particular time when he continued to fall or yknow, try not to fall, I was in the room with Matthew and Matthew was like, \\\"Should I do it?\\\"\\n\\n[Reset from before, Matt doesnt fall or look down.]\\n\\nJoey: Pheebs! Check it out! Check it out! Check it out! Check it out! (Hands her one.)\\n\\nPhoebe: Ooh, Soap Opera Digest!\\n\\n(As shes saying that Joey is to pull out a chair and sit down, only Matthew comes running in from off camera and dives for the same chair.)\\n\\n[Cut back to the cast and Conan.]\\n\\nConan: Matthew, you have a reputation with the rest of the cast that sometimes you like to, you like to fool around a bit. I mean like if somethings naturally going wrong you like to get in there and juice it a little bit. True or false?\\n[Cut to Joey and Rachel's, Joey and Ross are giving Phoebe and Rachel the brides maid test.]\\n\\nJoey: Okay, the next situation is for Rachel. The wedding is about to start you walk into the back room and you find Monica taking a nap with Ross. (Ross lies on the floor.) Ill be Monica. Go! (He jumps down and cuddles up with Ross.)\\n\\nRoss: (jumping up) No! No! No!\\n\\n(David and Matt just lose it then.)\\n\\n[Cut back to the cast and Conan.]\\n\\nConan: Well be right back with more Friends, less me.\\n\\n[Cut to Monica and Chandler's, Courtney and Matthew are getting ready to do a scene where Monicas sick.]\\n\\nCourtney: Im doing my brother.\\n\\nMatthew: Thats gross.\\n\\nCommercial Break\\n\\n[Conan and the cast in Central Perk.]\\n\\nConan: You uh, youve worked withThey always say a performer should never work with pets or children.\\n\\nJennifer: Aww, the kids.\\n\\n[Cut to Carol and Susans apartment, from next weeks episode Rachel is talking to Ben.]\\n\\nThe Director: Action.\\n\\nRachel: Okay. NowWhat is my first line?\\n\\nBen: (prompting her) What did we agree?\\n\\nJennifer: Okay\\n\\n[Cut back to the cast and Conan.]\\n\\nDavid: The good thing about the young kids though, theyre completely unpredictable. Which is a lot of fun as an actor to respond with. But there was one story\\n\\nJennifer: Oh little Ben.\\n\\nDavid: Where the story was that I was anticipating that I would be around to hear my sons first words spoken. But the scene was about that he wasnt supposed to be able to speak and, uh for some reason when we started doing the show\\n\\n[Cut to Central Perk, Ross is taking Ben to visit Rachel whos working there.]\\n\\nRoss: Hi! Were visiting!\\n\\nRachel: Yay!\\n\\nRoss: Its Ben and his Da-Da. Da-Da? Can you say Da-Da? Yknow, you might as well say it because I told your\\n\\nBen: Da Da.\\n\\n[Reset]\\n\\nRoss: Can you say Da-Da? See, Im gonna tell your mommies you said it anyway, so you might as well try\\n\\nBen: Da Da.\\n\\nRoss: Huh?\\n\\nBen: Da Da.\\n\\nDavid: Yeah, hes saying Da-Da.\\n\\n[Cut back to the cast and Conan.]\"}}"
     ]
    }
   ],
   "source": [
    "!curl -X POST http://localhost:8005/invoke \\\n",
    "-H \"Content-Type: application/json\" \\\n",
    "-d '{\"query\": \"Who was joeys roomate?\"}'\n"
   ]
  }
 ],
 "metadata": {
  "kernelspec": {
   "display_name": "Python 3",
   "language": "python",
   "name": "python3"
  },
  "language_info": {
   "codemirror_mode": {
    "name": "ipython",
    "version": 3
   },
   "file_extension": ".py",
   "mimetype": "text/x-python",
   "name": "python",
   "nbconvert_exporter": "python",
   "pygments_lexer": "ipython3",
   "version": "3.12.5"
  }
 },
 "nbformat": 4,
 "nbformat_minor": 2
}
