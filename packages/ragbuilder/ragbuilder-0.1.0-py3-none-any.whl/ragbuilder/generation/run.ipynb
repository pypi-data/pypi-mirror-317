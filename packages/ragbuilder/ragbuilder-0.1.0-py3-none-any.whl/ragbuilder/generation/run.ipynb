{
 "cells": [
  {
   "cell_type": "code",
   "execution_count": 3,
   "metadata": {},
   "outputs": [
    {
     "name": "stdout",
     "output_type": "stream",
     "text": [
      "starting\n",
      "printing config llms=[GenerationConfig(type=<LLM.AZURE_OPENAI: 'azure_openai'>, model_kwargs={'model_name': 'gpt-4o-mini', 'temperature': 0.6}, prompt_template=None)] prompt_template_path=None\n",
      "printing config llms=[GenerationConfig(type=<LLM.AZURE_OPENAI: 'azure_openai'>, model_kwargs={'model_name': 'gpt-4o-mini', 'temperature': 0.6}, prompt_template=None)] prompt_template_path=None\n",
      "Fetching prompts from online file: https://raw.githubusercontent.com/ashwinaravind/rag_prompts/refs/heads/main/rag_prompts.yml\n",
      "trial_configs [GenerationConfig(type=<LLM.AZURE_OPENAI: 'azure_openai'>, model_kwargs={'model_name': 'gpt-4o-mini', 'temperature': 0.6}, prompt_template='You are a helpful assistant. Answer any questions solely based on the context provided below. \\nIf the provided context does not have the relevant facts to answer the question, say \"I don\\'t know.\"\\n\\n<context>\\n{context}\\n</context>\\n')]\n",
      "RAGASEvaluator initiated\n",
      "rag_get_retriever initiated\n",
      "rag_get_retriever completed\n",
      "prompt_template You are a helpful assistant. Answer any questions solely based on the context provided below. \n",
      "If the provided context does not have the relevant facts to answer the question, say \"I don't know.\"\n",
      "\n",
      "<context>\n",
      "{context}\n",
      "</context>\n",
      "\n",
      "testing retriever\n",
      " [Document(metadata={'source': 'https://raw.githubusercontent.com/ashwinaravind/ashwinaravind.github.io/refs/heads/main/thevanishingtown'}, page_content='A young woman.\\n\\n---\\n\\n## Chunk 3: The Locket’s Secret\\n\\nClara awoke to a sound—footsteps. Her eyes shot open. In the dim light, she saw a man standing at the door, silhouetted against the night. His green eyes gleamed in the shadows.\\n\\n“Who are you?” she stammered, clutching her locket.\\n\\n“I could ask you the same,” the man replied, stepping forward. “This is my family’s cabin. What are you doing here?”'), Document(metadata={'source': 'https://raw.githubusercontent.com/ashwinaravind/ashwinaravind.github.io/refs/heads/main/thevanishingtown'}, page_content='“Who are you?” she stammered, clutching her locket.\\n\\n“I could ask you the same,” the man replied, stepping forward. “This is my family’s cabin. What are you doing here?”\\n\\nClara’s mind raced. Family? She looked him over. There was something familiar about him, though she was certain they had never met. But those eyes—they felt as though they belonged in her memories, as if they had been watching her all her life.'), Document(metadata={'source': 'https://raw.githubusercontent.com/ashwinaravind/ashwinaravind.github.io/refs/heads/main/thevanishingtown'}, page_content='Just before dusk, Clara stumbled upon a small clearing. In the center stood a dilapidated cabin. Exhausted and with nowhere else to go, she approached. The door creaked open with the softest push, revealing a dusty, abandoned space. She slumped down against the cold stone hearth, staring blankly at the flickering fire she had somehow managed to start.'), Document(metadata={'source': 'https://raw.githubusercontent.com/ashwinaravind/ashwinaravind.github.io/refs/heads/main/thevanishingtown'}, page_content='Before she could respond, the man’s gaze fell on the locket around her neck. His expression changed. “Where did you get that?” he asked sharply.\\n\\n“My mother gave it to me,” Clara said, her fingers instinctively curling around the silver chain. “It’s all I have left of her.”\\n\\nThe man took another step closer, eyes fixed on the locket. “That was my mother’s,” he said softly. “She vanished years ago, wearing that locket.”'), Document(metadata={'source': 'https://raw.githubusercontent.com/ashwinaravind/ashwinaravind.github.io/refs/heads/main/thevanishingtown'}, page_content='The man took another step closer, eyes fixed on the locket. “That was my mother’s,” he said softly. “She vanished years ago, wearing that locket.”\\n\\nClara’s pulse quickened. “That’s impossible. My mother disappeared too—ten years ago.”\\n\\nFor a long moment, neither spoke. Then, without warning, the locket around Clara’s neck grew warm. The clasp that had been locked for years suddenly gave way, and the locket fell open.')]\n",
      "rag_pipeline completed\n"
     ]
    },
    {
     "data": {
      "application/vnd.jupyter.widget-view+json": {
       "model_id": "eb59c01f05d44b2e9d0f5124af95efb9",
       "version_major": 2,
       "version_minor": 0
      },
      "text/plain": [
       "Map:   0%|          | 0/1 [00:00<?, ? examples/s]"
      ]
     },
     "metadata": {},
     "output_type": "display_data"
    },
    {
     "name": "stdout",
     "output_type": "stream",
     "text": [
      "test_prompt completed\n"
     ]
    },
    {
     "data": {
      "application/vnd.jupyter.widget-view+json": {
       "model_id": "5b2fb0a6c3514debabd7441c42f93284",
       "version_major": 2,
       "version_minor": 0
      },
      "text/plain": [
       "Evaluating:   0%|          | 0/5 [00:00<?, ?it/s]"
      ]
     },
     "metadata": {},
     "output_type": "display_data"
    },
    {
     "name": "stdout",
     "output_type": "stream",
     "text": [
      "evaluate_prompts completed\n",
      "Dataset({\n",
      "    features: ['prompt_key', 'prompt', 'question', 'answer', 'ground_truth', 'answer_correctness', 'faithfulness', 'answer_relevancy', 'context_precision', 'context_recall', 'config'],\n",
      "    num_rows: 1\n",
      "})\n",
      "The average correctness results have been saved to 'rag_average_correctness.csv'\n"
     ]
    }
   ],
   "source": [
    "#how to use\n",
    "from ragbuilder.generation.config import GenerationConfig, GenerationOptionsConfig\n",
    "from ragbuilder.generation.generator import SystemPromptGenerator\n",
    "from ragbuilder.generation.sample_retriever import sample_retriever\n",
    "from ragbuilder.generation.evaluation import RAGASEvaluator\n",
    "print(\"starting\")\n",
    "gen=SystemPromptGenerator(GenerationOptionsConfig.from_yaml(\"config.yaml\"),RAGASEvaluator)\n",
    "prompt_key, prompt, max_average_correctness, config=gen.optimize()\n",
    "best_config_py_model=GenerationConfig(**config)\n",
    "best_gen=gen._create_pipeline(best_config_py_model,sample_retriever())\n",
    "best_gen.invoke(\"Who is Clara?\")"
   ]
  }
 ],
 "metadata": {
  "kernelspec": {
   "display_name": "Python 3",
   "language": "python",
   "name": "python3"
  },
  "language_info": {
   "codemirror_mode": {
    "name": "ipython",
    "version": 3
   },
   "file_extension": ".py",
   "mimetype": "text/x-python",
   "name": "python",
   "nbconvert_exporter": "python",
   "pygments_lexer": "ipython3",
   "version": "3.12.5"
  }
 },
 "nbformat": 4,
 "nbformat_minor": 2
}
