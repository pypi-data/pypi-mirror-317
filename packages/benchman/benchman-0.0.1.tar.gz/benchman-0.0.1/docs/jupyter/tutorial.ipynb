{
 "cells": [
  {
   "cell_type": "code",
   "execution_count": 1,
   "metadata": {},
   "outputs": [],
   "source": [
    "from benchman import BenchmarkManager\n",
    "\n",
    "bm = BenchmarkManager()\n",
    "\n",
    "\n",
    "def binomial(n, k):\n",
    "    if k == 0 or k == n:\n",
    "        return 1\n",
    "    return binomial(n - 1, k - 1) + binomial(n - 1, k)"
   ]
  },
  {
   "cell_type": "markdown",
   "metadata": {},
   "source": [
    "Run"
   ]
  },
  {
   "cell_type": "code",
   "execution_count": null,
   "metadata": {},
   "outputs": [
    {
     "name": "stderr",
     "output_type": "stream",
     "text": [
      "/var/folders/mv/9b0vyxns2hz7_py4gn81tvjw0000gn/T/ipykernel_70487/2594036524.py:1: UserWarning: Application is running in debug mode. This may be due coverage, a debugger or other instrumentation. Performance timings may be affected!\n",
      "  bm.run_timings(\n"
     ]
    },
    {
     "name": "stdout",
     "output_type": "stream",
     "text": [
      "Group: default\n",
      "  1: binomial: 20 loops, best of 5: 15.336 msec per loop (1.3 K per sec.), 0 outliers\n"
     ]
    },
    {
     "data": {
      "text/plain": [
       "BenchmarkManager<BaseContextInfo_MacBookPro.fritz.box, n=1>"
      ]
     },
     "execution_count": 2,
     "metadata": {},
     "output_type": "execute_result"
    }
   ],
   "source": [
    "bm.run_timings(\n",
    "    \"binomial\",\n",
    "    # sample_size=\"\",  #\n",
    "    stmt=\"binomial(20, 10)\",\n",
    "    globals={\"binomial\": binomial},\n",
    ")\n",
    "bm.report()\n",
    "bm"
   ]
  }
 ],
 "metadata": {
  "kernelspec": {
   "display_name": ".venv",
   "language": "python",
   "name": "python3"
  },
  "language_info": {
   "codemirror_mode": {
    "name": "ipython",
    "version": 3
   },
   "file_extension": ".py",
   "mimetype": "text/x-python",
   "name": "python",
   "nbconvert_exporter": "python",
   "pygments_lexer": "ipython3",
   "version": "3.12.6"
  }
 },
 "nbformat": 4,
 "nbformat_minor": 2
}
