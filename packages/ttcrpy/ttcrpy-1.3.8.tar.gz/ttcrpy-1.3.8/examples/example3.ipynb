{
 "cells": [
  {
   "cell_type": "code",
   "execution_count": 1,
   "id": "ce0e1f0d",
   "metadata": {},
   "outputs": [],
   "source": [
    "import time\n",
    "import numpy as np\n",
    "import matplotlib.pyplot as plt\n",
    "from scipy.signal import medfilt\n",
    "import pyfftw\n",
    "\n",
    "plt.rcdefaults()\n",
    "plt.style.use('seaborn-paper')\n",
    "plt.rc('font', **{'family': 'sans-serif', 'sans-serif': ['Helvetica']})\n",
    "\n",
    "from ttcrpy.rgrid import Grid3d"
   ]
  },
  {
   "cell_type": "markdown",
   "id": "936d5e07",
   "metadata": {},
   "source": [
    "# Example 3 - Random medium\n",
    "\n",
    "This examples illustrates raytracing capabilities for a random spatial distribution of velocity."
   ]
  },
  {
   "cell_type": "code",
   "execution_count": 2,
   "id": "712bdd4d",
   "metadata": {},
   "outputs": [],
   "source": [
    "# Generate random field\n",
    "\n",
    "nx = 256\n",
    "ny = 256\n",
    "nz = 128\n",
    "\n",
    "dx = 1.0\n",
    "dy = 1.0\n",
    "dz = 1.0\n",
    "\n",
    "beta = 3.5  \n",
    "\n",
    "m = np.random.randn(ny, nx, nz)\n",
    "\n",
    "m_fftw = pyfftw.empty_aligned((ny, nx, nz), dtype='float32')\n",
    "M_fftw = pyfftw.empty_aligned((ny, nx, nz//2 + 1), dtype='complex64')\n",
    "m2_fftw = pyfftw.empty_aligned((ny, nx, nz), dtype='float32')\n",
    "\n",
    "fft_object_fw = pyfftw.FFTW(m_fftw, M_fftw, axes=(0,1,2))\n",
    "fft_object_bw = pyfftw.FFTW(M_fftw, m2_fftw, axes=(0,1,2), direction='FFTW_BACKWARD')\n",
    "\n",
    "M = pyfftw.interfaces.numpy_fft.fftn(m, axes=(0,1,2), threads=16)\n",
    "\n",
    "m_fftw[:] = m[:]\n",
    "\n",
    "fft_object_fw()\n",
    "\n",
    "kx = 2.*np.pi * np.fft.fftfreq(nx, dx)\n",
    "ky = 2.*np.pi * np.fft.fftfreq(ny, dy)\n",
    "kz = 2.*np.pi * np.fft.fftfreq(nz, dz)\n",
    "\n",
    "kx, ky, kz = np.meshgrid(kx, ky, kz, indexing='ij')\n",
    "\n",
    "k = np.sqrt( kx**2 + ky**2 + kz**2 )\n",
    "\n",
    "ind = k != 0.0\n",
    "\n",
    "k[ind] = k[ind]**(-beta/2.)\n",
    "\n",
    "M = M * k\n",
    "m = pyfftw.interfaces.numpy_fft.ifftn( M, axes=(0,1,2), threads=16 )\n",
    "\n",
    "m = medfilt(np.real(m))  # smooth out a bit with a 3-pts median filter"
   ]
  },
  {
   "cell_type": "code",
   "execution_count": 3,
   "id": "1380b58a",
   "metadata": {},
   "outputs": [],
   "source": [
    "# coordinates of the nodes\n",
    "xn = np.arange(0, (nx+1)*dx, dx)\n",
    "yn = np.arange(0, (ny+1)*dy, dy)\n",
    "zn = np.arange(0, (nz+1)*dz, dz)\n",
    "\n",
    "# create grid with default values (by default, slowness is defined for cells).\n",
    "# We will compute traveltimes for two sources, this will be done in parallel\n",
    "# using two threads.\n",
    "grid = Grid3d(xn, yn, zn, n_threads=2)"
   ]
  },
  {
   "cell_type": "code",
   "execution_count": 4,
   "id": "a7650c4f",
   "metadata": {},
   "outputs": [],
   "source": [
    "# make realistic values of velocity\n",
    "fac = 200.0\n",
    "velocity = 4000.0 + fac * m.flatten()\n",
    "\n",
    "# Assign slowness to grid\n",
    "grid.set_slowness(1.0/velocity)\n",
    "\n",
    "# Save to VTK format to visualize\n",
    "grid.to_vtk({'Velocity': velocity}, 'example3_vel')"
   ]
  },
  {
   "cell_type": "markdown",
   "id": "a2d431da",
   "metadata": {},
   "source": [
    "The velocity model looks like the following.\n",
    "\n",
    "<img src=\"figs/example3_model.png\"  width=\"800\"/>\n",
    "\n",
    "Let's now perform raytracing for some arbitrary sources and receivers."
   ]
  },
  {
   "cell_type": "code",
   "execution_count": 5,
   "id": "770656ff",
   "metadata": {},
   "outputs": [],
   "source": [
    "# Define the source location\n",
    "src = np.array([[9.0, 4.3, 124.2],\n",
    "                [4.1, 241.4, 119.7]])\n",
    "\n",
    "# Define some receivers\n",
    "rcv = np.array([[222.2, 3.4, 1.2],\n",
    "                [206.8, 155.4, 3.3],\n",
    "                [178.9, 251.1, 10.4]])\n",
    "\n",
    "# Make src & rcv pairs\n",
    "\n",
    "src = np.kron(src, np.ones((3, 1)))\n",
    "rcv = np.kron(np.ones((2, 1)), rcv)\n",
    "\n",
    "tt, rays = grid.raytrace(src, rcv, return_rays=True)\n",
    "\n",
    "# Save raypaths\n",
    "grid.to_vtk({'raypaths for shot no 1': rays[:3],\n",
    "            'raypaths for shot no 2': rays[3:]}, 'example3_rays')"
   ]
  },
  {
   "cell_type": "markdown",
   "id": "aa40333e",
   "metadata": {},
   "source": [
    "The raypaths for the first source are in green, and in blue for the second source.\n",
    "\n",
    "<img src=\"figs/example3_rays.png\"  width=\"800\"/>\n"
   ]
  },
  {
   "cell_type": "code",
   "execution_count": null,
   "id": "cc8c383a",
   "metadata": {},
   "outputs": [],
   "source": []
  }
 ],
 "metadata": {
  "kernelspec": {
   "display_name": "Python 3 (ipykernel)",
   "language": "python",
   "name": "python3"
  },
  "language_info": {
   "codemirror_mode": {
    "name": "ipython",
    "version": 3
   },
   "file_extension": ".py",
   "mimetype": "text/x-python",
   "name": "python",
   "nbconvert_exporter": "python",
   "pygments_lexer": "ipython3",
   "version": "3.9.13"
  }
 },
 "nbformat": 4,
 "nbformat_minor": 5
}
