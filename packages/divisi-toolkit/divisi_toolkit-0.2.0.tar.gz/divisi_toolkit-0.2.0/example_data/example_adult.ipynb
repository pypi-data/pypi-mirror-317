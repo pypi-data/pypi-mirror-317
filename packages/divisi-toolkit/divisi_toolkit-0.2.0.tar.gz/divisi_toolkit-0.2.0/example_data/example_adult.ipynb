{
 "cells": [
  {
   "cell_type": "markdown",
   "id": "26310830-b9e0-46d7-b95a-6d7ef3720763",
   "metadata": {},
   "source": [
    "# Slice Finding on UCI Adult"
   ]
  },
  {
   "cell_type": "code",
   "execution_count": 14,
   "id": "76691ec8-d59c-46ba-b25d-1420e8811277",
   "metadata": {},
   "outputs": [
    {
     "name": "stdout",
     "output_type": "stream",
     "text": [
      "Requirement already satisfied: pandas in /Users/zxl/anaconda3/envs/slicing/lib/python3.9/site-packages (2.2.0)\n",
      "Requirement already satisfied: numpy<2,>=1.22.4 in /Users/zxl/anaconda3/envs/slicing/lib/python3.9/site-packages (from pandas) (1.26.4)\n",
      "Requirement already satisfied: python-dateutil>=2.8.2 in /Users/zxl/anaconda3/envs/slicing/lib/python3.9/site-packages (from pandas) (2.8.2)\n",
      "Requirement already satisfied: pytz>=2020.1 in /Users/zxl/anaconda3/envs/slicing/lib/python3.9/site-packages (from pandas) (2024.1)\n",
      "Requirement already satisfied: tzdata>=2022.7 in /Users/zxl/anaconda3/envs/slicing/lib/python3.9/site-packages (from pandas) (2024.1)\n",
      "Requirement already satisfied: six>=1.5 in /Users/zxl/anaconda3/envs/slicing/lib/python3.9/site-packages (from python-dateutil>=2.8.2->pandas) (1.16.0)\n",
      "Requirement already satisfied: xgboost in /Users/zxl/anaconda3/envs/slicing/lib/python3.9/site-packages (2.0.3)\n",
      "Requirement already satisfied: numpy in /Users/zxl/anaconda3/envs/slicing/lib/python3.9/site-packages (from xgboost) (1.26.4)\n",
      "Requirement already satisfied: scipy in /Users/zxl/anaconda3/envs/slicing/lib/python3.9/site-packages (from xgboost) (1.12.0)\n",
      "Requirement already satisfied: scikit-learn in /Users/zxl/anaconda3/envs/slicing/lib/python3.9/site-packages (1.4.1.post1)\n",
      "Requirement already satisfied: numpy<2.0,>=1.19.5 in /Users/zxl/anaconda3/envs/slicing/lib/python3.9/site-packages (from scikit-learn) (1.26.4)\n",
      "Requirement already satisfied: scipy>=1.6.0 in /Users/zxl/anaconda3/envs/slicing/lib/python3.9/site-packages (from scikit-learn) (1.12.0)\n",
      "Requirement already satisfied: joblib>=1.2.0 in /Users/zxl/anaconda3/envs/slicing/lib/python3.9/site-packages (from scikit-learn) (1.3.2)\n",
      "Requirement already satisfied: threadpoolctl>=2.0.0 in /Users/zxl/anaconda3/envs/slicing/lib/python3.9/site-packages (from scikit-learn) (3.3.0)\n"
     ]
    }
   ],
   "source": [
    "!pip install pandas\n",
    "!pip install xgboost\n",
    "!pip install scikit-learn"
   ]
  },
  {
   "cell_type": "code",
   "execution_count": 2,
   "id": "566ab553-91ba-49dc-94d7-37e81024c91e",
   "metadata": {
    "tags": []
   },
   "outputs": [],
   "source": [
    "import numpy as np\n",
    "import pandas as pd\n",
    "from sklearn.model_selection import train_test_split\n",
    "import xgboost\n",
    "import divisi"
   ]
  },
  {
   "cell_type": "code",
   "execution_count": 3,
   "id": "5e659ff5-d18d-4cd8-b4a5-df4d2b174f6c",
   "metadata": {
    "tags": []
   },
   "outputs": [
    {
     "name": "stdout",
     "output_type": "stream",
     "text": [
      "Train + test error rate: 11.57%\n"
     ]
    }
   ],
   "source": [
    "# Read the adult dataset and create a simple XGBoost model. The task is to predict\n",
    "# whether someone makes over 50K in income.\n",
    "\n",
    "df = pd.read_csv(\"adult.csv\")\n",
    "\n",
    "df_prepped = df.drop(columns=['fnlwgt', 'educational-num'])\n",
    "\n",
    "X = df_prepped.drop(columns=['income'])\n",
    "y = df_prepped['income'] == '>50K'\n",
    "\n",
    "X_continous  = X[['age', 'capital-gain', 'capital-loss', 'hours-per-week']]\n",
    "\n",
    "X_categorical = X[['workclass', 'education', 'marital-status', 'occupation', 'relationship', 'race',\n",
    "                   'gender', 'native-country']]\n",
    "\n",
    "X_encoded = pd.get_dummies(X_categorical)\n",
    "X = pd.concat([X_continous, X_encoded], axis=1)\n",
    "\n",
    "X_train, X_test, y_train, y_test = train_test_split(X, y, test_size=0.3, stratify=y)\n",
    "\n",
    "model = xgboost.XGBClassifier()\n",
    "model.fit(X_train, y_train)\n",
    "\n",
    "# Our outcomes will be y (true values), model_preds (predicted values), \n",
    "# model_probs (model probabilities of positive label), and is_error (if each prediction is incorrect).\n",
    "model_preds = model.predict(X)\n",
    "model_probs = model.predict_proba(X)\n",
    "is_error = model_preds != y\n",
    "print(f\"Train + test error rate: {is_error.mean():.2%}\")"
   ]
  },
  {
   "cell_type": "code",
   "execution_count": 4,
   "id": "78e44cc9-104a-40a3-ac99-6bc9ad3b642b",
   "metadata": {
    "tags": []
   },
   "outputs": [],
   "source": [
    "# Discretize the dataset using a different method per-column so that we can perform slicing.\n",
    "\n",
    "discrete_df = divisi.discretization.discretize_data(df, {\n",
    "    'age': { \"method\": \"bin\", \"bins\": [25, 45, 65] }, \n",
    "    'workclass': { \"method\": \"unique\" }, \n",
    "    'education': { \"method\": \"unique\" }, \n",
    "    'marital-status': { \"method\": \"unique\" }, \n",
    "    'occupation': { \"method\": \"unique\" }, \n",
    "    'relationship': { \"method\": \"unique\" }, \n",
    "    'race': { \"method\": \"unique\" }, \n",
    "    'gender': { \"method\": \"unique\" },   \n",
    "    'capital-gain': { \"method\": \"bin\", \"bins\": [1] }, \n",
    "    'capital-loss': { \"method\": \"bin\", \"bins\": [1] }, \n",
    "    'hours-per-week': { \"method\": \"bin\", \"bins\": [40] }, \n",
    "    'native-country': { \"method\": lambda x, c: (x != 'United-States', {0: 'US', 1: 'Non-US'}) },\n",
    "})"
   ]
  },
  {
   "cell_type": "code",
   "execution_count": 5,
   "id": "b09a95df-84fc-4170-82a8-94064c90058c",
   "metadata": {
    "tags": []
   },
   "outputs": [
    {
     "data": {
      "application/vnd.jupyter.widget-view+json": {
       "model_id": "6e53b1295ffe416ea21208679815b7cb",
       "version_major": 2,
       "version_minor": 0
      },
      "text/plain": [
       "SliceFinderWidget(base_slice={'scoreValues': {'Large Slice': 0.0, 'Simple Rule': 1.0, '> 50K High': 1.0, '> 50…"
      ]
     },
     "execution_count": 5,
     "metadata": {},
     "output_type": "execute_result"
    }
   ],
   "source": [
    "# Create a widget to control the slice finder and to show metrics for each slice\n",
    "w = divisi.SliceFinderWidget(discrete_df, metrics={\n",
    "    \"> 50K\": y.values,\n",
    "    \"Model Prob.\": model_probs[:,1],\n",
    "    \"Error\": is_error.values,\n",
    "})\n",
    "w"
   ]
  },
  {
   "cell_type": "code",
   "execution_count": 6,
   "id": "d2fd82bf-1df4-4f73-bf3e-4e8785d91798",
   "metadata": {},
   "outputs": [
    {
     "data": {
      "text/plain": [
       "[{'slices': [], 'count': 24149, '> 50K': 5748, 'Error': 2696}]"
      ]
     },
     "execution_count": 6,
     "metadata": {},
     "output_type": "execute_result"
    }
   ],
   "source": [
    "w.slice_intersection_counts \n",
    "# w.selected_intersection_index"
   ]
  },
  {
   "cell_type": "code",
   "execution_count": 7,
   "id": "71aec980-4309-49f0-bfc4-19137f3d79ae",
   "metadata": {},
   "outputs": [
    {
     "data": {
      "text/plain": [
       "[]"
      ]
     },
     "execution_count": 7,
     "metadata": {},
     "output_type": "execute_result"
    }
   ],
   "source": [
    "w.slice_intersection_labels"
   ]
  },
  {
   "cell_type": "code",
   "execution_count": null,
   "id": "b0d602c5-7b4d-49ea-a5b3-dbb616b085ca",
   "metadata": {},
   "outputs": [],
   "source": []
  }
 ],
 "metadata": {
  "kernelspec": {
   "display_name": "Python 3 (ipykernel)",
   "language": "python",
   "name": "python3"
  },
  "language_info": {
   "codemirror_mode": {
    "name": "ipython",
    "version": 3
   },
   "file_extension": ".py",
   "mimetype": "text/x-python",
   "name": "python",
   "nbconvert_exporter": "python",
   "pygments_lexer": "ipython3",
   "version": "3.9.18"
  }
 },
 "nbformat": 4,
 "nbformat_minor": 5
}
