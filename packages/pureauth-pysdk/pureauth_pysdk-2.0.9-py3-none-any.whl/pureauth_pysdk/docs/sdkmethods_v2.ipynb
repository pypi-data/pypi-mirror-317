{
 "cells": [
  {
   "cell_type": "code",
   "execution_count": 16,
   "metadata": {},
   "outputs": [],
   "source": [
    "from pureauth_pysdk import Pureauth\n",
    "from pureauth_pysdk.sync.v2.dto import EmployeeAccessMappingDTO, EmployeeDatasetDTO, EmployeePrimaryDatasetDTO, EmployeeSecondaryDatasetDTO\n",
    "from pureauth_pysdk.sync.v1.dto import EmployeePrimaryDatasetDTO as EmployeeDatasetDTOv1"
   ]
  },
  {
   "cell_type": "code",
   "execution_count": null,
   "metadata": {},
   "outputs": [],
   "source": [
    "# Local\n",
    "# PUREAUTH_ACCESS_TOKEN=\"G7d6TsCqyZsXPlici6t9yonJtGVI0nZLONi-IaXM6CQ\"\n",
    "# PUREAUTH_ORG_ID=\"pureid.io\"\n",
    "# PUREAUTH_PRIVATE_KEY = \"\"\"MHQCAQEEIAWG9Ov87A4+0+zaG6nVxXwdCIA8mBBCX9jvveVVZAy4oAcGBSuBBAAKoUQDQgAEQ+kRn3lrA0VB2IbG0ssh7RE9DSH9OLnEmc03dwTvTRCzxRaAYGvXqIPB9dTNtLX8zy6qn2+VZU9/UXT4egq39w==\"\"\"\n",
    "# PUREAUTH_PUBLIC_KEY = \"\"\"MFYwEAYHKoZIzj0CAQYFK4EEAAoDQgAEQ+kRn3lrA0VB2IbG0ssh7RE9DSH9OLnEmc03dwTvTRCzxRaAYGvXqIPB9dTNtLX8zy6qn2+VZU9/UXT4egq39w==\"\"\"\n",
    "# PUREAUTH_BASE_URL=\"http://127.0.0.1:5000\"\n",
    "# PUREAUTH_ACCESS_TOKEN=\"cAn4-ulaQFQC8ay04y12RABAifqHM5WdrQxDoecMkos\"\n",
    "# PUREAUTH_PRIVATE_KEY=\"MHQCAQEEIM//Bav8GaSO3kLlAzKOfVKFawpPGOvYKamXAC7ZmB/soAcGBSuBBAAKoUQDQgAECZjhTxKDqgbVYF5ADzYfeMaMmm4ZWXYbGgmErUEfx6wdL8y2UQzDzuz3Ag0PqPkNvrtBsFgTqPDNnrPtWOOYYw==\"\n",
    "# PUREAUTH_BASE_URL=\"https://dev.pureauth.tech\"\n",
    "# PUREAUTH_ORG_ID=\"xshield.com\"\n",
    "\n",
    "# Ptech dev\n",
    "PUREAUTH_ACCESS_TOKEN=\"r0zJv26AZgVqRdPeA5eoHqsQ3IuFX-hBi5tus6P3ZOQ\"\n",
    "PUREAUTH_PRIVATE_KEY=\"MHQCAQEEILN4hir0suh6gfrZPq7uc0C+OUq0wwl5UdIXinaxBxZToAcGBSuBBAAKoUQDQgAE0MVEJ7L77NN7ol4v6OrUL6kum7WKb+cI3C1tBQmatB63NHNf8hsJiZDf0RX5tLTX17UVND/r1M6LeYGRCd0srQ==\"\n",
    "PUREAUTH_BASE_URL=\"https://dev.pureauth.tech\"\n",
    "PUREAUTH_ORG_ID=\"pureauth.tech\""
   ]
  },
  {
   "cell_type": "code",
   "execution_count": 18,
   "metadata": {},
   "outputs": [],
   "source": [
    "# pureauth = Pureauth(organization_id=PUREAUTH_ORG_ID, access_token=PUREAUTH_ACCESS_TOKEN, private_key=PUREAUTH_PRIVATE_KEY)\n",
    "pureauth = Pureauth(\n",
    "    organization_id=PUREAUTH_ORG_ID,\n",
    "    access_token=PUREAUTH_ACCESS_TOKEN,\n",
    "    private_key=PUREAUTH_PRIVATE_KEY,\n",
    "    base_url=PUREAUTH_BASE_URL\n",
    ")\n"
   ]
  },
  {
   "cell_type": "code",
   "execution_count": 52,
   "metadata": {},
   "outputs": [],
   "source": [
    "employees = [\n",
    "    EmployeeDatasetDTO(\n",
    "        primary_dataset=EmployeePrimaryDatasetDTO(\n",
    "            full_name=\"Atharva C6\",\n",
    "            primary_email=\"atharva@gopasswordless.in\",\n",
    "            corporate_email=\"atharva+2@pureid.io\",\n",
    "            phone_number=\"9404564159\"\n",
    "        ),\n",
    "        secondary_dataset=EmployeeSecondaryDatasetDTO(\n",
    "            username=\"\"\n",
    "        ),\n",
    "        mapping_dataset=EmployeeAccessMappingDTO(\n",
    "            corporate_email=\"\",\n",
    "            roles=[\"role1\"],\n",
    "            groups=[\"gggg\"]\n",
    "        )\n",
    "    ), \n",
    "]\n",
    "# empv1 = EmployeeDatasetDTOv1()"
   ]
  },
  {
   "cell_type": "code",
   "execution_count": 53,
   "metadata": {},
   "outputs": [],
   "source": [
    "resp = pureauth.sync.v2.employees.update(employee_datasets=employees, send_email=True)"
   ]
  },
  {
   "cell_type": "code",
   "execution_count": 54,
   "metadata": {},
   "outputs": [
    {
     "data": {
      "text/plain": [
       "[{'employee_id': '62bd7b817f0609e80cb5d798ef00fff989e440021963e1dab2c291bbd8b1dba3',\n",
       "  'status': 'success',\n",
       "  'message': 'Employee updated.',\n",
       "  'corporate_email': 'atharva+2@pureid.io'}]"
      ]
     },
     "execution_count": 54,
     "metadata": {},
     "output_type": "execute_result"
    }
   ],
   "source": [
    "resp"
   ]
  },
  {
   "cell_type": "code",
   "execution_count": null,
   "metadata": {},
   "outputs": [],
   "source": []
  },
  {
   "cell_type": "code",
   "execution_count": 26,
   "metadata": {},
   "outputs": [],
   "source": [
    "resp = pureauth.sync.v2.employees.add(employee_datasets=employees, send_email=True)"
   ]
  },
  {
   "cell_type": "code",
   "execution_count": 27,
   "metadata": {},
   "outputs": [
    {
     "data": {
      "text/plain": [
       "[{'employee_id': '62bd7b817f0609e80cb5d798ef00fff989e440021963e1dab2c291bbd8b1dba3',\n",
       "  'status': 'failure',\n",
       "  'message': 'Corporate Email ID already exists.',\n",
       "  'corporate_email': 'atharva+2@pureid.io'}]"
      ]
     },
     "execution_count": 27,
     "metadata": {},
     "output_type": "execute_result"
    }
   ],
   "source": [
    "resp"
   ]
  },
  {
   "cell_type": "code",
   "execution_count": 24,
   "metadata": {},
   "outputs": [
    {
     "data": {
      "text/plain": [
       "[{'employee_id': '62bd7b817f0609e80cb5d798ef00fff989e440021963e1dab2c291bbd8b1dba3',\n",
       "  'status': 'success',\n",
       "  'message': 'Employee has been activated.',\n",
       "  'corporate_email': 'atharva+2@pureid.io'}]"
      ]
     },
     "execution_count": 24,
     "metadata": {},
     "output_type": "execute_result"
    }
   ],
   "source": [
    "pureauth.sync.v2.employees.activate(corporate_emails=[\"atharva+2@pureid.io\"])"
   ]
  },
  {
   "cell_type": "code",
   "execution_count": 15,
   "metadata": {},
   "outputs": [
    {
     "data": {
      "text/plain": [
       "[{'employee_id': '62bd7b817f0609e80cb5d798ef00fff989e440021963e1dab2c291bbd8b1dba3',\n",
       "  'status': 'success',\n",
       "  'message': 'Email sent successfully.',\n",
       "  'corporate_email': 'atharva+2@pureid.io'}]"
      ]
     },
     "execution_count": 15,
     "metadata": {},
     "output_type": "execute_result"
    }
   ],
   "source": [
    "pureauth.sync.v2.employees.send_welcome_email([employees[0].primary_dataset])"
   ]
  },
  {
   "cell_type": "code",
   "execution_count": null,
   "metadata": {},
   "outputs": [],
   "source": []
  }
 ],
 "metadata": {
  "kernelspec": {
   "display_name": "pureauth-pysdk-OjtMq6L5-py3.11",
   "language": "python",
   "name": "python3"
  },
  "language_info": {
   "codemirror_mode": {
    "name": "ipython",
    "version": 3
   },
   "file_extension": ".py",
   "mimetype": "text/x-python",
   "name": "python",
   "nbconvert_exporter": "python",
   "pygments_lexer": "ipython3",
   "version": "3.11.10"
  }
 },
 "nbformat": 4,
 "nbformat_minor": 2
}
