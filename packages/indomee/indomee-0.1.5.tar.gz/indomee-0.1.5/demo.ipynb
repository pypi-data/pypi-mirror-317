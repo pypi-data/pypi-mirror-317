{
 "cells": [
  {
   "cell_type": "markdown",
   "metadata": {},
   "source": [
    "# Performing Statistical Analysis\n",
    "\n",
    "In this notebook, we'll show you how to evaluate the statistical significance between two different methods. We'll do so with bootstrapping and t-testing.\n",
    "\n",
    "We'll first use plain python code with just `numpy` and `pandas` to perform both with `matplotlib` for plotting. Once we've done so and verified the results, we'll show that you can achieve the same results with `indomee` with a much cleaner and simpler code.\n",
    "\n",
    "The goal here is to encourage you to start using statistical analysis in your day-to-day work to make sure that your results are significant."
   ]
  },
  {
   "cell_type": "markdown",
   "metadata": {},
   "source": [
    "## Generating Data\n",
    "\n",
    "Since we don't have data on hand, we'll do so by generating a random dataset with a baseline and two different methods."
   ]
  },
  {
   "cell_type": "code",
   "execution_count": 9,
   "metadata": {},
   "outputs": [
    {
     "data": {
      "text/html": [
       "<pre style=\"white-space:pre;overflow-x:auto;line-height:normal;font-family:Menlo,'DejaVu Sans Mono',consolas,'Courier New',monospace\">test_id     <span style=\"color: #008080; text-decoration-color: #008080; font-weight: bold\">100.50</span>\n",
       "baseline      <span style=\"color: #008080; text-decoration-color: #008080; font-weight: bold\">0.40</span>\n",
       "method_1      <span style=\"color: #008080; text-decoration-color: #008080; font-weight: bold\">0.46</span>\n",
       "method_2      <span style=\"color: #008080; text-decoration-color: #008080; font-weight: bold\">0.48</span>\n",
       "dtype: float64\n",
       "</pre>\n"
      ],
      "text/plain": [
       "test_id     \u001b[1;36m100.50\u001b[0m\n",
       "baseline      \u001b[1;36m0.40\u001b[0m\n",
       "method_1      \u001b[1;36m0.46\u001b[0m\n",
       "method_2      \u001b[1;36m0.48\u001b[0m\n",
       "dtype: float64\n"
      ]
     },
     "metadata": {},
     "output_type": "display_data"
    }
   ],
   "source": [
    "import numpy as np\n",
    "import pandas as pd\n",
    "\n",
    "np.random.seed(42)\n",
    "# Simulate data\n",
    "n_tests = 200\n",
    "baseline = np.random.normal(0.4, 0.08, n_tests).clip(0, 1)\n",
    "method_1 = np.random.normal(0.45, 0.1, n_tests).clip(0, 1)\n",
    "method_2 = np.random.normal(0.49, 0.14, n_tests).clip(0, 1)\n",
    "\n",
    "# Create DataFrame\n",
    "df = pd.DataFrame(\n",
    "    {\n",
    "        \"test_id\": range(1, n_tests + 1),\n",
    "        \"baseline\": baseline,\n",
    "        \"method_1\": method_1,\n",
    "        \"method_2\": method_2,\n",
    "    }\n",
    ")\n",
    "\n",
    "print(df.mean().round(2))\n",
    "\n",
    "df.to_csv(\"data.csv\", index=False)"
   ]
  },
  {
   "cell_type": "markdown",
   "metadata": {},
   "source": [
    "## Bootstrapping\n",
    "\n",
    "Now that we have a list of individual test results whereby we've calculated the recall at k for each individual item, we can perform bootstrapping to get a distribution of the mean recall at k for each method."
   ]
  },
  {
   "cell_type": "code",
   "execution_count": 3,
   "metadata": {},
   "outputs": [],
   "source": [
    "import numpy as np\n",
    "\n",
    "SAMPLE_SIZE = 200\n",
    "NUM_SAMPLES = 1000\n",
    "\n",
    "# Lists to store bootstrapped means\n",
    "baseline_means = []\n",
    "method_1_means = []\n",
    "method_2_means = []\n",
    "\n",
    "# Perform bootstrapping\n",
    "for _ in range(NUM_SAMPLES):\n",
    "    sample = df.sample(SAMPLE_SIZE, replace=True)\n",
    "    baseline_means.append(sample[\"baseline\"].mean())\n",
    "    method_1_means.append(sample[\"method_1\"].mean())\n",
    "    method_2_means.append(sample[\"method_2\"].mean())"
   ]
  },
  {
   "cell_type": "code",
   "execution_count": 4,
   "metadata": {},
   "outputs": [
    {
     "data": {
      "image/png": "[encoded data removed]",
      "text/plain": [
       "<Figure size 800x600 with 1 Axes>"
      ]
     },
     "metadata": {},
     "output_type": "display_data"
    }
   ],
   "source": [
    "import matplotlib.pyplot as plt\n",
    "\n",
    "# Compute mean of bootstrapped samples\n",
    "method_names = [\"Baseline\", \"Method 1\", \"Method 2\"]\n",
    "all_means = [baseline_means, method_1_means, method_2_means]\n",
    "mean_estimates = [np.mean(means) for means in all_means]\n",
    "\n",
    "# Calculate confidence intervals\n",
    "ci_lower = [np.percentile(means, 2.5) for means in all_means]\n",
    "ci_upper = [np.percentile(means, 97.5) for means in all_means]\n",
    "error = [\n",
    "    [m - l for m, l in zip(mean_estimates, ci_lower)],\n",
    "    [u - m for m, u in zip(mean_estimates, ci_upper)],\n",
    "]\n",
    "\n",
    "# Plotting\n",
    "plt.figure(figsize=(8, 6))\n",
    "plt.bar(\n",
    "    range(len(method_names)),\n",
    "    mean_estimates,\n",
    "    yerr=error,\n",
    "    align=\"center\",\n",
    "    alpha=0.7,\n",
    "    capsize=10,\n",
    "    color=\"skyblue\",\n",
    ")\n",
    "plt.xticks(range(len(method_names)), method_names)\n",
    "plt.ylabel(\"Mean Value\")\n",
    "plt.title(\"Bootstrap Confidence Intervals\")\n",
    "plt.grid(True, axis=\"y\", linestyle=\"--\", alpha=0.7)\n",
    "plt.tight_layout()\n",
    "plt.savefig(\"bootstrap.png\")"
   ]
  },
  {
   "cell_type": "markdown",
   "metadata": {},
   "source": [
    "## T-Testing\n",
    "\n",
    "Now that we have the bootstrapped means, we can perform a t-test between the two methods to see if they are statistically significant. We'd ideally want to do so since we can see that from the bootstrap plot that the confidence intervals between the two methods have some overlap. Therefore we'd want to know if this difference is significant or just due to chance.\n",
    "\n",
    "Doing a t-test ensures that we're doing a formal statistical analysis to check if the observed difference between the two methods is significant or not. Since the results we observed are calculated by using the same query input, we should use a paired t-test."
   ]
  },
  {
   "cell_type": "code",
   "execution_count": 5,
   "metadata": {},
   "outputs": [],
   "source": [
    "from scipy.stats import ttest_rel\n",
    "import pandas as pd\n",
    "\n",
    "df = pd.read_csv(\"./data.csv\")\n",
    "\n",
    "# Calculate the mean for each method\n",
    "method_1 = df[\"method_1\"].tolist()\n",
    "method_2 = df[\"method_2\"].tolist()\n",
    "baseline = df[\"baseline\"].tolist()\n",
    "\n",
    "t_stat_baseline_method1, p_val_baseline_method1 = ttest_rel(baseline, method_1)\n",
    "t_stat_baseline_method2, p_val_baseline_method2 = ttest_rel(baseline, method_2)\n",
    "t_stat_method1_method2, p_val_method1_method2 = ttest_rel(method_1, method_2)"
   ]
  },
  {
   "cell_type": "code",
   "execution_count": 6,
   "metadata": {},
   "outputs": [
    {
     "name": "stdout",
     "output_type": "stream",
     "text": [
      "    Comparison  T statistic  P Value\n",
      "Baseline vs M1        -7.42 3.30e-12\n",
      "Baseline vs M2        -6.91 6.55e-11\n",
      "      M1 vs M2        -1.59 1.14e-01\n"
     ]
    }
   ],
   "source": [
    "# Create a DataFrame with the t-test results\n",
    "results_df = pd.DataFrame(\n",
    "    {\n",
    "        \"Comparison\": [\"Baseline vs M1\", \"Baseline vs M2\", \"M1 vs M2\"],\n",
    "        \"T statistic\": [\n",
    "            t_stat_baseline_method1,\n",
    "            t_stat_baseline_method2,\n",
    "            t_stat_method1_method2,\n",
    "        ],\n",
    "        \"P Value\": [\n",
    "            p_val_baseline_method1,\n",
    "            p_val_baseline_method2,\n",
    "            p_val_method1_method2,\n",
    "        ],\n",
    "    }\n",
    ")\n",
    "\n",
    "# Format the numeric columns\n",
    "results_df[\"T statistic\"] = results_df[\"T statistic\"].round(2)\n",
    "results_df[\"P Value\"] = results_df[\"P Value\"].map(\"{:.2e}\".format)\n",
    "\n",
    "# Display the DataFrame with clean formatting\n",
    "print(results_df.to_string(index=False))\n"
   ]
  },
  {
   "cell_type": "markdown",
   "metadata": {},
   "source": [
    "# Indomee\n",
    "\n",
    "We've seen that this was a relatively simple task to perform with just `numpy` and `pandas`. Now let's see how we can achieve the same results with `indomee`."
   ]
  },
  {
   "cell_type": "markdown",
   "metadata": {},
   "source": [
    "## Calculating Metrics\n",
    "\n",
    "`indomee` provides functions to calculate various metrics such as Mean Reciprocal Rank (MRR) and Recall. \n",
    "\n",
    "Note here that your values in the list can be any value type. Under the hood, we're just using a `==` comparison to determine equality. **Most importantly, they should all be of the same type.**\n",
    "\n",
    "Currently we only support these two metrics. We can see them being calculated below."
   ]
  },
  {
   "cell_type": "code",
   "execution_count": 10,
   "metadata": {},
   "outputs": [
    {
     "name": "stdout",
     "output_type": "stream",
     "text": [
      "MRR: 0.5\n",
      "Recall: 1.0\n"
     ]
    }
   ],
   "source": [
    "from indomee import calculate_mrr, calculate_recall\n",
    "\n",
    "mrr = calculate_mrr([\"apple\", \"banana\", \"orange\"], [\"banana\", \"orange\", \"grape\"])\n",
    "print(\"MRR:\", mrr)\n",
    "# > MRR: 0.5\n",
    "\n",
    "# Calculate Recall\n",
    "recall = calculate_recall([\"apple\", \"banana\", \"orange\"], [\"banana\"])\n",
    "print(\"Recall:\", recall)\n",
    "# > Recall: 1"
   ]
  },
  {
   "cell_type": "markdown",
   "metadata": {},
   "source": [
    "Another useful feature is that we can calculate the metrics at specific k values.\n",
    "\n",
    "So for instance, for the list [\"cat\", \"dog\", \"fish\", \"bird\", \"hamster\"] where \"fish\" is our label,\n",
    "\n",
    "Calculating metrics at different k values will give us different results since the label appears in the third position\n",
    "\n",
    "`indomee` allows you to do so out of the box with the `calculate_metrics_at_k` function."
   ]
  },
  {
   "cell_type": "code",
   "execution_count": 14,
   "metadata": {},
   "outputs": [
    {
     "data": {
      "text/html": [
       "<pre style=\"white-space:pre;overflow-x:auto;line-height:normal;font-family:Menlo,'DejaVu Sans Mono',consolas,'Courier New',monospace\">- recall@<span style=\"color: #008080; text-decoration-color: #008080; font-weight: bold\">1</span> -&gt; <span style=\"color: #008080; text-decoration-color: #008080; font-weight: bold\">0.0</span>\n",
       "</pre>\n"
      ],
      "text/plain": [
       "- recall@\u001b[1;36m1\u001b[0m -> \u001b[1;36m0.0\u001b[0m\n"
      ]
     },
     "metadata": {},
     "output_type": "display_data"
    },
    {
     "data": {
      "text/html": [
       "<pre style=\"white-space:pre;overflow-x:auto;line-height:normal;font-family:Menlo,'DejaVu Sans Mono',consolas,'Courier New',monospace\">- recall@<span style=\"color: #008080; text-decoration-color: #008080; font-weight: bold\">2</span> -&gt; <span style=\"color: #008080; text-decoration-color: #008080; font-weight: bold\">0.0</span>\n",
       "</pre>\n"
      ],
      "text/plain": [
       "- recall@\u001b[1;36m2\u001b[0m -> \u001b[1;36m0.0\u001b[0m\n"
      ]
     },
     "metadata": {},
     "output_type": "display_data"
    },
    {
     "data": {
      "text/html": [
       "<pre style=\"white-space:pre;overflow-x:auto;line-height:normal;font-family:Menlo,'DejaVu Sans Mono',consolas,'Courier New',monospace\">- recall@<span style=\"color: #008080; text-decoration-color: #008080; font-weight: bold\">3</span> -&gt; <span style=\"color: #008080; text-decoration-color: #008080; font-weight: bold\">1.0</span>\n",
       "</pre>\n"
      ],
      "text/plain": [
       "- recall@\u001b[1;36m3\u001b[0m -> \u001b[1;36m1.0\u001b[0m\n"
      ]
     },
     "metadata": {},
     "output_type": "display_data"
    },
    {
     "data": {
      "text/html": [
       "<pre style=\"white-space:pre;overflow-x:auto;line-height:normal;font-family:Menlo,'DejaVu Sans Mono',consolas,'Courier New',monospace\">- recall@<span style=\"color: #008080; text-decoration-color: #008080; font-weight: bold\">4</span> -&gt; <span style=\"color: #008080; text-decoration-color: #008080; font-weight: bold\">1.0</span>\n",
       "</pre>\n"
      ],
      "text/plain": [
       "- recall@\u001b[1;36m4\u001b[0m -> \u001b[1;36m1.0\u001b[0m\n"
      ]
     },
     "metadata": {},
     "output_type": "display_data"
    },
    {
     "data": {
      "text/html": [
       "<pre style=\"white-space:pre;overflow-x:auto;line-height:normal;font-family:Menlo,'DejaVu Sans Mono',consolas,'Courier New',monospace\">- recall@<span style=\"color: #008080; text-decoration-color: #008080; font-weight: bold\">5</span> -&gt; <span style=\"color: #008080; text-decoration-color: #008080; font-weight: bold\">1.0</span>\n",
       "</pre>\n"
      ],
      "text/plain": [
       "- recall@\u001b[1;36m5\u001b[0m -> \u001b[1;36m1.0\u001b[0m\n"
      ]
     },
     "metadata": {},
     "output_type": "display_data"
    }
   ],
   "source": [
    "from indomee import calculate_metrics_at_k\n",
    "from rich import print\n",
    "\n",
    "metrics = calculate_metrics_at_k(\n",
    "    metrics=[\"recall\"],\n",
    "    preds=[\"cat\", \"dog\", \"fish\", \"bird\", \"hamster\"],\n",
    "    labels=[\"fish\"],\n",
    "    k=[1, 2, 3, 4, 5],\n",
    ")\n",
    "\n",
    "\n",
    "for metric in metrics:\n",
    "    print(f\"- {metric} -> {metrics[metric]}\")"
   ]
  },
  {
   "cell_type": "markdown",
   "metadata": {},
   "source": [
    "This is useful because when you're evaluating different models, you'll often want to know how your model performs at different k values.\n",
    "\n",
    "This is closely tied to the business logic that you're executing.\n",
    "\n",
    "A search engine might care that a relevant result is returned withi the first 25 entires but a recomendation system or RAG system might prioritize recall@5-10 instead\n",
    "\n",
    "**Being able to calculate these metrics at different k values is crucial in seeing how your model/system performs**"
   ]
  },
  {
   "cell_type": "markdown",
   "metadata": {},
   "source": [
    "## Bootstrapping\n",
    "\n",
    "`indomee` provides an equivalent `bootstrap_from_results` function that performs the bootstrapping for you. \n",
    "\n",
    "In order to bootstrap the values for our baseline, method 1 and method 2, we can just get the relevant columns from our dataframe and pass them into the function."
   ]
  },
  {
   "cell_type": "code",
   "execution_count": 12,
   "metadata": {},
   "outputs": [
    {
     "data": {
      "text/html": [
       "<pre style=\"white-space:pre;overflow-x:auto;line-height:normal;font-family:Menlo,'DejaVu Sans Mono',consolas,'Courier New',monospace\"><span style=\"color: #800080; text-decoration-color: #800080; font-weight: bold\">BootstrapMetric</span><span style=\"font-weight: bold\">(</span>\n",
       "    <span style=\"color: #808000; text-decoration-color: #808000\">name</span>=<span style=\"color: #008000; text-decoration-color: #008000\">'bootstrap_metric'</span>,\n",
       "    <span style=\"color: #808000; text-decoration-color: #808000\">value</span>=<span style=\"color: #008080; text-decoration-color: #008080; font-weight: bold\">0.47800829518587357</span>,\n",
       "    <span style=\"color: #808000; text-decoration-color: #808000\">ci_lower</span>=<span style=\"color: #008080; text-decoration-color: #008080; font-weight: bold\">0.4582167411327398</span>,\n",
       "    <span style=\"color: #808000; text-decoration-color: #808000\">ci_upper</span>=<span style=\"color: #008080; text-decoration-color: #008080; font-weight: bold\">0.498828905051887</span>\n",
       "<span style=\"font-weight: bold\">)</span>\n",
       "</pre>\n"
      ],
      "text/plain": [
       "\u001b[1;35mBootstrapMetric\u001b[0m\u001b[1m(\u001b[0m\n",
       "    \u001b[33mname\u001b[0m=\u001b[32m'bootstrap_metric'\u001b[0m,\n",
       "    \u001b[33mvalue\u001b[0m=\u001b[1;36m0\u001b[0m\u001b[1;36m.47800829518587357\u001b[0m,\n",
       "    \u001b[33mci_lower\u001b[0m=\u001b[1;36m0\u001b[0m\u001b[1;36m.4582167411327398\u001b[0m,\n",
       "    \u001b[33mci_upper\u001b[0m=\u001b[1;36m0\u001b[0m\u001b[1;36m.498828905051887\u001b[0m\n",
       "\u001b[1m)\u001b[0m\n"
      ]
     },
     "metadata": {},
     "output_type": "display_data"
    }
   ],
   "source": [
    "from indomee import bootstrap_from_results\n",
    "from rich import print\n",
    "\n",
    "baseline_means = bootstrap_from_results(df[\"baseline\"].tolist())\n",
    "method_1_means = bootstrap_from_results(df[\"method_1\"].tolist())\n",
    "method_2_means = bootstrap_from_results(df[\"method_2\"].tolist())\n",
    "\n",
    "# print(baseline_means)\n",
    "# print(method_1_means)\n",
    "print(method_2_means)\n"
   ]
  },
  {
   "cell_type": "markdown",
   "metadata": {},
   "source": [
    "The beauty of using `indomee` is that \n",
    "\n",
    "1. The bootstrapping is already implemented for you, just choose the number of samples and the sample size per draw\n",
    "2. We automatically compute the lower and upper confidence intervals for you, making it easy to plot\n",
    "\n"
   ]
  },
  {
   "cell_type": "code",
   "execution_count": 13,
   "metadata": {},
   "outputs": [
    {
     "data": {
      "image/png": "[encoded data removed]",
      "text/plain": [
       "<Figure size 800x600 with 1 Axes>"
      ]
     },
     "metadata": {},
     "output_type": "display_data"
    }
   ],
   "source": [
    "import matplotlib.pyplot as plt\n",
    "\n",
    "# We already have the means and CIs computed for us so we just need to read them out\n",
    "method_names = [\"Baseline\", \"Method 1\", \"Method 2\"]\n",
    "mean_estimates = [baseline_means.value, method_1_means.value, method_2_means.value]\n",
    "ci_lower = [baseline_means.ci_lower, method_1_means.ci_lower, method_2_means.ci_lower]\n",
    "ci_upper = [baseline_means.ci_upper, method_1_means.ci_upper, method_2_means.ci_upper]\n",
    "\n",
    "# Calculate error bars\n",
    "error = [\n",
    "    [m - l for m, l in zip(mean_estimates, ci_lower)],\n",
    "    [u - m for m, u in zip(mean_estimates, ci_upper)],\n",
    "]\n",
    "\n",
    "# Plotting\n",
    "plt.figure(figsize=(8, 6))\n",
    "plt.bar(\n",
    "    range(len(method_names)),\n",
    "    mean_estimates,\n",
    "    yerr=error,\n",
    "    align=\"center\",\n",
    "    alpha=0.7,\n",
    "    capsize=10,\n",
    "    color=\"skyblue\",\n",
    ")\n",
    "plt.xticks(range(len(method_names)), method_names)\n",
    "plt.ylabel(\"Mean Value\")\n",
    "plt.title(\"Bootstrap Confidence Intervals\")\n",
    "plt.grid(True, axis=\"y\", linestyle=\"--\", alpha=0.7)\n",
    "plt.tight_layout()\n",
    "plt.savefig(\"bootstrap.png\")"
   ]
  },
  {
   "cell_type": "markdown",
   "metadata": {},
   "source": [
    "### Bootstrapping with Raw Data\n",
    "\n",
    "The real beauty of using `indomee` is that we can pass in the raw data itself and have full transparency over the entire process. \n",
    "\n",
    "You can either `bootstrap_sample` which will return a single sample of the bootstrapped data or `bootstrap` which will a summarised version of the entire bootstrapping process.\n",
    "\n",
    "Under the hood, `indomee` uses the `bootstrap_sample` function to perform the `bootstrap` call."
   ]
  },
  {
   "cell_type": "code",
   "execution_count": 15,
   "metadata": {},
   "outputs": [
    {
     "data": {
      "text/html": [
       "<pre style=\"white-space:pre;overflow-x:auto;line-height:normal;font-family:Menlo,'DejaVu Sans Mono',consolas,'Courier New',monospace\">Bootstrap Sample Metrics:\n",
       "<span style=\"font-weight: bold\">{</span>\n",
       "    <span style=\"color: #008000; text-decoration-color: #008000\">'recall@1'</span>: <span style=\"color: #800080; text-decoration-color: #800080; font-weight: bold\">BootstrapMetric</span><span style=\"font-weight: bold\">(</span>\n",
       "        <span style=\"color: #808000; text-decoration-color: #808000\">name</span>=<span style=\"color: #008000; text-decoration-color: #008000\">'recall@1'</span>,\n",
       "        <span style=\"color: #808000; text-decoration-color: #808000\">value</span>=<span style=\"color: #800080; text-decoration-color: #800080; font-weight: bold\">np</span><span style=\"color: #800080; text-decoration-color: #800080; font-weight: bold\">.float64</span><span style=\"font-weight: bold\">(</span><span style=\"color: #008080; text-decoration-color: #008080; font-weight: bold\">0.5</span><span style=\"font-weight: bold\">)</span>,\n",
       "        <span style=\"color: #808000; text-decoration-color: #808000\">ci_lower</span>=<span style=\"color: #800080; text-decoration-color: #800080; font-weight: bold\">np</span><span style=\"color: #800080; text-decoration-color: #800080; font-weight: bold\">.float64</span><span style=\"font-weight: bold\">(</span><span style=\"color: #008080; text-decoration-color: #008080; font-weight: bold\">0.5</span><span style=\"font-weight: bold\">)</span>,\n",
       "        <span style=\"color: #808000; text-decoration-color: #808000\">ci_upper</span>=<span style=\"color: #800080; text-decoration-color: #800080; font-weight: bold\">np</span><span style=\"color: #800080; text-decoration-color: #800080; font-weight: bold\">.float64</span><span style=\"font-weight: bold\">(</span><span style=\"color: #008080; text-decoration-color: #008080; font-weight: bold\">0.5</span><span style=\"font-weight: bold\">)</span>\n",
       "    <span style=\"font-weight: bold\">)</span>,\n",
       "    <span style=\"color: #008000; text-decoration-color: #008000\">'recall@2'</span>: <span style=\"color: #800080; text-decoration-color: #800080; font-weight: bold\">BootstrapMetric</span><span style=\"font-weight: bold\">(</span>\n",
       "        <span style=\"color: #808000; text-decoration-color: #808000\">name</span>=<span style=\"color: #008000; text-decoration-color: #008000\">'recall@2'</span>,\n",
       "        <span style=\"color: #808000; text-decoration-color: #808000\">value</span>=<span style=\"color: #800080; text-decoration-color: #800080; font-weight: bold\">np</span><span style=\"color: #800080; text-decoration-color: #800080; font-weight: bold\">.float64</span><span style=\"font-weight: bold\">(</span><span style=\"color: #008080; text-decoration-color: #008080; font-weight: bold\">1.0</span><span style=\"font-weight: bold\">)</span>,\n",
       "        <span style=\"color: #808000; text-decoration-color: #808000\">ci_lower</span>=<span style=\"color: #800080; text-decoration-color: #800080; font-weight: bold\">np</span><span style=\"color: #800080; text-decoration-color: #800080; font-weight: bold\">.float64</span><span style=\"font-weight: bold\">(</span><span style=\"color: #008080; text-decoration-color: #008080; font-weight: bold\">1.0</span><span style=\"font-weight: bold\">)</span>,\n",
       "        <span style=\"color: #808000; text-decoration-color: #808000\">ci_upper</span>=<span style=\"color: #800080; text-decoration-color: #800080; font-weight: bold\">np</span><span style=\"color: #800080; text-decoration-color: #800080; font-weight: bold\">.float64</span><span style=\"font-weight: bold\">(</span><span style=\"color: #008080; text-decoration-color: #008080; font-weight: bold\">1.0</span><span style=\"font-weight: bold\">)</span>\n",
       "    <span style=\"font-weight: bold\">)</span>,\n",
       "    <span style=\"color: #008000; text-decoration-color: #008000\">'recall@3'</span>: <span style=\"color: #800080; text-decoration-color: #800080; font-weight: bold\">BootstrapMetric</span><span style=\"font-weight: bold\">(</span>\n",
       "        <span style=\"color: #808000; text-decoration-color: #808000\">name</span>=<span style=\"color: #008000; text-decoration-color: #008000\">'recall@3'</span>,\n",
       "        <span style=\"color: #808000; text-decoration-color: #808000\">value</span>=<span style=\"color: #800080; text-decoration-color: #800080; font-weight: bold\">np</span><span style=\"color: #800080; text-decoration-color: #800080; font-weight: bold\">.float64</span><span style=\"font-weight: bold\">(</span><span style=\"color: #008080; text-decoration-color: #008080; font-weight: bold\">1.0</span><span style=\"font-weight: bold\">)</span>,\n",
       "        <span style=\"color: #808000; text-decoration-color: #808000\">ci_lower</span>=<span style=\"color: #800080; text-decoration-color: #800080; font-weight: bold\">np</span><span style=\"color: #800080; text-decoration-color: #800080; font-weight: bold\">.float64</span><span style=\"font-weight: bold\">(</span><span style=\"color: #008080; text-decoration-color: #008080; font-weight: bold\">1.0</span><span style=\"font-weight: bold\">)</span>,\n",
       "        <span style=\"color: #808000; text-decoration-color: #808000\">ci_upper</span>=<span style=\"color: #800080; text-decoration-color: #800080; font-weight: bold\">np</span><span style=\"color: #800080; text-decoration-color: #800080; font-weight: bold\">.float64</span><span style=\"font-weight: bold\">(</span><span style=\"color: #008080; text-decoration-color: #008080; font-weight: bold\">1.0</span><span style=\"font-weight: bold\">)</span>\n",
       "    <span style=\"font-weight: bold\">)</span>\n",
       "<span style=\"font-weight: bold\">}</span>\n",
       "</pre>\n"
      ],
      "text/plain": [
       "Bootstrap Sample Metrics:\n",
       "\u001b[1m{\u001b[0m\n",
       "    \u001b[32m'recall@1'\u001b[0m: \u001b[1;35mBootstrapMetric\u001b[0m\u001b[1m(\u001b[0m\n",
       "        \u001b[33mname\u001b[0m=\u001b[32m'recall@1'\u001b[0m,\n",
       "        \u001b[33mvalue\u001b[0m=\u001b[1;35mnp\u001b[0m\u001b[1;35m.float64\u001b[0m\u001b[1m(\u001b[0m\u001b[1;36m0.5\u001b[0m\u001b[1m)\u001b[0m,\n",
       "        \u001b[33mci_lower\u001b[0m=\u001b[1;35mnp\u001b[0m\u001b[1;35m.float64\u001b[0m\u001b[1m(\u001b[0m\u001b[1;36m0.5\u001b[0m\u001b[1m)\u001b[0m,\n",
       "        \u001b[33mci_upper\u001b[0m=\u001b[1;35mnp\u001b[0m\u001b[1;35m.float64\u001b[0m\u001b[1m(\u001b[0m\u001b[1;36m0.5\u001b[0m\u001b[1m)\u001b[0m\n",
       "    \u001b[1m)\u001b[0m,\n",
       "    \u001b[32m'recall@2'\u001b[0m: \u001b[1;35mBootstrapMetric\u001b[0m\u001b[1m(\u001b[0m\n",
       "        \u001b[33mname\u001b[0m=\u001b[32m'recall@2'\u001b[0m,\n",
       "        \u001b[33mvalue\u001b[0m=\u001b[1;35mnp\u001b[0m\u001b[1;35m.float64\u001b[0m\u001b[1m(\u001b[0m\u001b[1;36m1.0\u001b[0m\u001b[1m)\u001b[0m,\n",
       "        \u001b[33mci_lower\u001b[0m=\u001b[1;35mnp\u001b[0m\u001b[1;35m.float64\u001b[0m\u001b[1m(\u001b[0m\u001b[1;36m1.0\u001b[0m\u001b[1m)\u001b[0m,\n",
       "        \u001b[33mci_upper\u001b[0m=\u001b[1;35mnp\u001b[0m\u001b[1;35m.float64\u001b[0m\u001b[1m(\u001b[0m\u001b[1;36m1.0\u001b[0m\u001b[1m)\u001b[0m\n",
       "    \u001b[1m)\u001b[0m,\n",
       "    \u001b[32m'recall@3'\u001b[0m: \u001b[1;35mBootstrapMetric\u001b[0m\u001b[1m(\u001b[0m\n",
       "        \u001b[33mname\u001b[0m=\u001b[32m'recall@3'\u001b[0m,\n",
       "        \u001b[33mvalue\u001b[0m=\u001b[1;35mnp\u001b[0m\u001b[1;35m.float64\u001b[0m\u001b[1m(\u001b[0m\u001b[1;36m1.0\u001b[0m\u001b[1m)\u001b[0m,\n",
       "        \u001b[33mci_lower\u001b[0m=\u001b[1;35mnp\u001b[0m\u001b[1;35m.float64\u001b[0m\u001b[1m(\u001b[0m\u001b[1;36m1.0\u001b[0m\u001b[1m)\u001b[0m,\n",
       "        \u001b[33mci_upper\u001b[0m=\u001b[1;35mnp\u001b[0m\u001b[1;35m.float64\u001b[0m\u001b[1m(\u001b[0m\u001b[1;36m1.0\u001b[0m\u001b[1m)\u001b[0m\n",
       "    \u001b[1m)\u001b[0m\n",
       "\u001b[1m}\u001b[0m\n"
      ]
     },
     "metadata": {},
     "output_type": "display_data"
    }
   ],
   "source": [
    "from indomee import bootstrap_sample, bootstrap\n",
    "\n",
    "# Bootstrapping a sample\n",
    "result = bootstrap_sample(\n",
    "    preds=[[\"a\", \"b\"], [\"c\", \"d\"], [\"e\", \"f\"]],\n",
    "    labels=[[\"a\", \"b\"], [\"c\", \"d\"], [\"e\", \"f\"]],\n",
    "    sample_size=10,\n",
    "    metrics=[\"recall\"],\n",
    "    k=[1, 2, 3],\n",
    ")\n",
    "print(\"Bootstrap Sample Metrics:\", result.sample_metrics)\n"
   ]
  },
  {
   "cell_type": "code",
   "execution_count": 19,
   "metadata": {},
   "outputs": [
    {
     "data": {
      "text/html": [
       "<pre style=\"white-space:pre;overflow-x:auto;line-height:normal;font-family:Menlo,'DejaVu Sans Mono',consolas,'Courier New',monospace\">Bootstrap Metrics:\n",
       "<span style=\"color: #800080; text-decoration-color: #800080; font-weight: bold\">BootstrapResult</span><span style=\"font-weight: bold\">(</span>\n",
       "    <span style=\"color: #808000; text-decoration-color: #808000\">samples</span>=<span style=\"font-weight: bold\">[</span>\n",
       "        <span style=\"color: #800080; text-decoration-color: #800080; font-weight: bold\">BootstrapSample</span><span style=\"font-weight: bold\">(</span>\n",
       "            <span style=\"color: #808000; text-decoration-color: #808000\">samples</span>=<span style=\"font-weight: bold\">[</span>\n",
       "                <span style=\"color: #800080; text-decoration-color: #800080; font-weight: bold\">Sample</span><span style=\"font-weight: bold\">(</span><span style=\"color: #808000; text-decoration-color: #808000\">pred</span>=<span style=\"font-weight: bold\">[</span><span style=\"color: #008000; text-decoration-color: #008000\">'c'</span>, <span style=\"color: #008000; text-decoration-color: #008000\">'d'</span><span style=\"font-weight: bold\">]</span>, <span style=\"color: #808000; text-decoration-color: #808000\">gt</span>=<span style=\"font-weight: bold\">[</span><span style=\"color: #008000; text-decoration-color: #008000\">'c'</span>, <span style=\"color: #008000; text-decoration-color: #008000\">'d'</span><span style=\"font-weight: bold\">])</span>,\n",
       "                <span style=\"color: #800080; text-decoration-color: #800080; font-weight: bold\">Sample</span><span style=\"font-weight: bold\">(</span><span style=\"color: #808000; text-decoration-color: #808000\">pred</span>=<span style=\"font-weight: bold\">[</span><span style=\"color: #008000; text-decoration-color: #008000\">'e'</span>, <span style=\"color: #008000; text-decoration-color: #008000\">'f'</span><span style=\"font-weight: bold\">]</span>, <span style=\"color: #808000; text-decoration-color: #808000\">gt</span>=<span style=\"font-weight: bold\">[</span><span style=\"color: #008000; text-decoration-color: #008000\">'e'</span>, <span style=\"color: #008000; text-decoration-color: #008000\">'f'</span><span style=\"font-weight: bold\">])</span>,\n",
       "                <span style=\"color: #800080; text-decoration-color: #800080; font-weight: bold\">Sample</span><span style=\"font-weight: bold\">(</span><span style=\"color: #808000; text-decoration-color: #808000\">pred</span>=<span style=\"font-weight: bold\">[</span><span style=\"color: #008000; text-decoration-color: #008000\">'e'</span>, <span style=\"color: #008000; text-decoration-color: #008000\">'f'</span><span style=\"font-weight: bold\">]</span>, <span style=\"color: #808000; text-decoration-color: #808000\">gt</span>=<span style=\"font-weight: bold\">[</span><span style=\"color: #008000; text-decoration-color: #008000\">'e'</span>, <span style=\"color: #008000; text-decoration-color: #008000\">'f'</span><span style=\"font-weight: bold\">])</span>,\n",
       "                <span style=\"color: #800080; text-decoration-color: #800080; font-weight: bold\">Sample</span><span style=\"font-weight: bold\">(</span><span style=\"color: #808000; text-decoration-color: #808000\">pred</span>=<span style=\"font-weight: bold\">[</span><span style=\"color: #008000; text-decoration-color: #008000\">'a'</span>, <span style=\"color: #008000; text-decoration-color: #008000\">'b'</span><span style=\"font-weight: bold\">]</span>, <span style=\"color: #808000; text-decoration-color: #808000\">gt</span>=<span style=\"font-weight: bold\">[</span><span style=\"color: #008000; text-decoration-color: #008000\">'a'</span>, <span style=\"color: #008000; text-decoration-color: #008000\">'b'</span><span style=\"font-weight: bold\">])</span>,\n",
       "                <span style=\"color: #800080; text-decoration-color: #800080; font-weight: bold\">Sample</span><span style=\"font-weight: bold\">(</span><span style=\"color: #808000; text-decoration-color: #808000\">pred</span>=<span style=\"font-weight: bold\">[</span><span style=\"color: #008000; text-decoration-color: #008000\">'a'</span>, <span style=\"color: #008000; text-decoration-color: #008000\">'b'</span><span style=\"font-weight: bold\">]</span>, <span style=\"color: #808000; text-decoration-color: #808000\">gt</span>=<span style=\"font-weight: bold\">[</span><span style=\"color: #008000; text-decoration-color: #008000\">'a'</span>, <span style=\"color: #008000; text-decoration-color: #008000\">'b'</span><span style=\"font-weight: bold\">])</span>,\n",
       "                <span style=\"color: #800080; text-decoration-color: #800080; font-weight: bold\">Sample</span><span style=\"font-weight: bold\">(</span><span style=\"color: #808000; text-decoration-color: #808000\">pred</span>=<span style=\"font-weight: bold\">[</span><span style=\"color: #008000; text-decoration-color: #008000\">'a'</span>, <span style=\"color: #008000; text-decoration-color: #008000\">'b'</span><span style=\"font-weight: bold\">]</span>, <span style=\"color: #808000; text-decoration-color: #808000\">gt</span>=<span style=\"font-weight: bold\">[</span><span style=\"color: #008000; text-decoration-color: #008000\">'a'</span>, <span style=\"color: #008000; text-decoration-color: #008000\">'b'</span><span style=\"font-weight: bold\">])</span>,\n",
       "                <span style=\"color: #800080; text-decoration-color: #800080; font-weight: bold\">Sample</span><span style=\"font-weight: bold\">(</span><span style=\"color: #808000; text-decoration-color: #808000\">pred</span>=<span style=\"font-weight: bold\">[</span><span style=\"color: #008000; text-decoration-color: #008000\">'c'</span>, <span style=\"color: #008000; text-decoration-color: #008000\">'d'</span><span style=\"font-weight: bold\">]</span>, <span style=\"color: #808000; text-decoration-color: #808000\">gt</span>=<span style=\"font-weight: bold\">[</span><span style=\"color: #008000; text-decoration-color: #008000\">'c'</span>, <span style=\"color: #008000; text-decoration-color: #008000\">'d'</span><span style=\"font-weight: bold\">])</span>,\n",
       "                <span style=\"color: #800080; text-decoration-color: #800080; font-weight: bold\">Sample</span><span style=\"font-weight: bold\">(</span><span style=\"color: #808000; text-decoration-color: #808000\">pred</span>=<span style=\"font-weight: bold\">[</span><span style=\"color: #008000; text-decoration-color: #008000\">'a'</span>, <span style=\"color: #008000; text-decoration-color: #008000\">'b'</span><span style=\"font-weight: bold\">]</span>, <span style=\"color: #808000; text-decoration-color: #808000\">gt</span>=<span style=\"font-weight: bold\">[</span><span style=\"color: #008000; text-decoration-color: #008000\">'a'</span>, <span style=\"color: #008000; text-decoration-color: #008000\">'b'</span><span style=\"font-weight: bold\">])</span>,\n",
       "                <span style=\"color: #800080; text-decoration-color: #800080; font-weight: bold\">Sample</span><span style=\"font-weight: bold\">(</span><span style=\"color: #808000; text-decoration-color: #808000\">pred</span>=<span style=\"font-weight: bold\">[</span><span style=\"color: #008000; text-decoration-color: #008000\">'e'</span>, <span style=\"color: #008000; text-decoration-color: #008000\">'f'</span><span style=\"font-weight: bold\">]</span>, <span style=\"color: #808000; text-decoration-color: #808000\">gt</span>=<span style=\"font-weight: bold\">[</span><span style=\"color: #008000; text-decoration-color: #008000\">'e'</span>, <span style=\"color: #008000; text-decoration-color: #008000\">'f'</span><span style=\"font-weight: bold\">])</span>,\n",
       "                <span style=\"color: #800080; text-decoration-color: #800080; font-weight: bold\">Sample</span><span style=\"font-weight: bold\">(</span><span style=\"color: #808000; text-decoration-color: #808000\">pred</span>=<span style=\"font-weight: bold\">[</span><span style=\"color: #008000; text-decoration-color: #008000\">'a'</span>, <span style=\"color: #008000; text-decoration-color: #008000\">'b'</span><span style=\"font-weight: bold\">]</span>, <span style=\"color: #808000; text-decoration-color: #808000\">gt</span>=<span style=\"font-weight: bold\">[</span><span style=\"color: #008000; text-decoration-color: #008000\">'a'</span>, <span style=\"color: #008000; text-decoration-color: #008000\">'b'</span><span style=\"font-weight: bold\">])</span>\n",
       "            <span style=\"font-weight: bold\">]</span>,\n",
       "            <span style=\"color: #808000; text-decoration-color: #808000\">sample_metrics</span>=<span style=\"font-weight: bold\">{</span>\n",
       "                <span style=\"color: #008000; text-decoration-color: #008000\">'recall@1'</span>: <span style=\"color: #800080; text-decoration-color: #800080; font-weight: bold\">BootstrapMetric</span><span style=\"font-weight: bold\">(</span>\n",
       "                    <span style=\"color: #808000; text-decoration-color: #808000\">name</span>=<span style=\"color: #008000; text-decoration-color: #008000\">'recall@1'</span>,\n",
       "                    <span style=\"color: #808000; text-decoration-color: #808000\">value</span>=<span style=\"color: #800080; text-decoration-color: #800080; font-weight: bold\">np</span><span style=\"color: #800080; text-decoration-color: #800080; font-weight: bold\">.float64</span><span style=\"font-weight: bold\">(</span><span style=\"color: #008080; text-decoration-color: #008080; font-weight: bold\">0.5</span><span style=\"font-weight: bold\">)</span>,\n",
       "                    <span style=\"color: #808000; text-decoration-color: #808000\">ci_lower</span>=<span style=\"color: #800080; text-decoration-color: #800080; font-weight: bold\">np</span><span style=\"color: #800080; text-decoration-color: #800080; font-weight: bold\">.float64</span><span style=\"font-weight: bold\">(</span><span style=\"color: #008080; text-decoration-color: #008080; font-weight: bold\">0.5</span><span style=\"font-weight: bold\">)</span>,\n",
       "                    <span style=\"color: #808000; text-decoration-color: #808000\">ci_upper</span>=<span style=\"color: #800080; text-decoration-color: #800080; font-weight: bold\">np</span><span style=\"color: #800080; text-decoration-color: #800080; font-weight: bold\">.float64</span><span style=\"font-weight: bold\">(</span><span style=\"color: #008080; text-decoration-color: #008080; font-weight: bold\">0.5</span><span style=\"font-weight: bold\">)</span>\n",
       "                <span style=\"font-weight: bold\">)</span>,\n",
       "                <span style=\"color: #008000; text-decoration-color: #008000\">'recall@2'</span>: <span style=\"color: #800080; text-decoration-color: #800080; font-weight: bold\">BootstrapMetric</span><span style=\"font-weight: bold\">(</span>\n",
       "                    <span style=\"color: #808000; text-decoration-color: #808000\">name</span>=<span style=\"color: #008000; text-decoration-color: #008000\">'recall@2'</span>,\n",
       "                    <span style=\"color: #808000; text-decoration-color: #808000\">value</span>=<span style=\"color: #800080; text-decoration-color: #800080; font-weight: bold\">np</span><span style=\"color: #800080; text-decoration-color: #800080; font-weight: bold\">.float64</span><span style=\"font-weight: bold\">(</span><span style=\"color: #008080; text-decoration-color: #008080; font-weight: bold\">1.0</span><span style=\"font-weight: bold\">)</span>,\n",
       "                    <span style=\"color: #808000; text-decoration-color: #808000\">ci_lower</span>=<span style=\"color: #800080; text-decoration-color: #800080; font-weight: bold\">np</span><span style=\"color: #800080; text-decoration-color: #800080; font-weight: bold\">.float64</span><span style=\"font-weight: bold\">(</span><span style=\"color: #008080; text-decoration-color: #008080; font-weight: bold\">1.0</span><span style=\"font-weight: bold\">)</span>,\n",
       "                    <span style=\"color: #808000; text-decoration-color: #808000\">ci_upper</span>=<span style=\"color: #800080; text-decoration-color: #800080; font-weight: bold\">np</span><span style=\"color: #800080; text-decoration-color: #800080; font-weight: bold\">.float64</span><span style=\"font-weight: bold\">(</span><span style=\"color: #008080; text-decoration-color: #008080; font-weight: bold\">1.0</span><span style=\"font-weight: bold\">)</span>\n",
       "                <span style=\"font-weight: bold\">)</span>,\n",
       "                <span style=\"color: #008000; text-decoration-color: #008000\">'recall@3'</span>: <span style=\"color: #800080; text-decoration-color: #800080; font-weight: bold\">BootstrapMetric</span><span style=\"font-weight: bold\">(</span>\n",
       "                    <span style=\"color: #808000; text-decoration-color: #808000\">name</span>=<span style=\"color: #008000; text-decoration-color: #008000\">'recall@3'</span>,\n",
       "                    <span style=\"color: #808000; text-decoration-color: #808000\">value</span>=<span style=\"color: #800080; text-decoration-color: #800080; font-weight: bold\">np</span><span style=\"color: #800080; text-decoration-color: #800080; font-weight: bold\">.float64</span><span style=\"font-weight: bold\">(</span><span style=\"color: #008080; text-decoration-color: #008080; font-weight: bold\">1.0</span><span style=\"font-weight: bold\">)</span>,\n",
       "                    <span style=\"color: #808000; text-decoration-color: #808000\">ci_lower</span>=<span style=\"color: #800080; text-decoration-color: #800080; font-weight: bold\">np</span><span style=\"color: #800080; text-decoration-color: #800080; font-weight: bold\">.float64</span><span style=\"font-weight: bold\">(</span><span style=\"color: #008080; text-decoration-color: #008080; font-weight: bold\">1.0</span><span style=\"font-weight: bold\">)</span>,\n",
       "                    <span style=\"color: #808000; text-decoration-color: #808000\">ci_upper</span>=<span style=\"color: #800080; text-decoration-color: #800080; font-weight: bold\">np</span><span style=\"color: #800080; text-decoration-color: #800080; font-weight: bold\">.float64</span><span style=\"font-weight: bold\">(</span><span style=\"color: #008080; text-decoration-color: #008080; font-weight: bold\">1.0</span><span style=\"font-weight: bold\">)</span>\n",
       "                <span style=\"font-weight: bold\">)</span>\n",
       "            <span style=\"font-weight: bold\">}</span>\n",
       "        <span style=\"font-weight: bold\">)</span>,\n",
       "        <span style=\"color: #800080; text-decoration-color: #800080; font-weight: bold\">BootstrapSample</span><span style=\"font-weight: bold\">(</span>\n",
       "            <span style=\"color: #808000; text-decoration-color: #808000\">samples</span>=<span style=\"font-weight: bold\">[</span>\n",
       "                <span style=\"color: #800080; text-decoration-color: #800080; font-weight: bold\">Sample</span><span style=\"font-weight: bold\">(</span><span style=\"color: #808000; text-decoration-color: #808000\">pred</span>=<span style=\"font-weight: bold\">[</span><span style=\"color: #008000; text-decoration-color: #008000\">'e'</span>, <span style=\"color: #008000; text-decoration-color: #008000\">'f'</span><span style=\"font-weight: bold\">]</span>, <span style=\"color: #808000; text-decoration-color: #808000\">gt</span>=<span style=\"font-weight: bold\">[</span><span style=\"color: #008000; text-decoration-color: #008000\">'e'</span>, <span style=\"color: #008000; text-decoration-color: #008000\">'f'</span><span style=\"font-weight: bold\">])</span>,\n",
       "                <span style=\"color: #800080; text-decoration-color: #800080; font-weight: bold\">Sample</span><span style=\"font-weight: bold\">(</span><span style=\"color: #808000; text-decoration-color: #808000\">pred</span>=<span style=\"font-weight: bold\">[</span><span style=\"color: #008000; text-decoration-color: #008000\">'e'</span>, <span style=\"color: #008000; text-decoration-color: #008000\">'f'</span><span style=\"font-weight: bold\">]</span>, <span style=\"color: #808000; text-decoration-color: #808000\">gt</span>=<span style=\"font-weight: bold\">[</span><span style=\"color: #008000; text-decoration-color: #008000\">'e'</span>, <span style=\"color: #008000; text-decoration-color: #008000\">'f'</span><span style=\"font-weight: bold\">])</span>,\n",
       "                <span style=\"color: #800080; text-decoration-color: #800080; font-weight: bold\">Sample</span><span style=\"font-weight: bold\">(</span><span style=\"color: #808000; text-decoration-color: #808000\">pred</span>=<span style=\"font-weight: bold\">[</span><span style=\"color: #008000; text-decoration-color: #008000\">'c'</span>, <span style=\"color: #008000; text-decoration-color: #008000\">'d'</span><span style=\"font-weight: bold\">]</span>, <span style=\"color: #808000; text-decoration-color: #808000\">gt</span>=<span style=\"font-weight: bold\">[</span><span style=\"color: #008000; text-decoration-color: #008000\">'c'</span>, <span style=\"color: #008000; text-decoration-color: #008000\">'d'</span><span style=\"font-weight: bold\">])</span>,\n",
       "                <span style=\"color: #800080; text-decoration-color: #800080; font-weight: bold\">Sample</span><span style=\"font-weight: bold\">(</span><span style=\"color: #808000; text-decoration-color: #808000\">pred</span>=<span style=\"font-weight: bold\">[</span><span style=\"color: #008000; text-decoration-color: #008000\">'a'</span>, <span style=\"color: #008000; text-decoration-color: #008000\">'b'</span><span style=\"font-weight: bold\">]</span>, <span style=\"color: #808000; text-decoration-color: #808000\">gt</span>=<span style=\"font-weight: bold\">[</span><span style=\"color: #008000; text-decoration-color: #008000\">'a'</span>, <span style=\"color: #008000; text-decoration-color: #008000\">'b'</span><span style=\"font-weight: bold\">])</span>,\n",
       "                <span style=\"color: #800080; text-decoration-color: #800080; font-weight: bold\">Sample</span><span style=\"font-weight: bold\">(</span><span style=\"color: #808000; text-decoration-color: #808000\">pred</span>=<span style=\"font-weight: bold\">[</span><span style=\"color: #008000; text-decoration-color: #008000\">'e'</span>, <span style=\"color: #008000; text-decoration-color: #008000\">'f'</span><span style=\"font-weight: bold\">]</span>, <span style=\"color: #808000; text-decoration-color: #808000\">gt</span>=<span style=\"font-weight: bold\">[</span><span style=\"color: #008000; text-decoration-color: #008000\">'e'</span>, <span style=\"color: #008000; text-decoration-color: #008000\">'f'</span><span style=\"font-weight: bold\">])</span>,\n",
       "                <span style=\"color: #800080; text-decoration-color: #800080; font-weight: bold\">Sample</span><span style=\"font-weight: bold\">(</span><span style=\"color: #808000; text-decoration-color: #808000\">pred</span>=<span style=\"font-weight: bold\">[</span><span style=\"color: #008000; text-decoration-color: #008000\">'a'</span>, <span style=\"color: #008000; text-decoration-color: #008000\">'b'</span><span style=\"font-weight: bold\">]</span>, <span style=\"color: #808000; text-decoration-color: #808000\">gt</span>=<span style=\"font-weight: bold\">[</span><span style=\"color: #008000; text-decoration-color: #008000\">'a'</span>, <span style=\"color: #008000; text-decoration-color: #008000\">'b'</span><span style=\"font-weight: bold\">])</span>,\n",
       "                <span style=\"color: #800080; text-decoration-color: #800080; font-weight: bold\">Sample</span><span style=\"font-weight: bold\">(</span><span style=\"color: #808000; text-decoration-color: #808000\">pred</span>=<span style=\"font-weight: bold\">[</span><span style=\"color: #008000; text-decoration-color: #008000\">'e'</span>, <span style=\"color: #008000; text-decoration-color: #008000\">'f'</span><span style=\"font-weight: bold\">]</span>, <span style=\"color: #808000; text-decoration-color: #808000\">gt</span>=<span style=\"font-weight: bold\">[</span><span style=\"color: #008000; text-decoration-color: #008000\">'e'</span>, <span style=\"color: #008000; text-decoration-color: #008000\">'f'</span><span style=\"font-weight: bold\">])</span>,\n",
       "                <span style=\"color: #800080; text-decoration-color: #800080; font-weight: bold\">Sample</span><span style=\"font-weight: bold\">(</span><span style=\"color: #808000; text-decoration-color: #808000\">pred</span>=<span style=\"font-weight: bold\">[</span><span style=\"color: #008000; text-decoration-color: #008000\">'e'</span>, <span style=\"color: #008000; text-decoration-color: #008000\">'f'</span><span style=\"font-weight: bold\">]</span>, <span style=\"color: #808000; text-decoration-color: #808000\">gt</span>=<span style=\"font-weight: bold\">[</span><span style=\"color: #008000; text-decoration-color: #008000\">'e'</span>, <span style=\"color: #008000; text-decoration-color: #008000\">'f'</span><span style=\"font-weight: bold\">])</span>,\n",
       "                <span style=\"color: #800080; text-decoration-color: #800080; font-weight: bold\">Sample</span><span style=\"font-weight: bold\">(</span><span style=\"color: #808000; text-decoration-color: #808000\">pred</span>=<span style=\"font-weight: bold\">[</span><span style=\"color: #008000; text-decoration-color: #008000\">'e'</span>, <span style=\"color: #008000; text-decoration-color: #008000\">'f'</span><span style=\"font-weight: bold\">]</span>, <span style=\"color: #808000; text-decoration-color: #808000\">gt</span>=<span style=\"font-weight: bold\">[</span><span style=\"color: #008000; text-decoration-color: #008000\">'e'</span>, <span style=\"color: #008000; text-decoration-color: #008000\">'f'</span><span style=\"font-weight: bold\">])</span>,\n",
       "                <span style=\"color: #800080; text-decoration-color: #800080; font-weight: bold\">Sample</span><span style=\"font-weight: bold\">(</span><span style=\"color: #808000; text-decoration-color: #808000\">pred</span>=<span style=\"font-weight: bold\">[</span><span style=\"color: #008000; text-decoration-color: #008000\">'c'</span>, <span style=\"color: #008000; text-decoration-color: #008000\">'d'</span><span style=\"font-weight: bold\">]</span>, <span style=\"color: #808000; text-decoration-color: #808000\">gt</span>=<span style=\"font-weight: bold\">[</span><span style=\"color: #008000; text-decoration-color: #008000\">'c'</span>, <span style=\"color: #008000; text-decoration-color: #008000\">'d'</span><span style=\"font-weight: bold\">])</span>\n",
       "            <span style=\"font-weight: bold\">]</span>,\n",
       "            <span style=\"color: #808000; text-decoration-color: #808000\">sample_metrics</span>=<span style=\"font-weight: bold\">{</span>\n",
       "                <span style=\"color: #008000; text-decoration-color: #008000\">'recall@1'</span>: <span style=\"color: #800080; text-decoration-color: #800080; font-weight: bold\">BootstrapMetric</span><span style=\"font-weight: bold\">(</span>\n",
       "                    <span style=\"color: #808000; text-decoration-color: #808000\">name</span>=<span style=\"color: #008000; text-decoration-color: #008000\">'recall@1'</span>,\n",
       "                    <span style=\"color: #808000; text-decoration-color: #808000\">value</span>=<span style=\"color: #800080; text-decoration-color: #800080; font-weight: bold\">np</span><span style=\"color: #800080; text-decoration-color: #800080; font-weight: bold\">.float64</span><span style=\"font-weight: bold\">(</span><span style=\"color: #008080; text-decoration-color: #008080; font-weight: bold\">0.5</span><span style=\"font-weight: bold\">)</span>,\n",
       "                    <span style=\"color: #808000; text-decoration-color: #808000\">ci_lower</span>=<span style=\"color: #800080; text-decoration-color: #800080; font-weight: bold\">np</span><span style=\"color: #800080; text-decoration-color: #800080; font-weight: bold\">.float64</span><span style=\"font-weight: bold\">(</span><span style=\"color: #008080; text-decoration-color: #008080; font-weight: bold\">0.5</span><span style=\"font-weight: bold\">)</span>,\n",
       "                    <span style=\"color: #808000; text-decoration-color: #808000\">ci_upper</span>=<span style=\"color: #800080; text-decoration-color: #800080; font-weight: bold\">np</span><span style=\"color: #800080; text-decoration-color: #800080; font-weight: bold\">.float64</span><span style=\"font-weight: bold\">(</span><span style=\"color: #008080; text-decoration-color: #008080; font-weight: bold\">0.5</span><span style=\"font-weight: bold\">)</span>\n",
       "                <span style=\"font-weight: bold\">)</span>,\n",
       "                <span style=\"color: #008000; text-decoration-color: #008000\">'recall@2'</span>: <span style=\"color: #800080; text-decoration-color: #800080; font-weight: bold\">BootstrapMetric</span><span style=\"font-weight: bold\">(</span>\n",
       "                    <span style=\"color: #808000; text-decoration-color: #808000\">name</span>=<span style=\"color: #008000; text-decoration-color: #008000\">'recall@2'</span>,\n",
       "                    <span style=\"color: #808000; text-decoration-color: #808000\">value</span>=<span style=\"color: #800080; text-decoration-color: #800080; font-weight: bold\">np</span><span style=\"color: #800080; text-decoration-color: #800080; font-weight: bold\">.float64</span><span style=\"font-weight: bold\">(</span><span style=\"color: #008080; text-decoration-color: #008080; font-weight: bold\">1.0</span><span style=\"font-weight: bold\">)</span>,\n",
       "                    <span style=\"color: #808000; text-decoration-color: #808000\">ci_lower</span>=<span style=\"color: #800080; text-decoration-color: #800080; font-weight: bold\">np</span><span style=\"color: #800080; text-decoration-color: #800080; font-weight: bold\">.float64</span><span style=\"font-weight: bold\">(</span><span style=\"color: #008080; text-decoration-color: #008080; font-weight: bold\">1.0</span><span style=\"font-weight: bold\">)</span>,\n",
       "                    <span style=\"color: #808000; text-decoration-color: #808000\">ci_upper</span>=<span style=\"color: #800080; text-decoration-color: #800080; font-weight: bold\">np</span><span style=\"color: #800080; text-decoration-color: #800080; font-weight: bold\">.float64</span><span style=\"font-weight: bold\">(</span><span style=\"color: #008080; text-decoration-color: #008080; font-weight: bold\">1.0</span><span style=\"font-weight: bold\">)</span>\n",
       "                <span style=\"font-weight: bold\">)</span>,\n",
       "                <span style=\"color: #008000; text-decoration-color: #008000\">'recall@3'</span>: <span style=\"color: #800080; text-decoration-color: #800080; font-weight: bold\">BootstrapMetric</span><span style=\"font-weight: bold\">(</span>\n",
       "                    <span style=\"color: #808000; text-decoration-color: #808000\">name</span>=<span style=\"color: #008000; text-decoration-color: #008000\">'recall@3'</span>,\n",
       "                    <span style=\"color: #808000; text-decoration-color: #808000\">value</span>=<span style=\"color: #800080; text-decoration-color: #800080; font-weight: bold\">np</span><span style=\"color: #800080; text-decoration-color: #800080; font-weight: bold\">.float64</span><span style=\"font-weight: bold\">(</span><span style=\"color: #008080; text-decoration-color: #008080; font-weight: bold\">1.0</span><span style=\"font-weight: bold\">)</span>,\n",
       "                    <span style=\"color: #808000; text-decoration-color: #808000\">ci_lower</span>=<span style=\"color: #800080; text-decoration-color: #800080; font-weight: bold\">np</span><span style=\"color: #800080; text-decoration-color: #800080; font-weight: bold\">.float64</span><span style=\"font-weight: bold\">(</span><span style=\"color: #008080; text-decoration-color: #008080; font-weight: bold\">1.0</span><span style=\"font-weight: bold\">)</span>,\n",
       "                    <span style=\"color: #808000; text-decoration-color: #808000\">ci_upper</span>=<span style=\"color: #800080; text-decoration-color: #800080; font-weight: bold\">np</span><span style=\"color: #800080; text-decoration-color: #800080; font-weight: bold\">.float64</span><span style=\"font-weight: bold\">(</span><span style=\"color: #008080; text-decoration-color: #008080; font-weight: bold\">1.0</span><span style=\"font-weight: bold\">)</span>\n",
       "                <span style=\"font-weight: bold\">)</span>\n",
       "            <span style=\"font-weight: bold\">}</span>\n",
       "        <span style=\"font-weight: bold\">)</span>\n",
       "    <span style=\"font-weight: bold\">]</span>,\n",
       "    <span style=\"color: #808000; text-decoration-color: #808000\">sample_metrics</span>=<span style=\"font-weight: bold\">{</span>\n",
       "        <span style=\"color: #008000; text-decoration-color: #008000\">'recall@1'</span>: <span style=\"color: #800080; text-decoration-color: #800080; font-weight: bold\">BootstrapMetric</span><span style=\"font-weight: bold\">(</span>\n",
       "            <span style=\"color: #808000; text-decoration-color: #808000\">name</span>=<span style=\"color: #008000; text-decoration-color: #008000\">'recall@1'</span>,\n",
       "            <span style=\"color: #808000; text-decoration-color: #808000\">value</span>=<span style=\"color: #800080; text-decoration-color: #800080; font-weight: bold\">np</span><span style=\"color: #800080; text-decoration-color: #800080; font-weight: bold\">.float64</span><span style=\"font-weight: bold\">(</span><span style=\"color: #008080; text-decoration-color: #008080; font-weight: bold\">0.5</span><span style=\"font-weight: bold\">)</span>,\n",
       "            <span style=\"color: #808000; text-decoration-color: #808000\">ci_lower</span>=<span style=\"color: #800080; text-decoration-color: #800080; font-weight: bold\">np</span><span style=\"color: #800080; text-decoration-color: #800080; font-weight: bold\">.float64</span><span style=\"font-weight: bold\">(</span><span style=\"color: #008080; text-decoration-color: #008080; font-weight: bold\">0.5</span><span style=\"font-weight: bold\">)</span>,\n",
       "            <span style=\"color: #808000; text-decoration-color: #808000\">ci_upper</span>=<span style=\"color: #800080; text-decoration-color: #800080; font-weight: bold\">np</span><span style=\"color: #800080; text-decoration-color: #800080; font-weight: bold\">.float64</span><span style=\"font-weight: bold\">(</span><span style=\"color: #008080; text-decoration-color: #008080; font-weight: bold\">0.5</span><span style=\"font-weight: bold\">)</span>\n",
       "        <span style=\"font-weight: bold\">)</span>,\n",
       "        <span style=\"color: #008000; text-decoration-color: #008000\">'recall@2'</span>: <span style=\"color: #800080; text-decoration-color: #800080; font-weight: bold\">BootstrapMetric</span><span style=\"font-weight: bold\">(</span>\n",
       "            <span style=\"color: #808000; text-decoration-color: #808000\">name</span>=<span style=\"color: #008000; text-decoration-color: #008000\">'recall@2'</span>,\n",
       "            <span style=\"color: #808000; text-decoration-color: #808000\">value</span>=<span style=\"color: #800080; text-decoration-color: #800080; font-weight: bold\">np</span><span style=\"color: #800080; text-decoration-color: #800080; font-weight: bold\">.float64</span><span style=\"font-weight: bold\">(</span><span style=\"color: #008080; text-decoration-color: #008080; font-weight: bold\">1.0</span><span style=\"font-weight: bold\">)</span>,\n",
       "            <span style=\"color: #808000; text-decoration-color: #808000\">ci_lower</span>=<span style=\"color: #800080; text-decoration-color: #800080; font-weight: bold\">np</span><span style=\"color: #800080; text-decoration-color: #800080; font-weight: bold\">.float64</span><span style=\"font-weight: bold\">(</span><span style=\"color: #008080; text-decoration-color: #008080; font-weight: bold\">1.0</span><span style=\"font-weight: bold\">)</span>,\n",
       "            <span style=\"color: #808000; text-decoration-color: #808000\">ci_upper</span>=<span style=\"color: #800080; text-decoration-color: #800080; font-weight: bold\">np</span><span style=\"color: #800080; text-decoration-color: #800080; font-weight: bold\">.float64</span><span style=\"font-weight: bold\">(</span><span style=\"color: #008080; text-decoration-color: #008080; font-weight: bold\">1.0</span><span style=\"font-weight: bold\">)</span>\n",
       "        <span style=\"font-weight: bold\">)</span>,\n",
       "        <span style=\"color: #008000; text-decoration-color: #008000\">'recall@3'</span>: <span style=\"color: #800080; text-decoration-color: #800080; font-weight: bold\">BootstrapMetric</span><span style=\"font-weight: bold\">(</span>\n",
       "            <span style=\"color: #808000; text-decoration-color: #808000\">name</span>=<span style=\"color: #008000; text-decoration-color: #008000\">'recall@3'</span>,\n",
       "            <span style=\"color: #808000; text-decoration-color: #808000\">value</span>=<span style=\"color: #800080; text-decoration-color: #800080; font-weight: bold\">np</span><span style=\"color: #800080; text-decoration-color: #800080; font-weight: bold\">.float64</span><span style=\"font-weight: bold\">(</span><span style=\"color: #008080; text-decoration-color: #008080; font-weight: bold\">1.0</span><span style=\"font-weight: bold\">)</span>,\n",
       "            <span style=\"color: #808000; text-decoration-color: #808000\">ci_lower</span>=<span style=\"color: #800080; text-decoration-color: #800080; font-weight: bold\">np</span><span style=\"color: #800080; text-decoration-color: #800080; font-weight: bold\">.float64</span><span style=\"font-weight: bold\">(</span><span style=\"color: #008080; text-decoration-color: #008080; font-weight: bold\">1.0</span><span style=\"font-weight: bold\">)</span>,\n",
       "            <span style=\"color: #808000; text-decoration-color: #808000\">ci_upper</span>=<span style=\"color: #800080; text-decoration-color: #800080; font-weight: bold\">np</span><span style=\"color: #800080; text-decoration-color: #800080; font-weight: bold\">.float64</span><span style=\"font-weight: bold\">(</span><span style=\"color: #008080; text-decoration-color: #008080; font-weight: bold\">1.0</span><span style=\"font-weight: bold\">)</span>\n",
       "        <span style=\"font-weight: bold\">)</span>\n",
       "    <span style=\"font-weight: bold\">}</span>\n",
       "<span style=\"font-weight: bold\">)</span>\n",
       "</pre>\n"
      ],
      "text/plain": [
       "Bootstrap Metrics:\n",
       "\u001b[1;35mBootstrapResult\u001b[0m\u001b[1m(\u001b[0m\n",
       "    \u001b[33msamples\u001b[0m=\u001b[1m[\u001b[0m\n",
       "        \u001b[1;35mBootstrapSample\u001b[0m\u001b[1m(\u001b[0m\n",
       "            \u001b[33msamples\u001b[0m=\u001b[1m[\u001b[0m\n",
       "                \u001b[1;35mSample\u001b[0m\u001b[1m(\u001b[0m\u001b[33mpred\u001b[0m=\u001b[1m[\u001b[0m\u001b[32m'c'\u001b[0m, \u001b[32m'd'\u001b[0m\u001b[1m]\u001b[0m, \u001b[33mgt\u001b[0m=\u001b[1m[\u001b[0m\u001b[32m'c'\u001b[0m, \u001b[32m'd'\u001b[0m\u001b[1m]\u001b[0m\u001b[1m)\u001b[0m,\n",
       "                \u001b[1;35mSample\u001b[0m\u001b[1m(\u001b[0m\u001b[33mpred\u001b[0m=\u001b[1m[\u001b[0m\u001b[32m'e'\u001b[0m, \u001b[32m'f'\u001b[0m\u001b[1m]\u001b[0m, \u001b[33mgt\u001b[0m=\u001b[1m[\u001b[0m\u001b[32m'e'\u001b[0m, \u001b[32m'f'\u001b[0m\u001b[1m]\u001b[0m\u001b[1m)\u001b[0m,\n",
       "                \u001b[1;35mSample\u001b[0m\u001b[1m(\u001b[0m\u001b[33mpred\u001b[0m=\u001b[1m[\u001b[0m\u001b[32m'e'\u001b[0m, \u001b[32m'f'\u001b[0m\u001b[1m]\u001b[0m, \u001b[33mgt\u001b[0m=\u001b[1m[\u001b[0m\u001b[32m'e'\u001b[0m, \u001b[32m'f'\u001b[0m\u001b[1m]\u001b[0m\u001b[1m)\u001b[0m,\n",
       "                \u001b[1;35mSample\u001b[0m\u001b[1m(\u001b[0m\u001b[33mpred\u001b[0m=\u001b[1m[\u001b[0m\u001b[32m'a'\u001b[0m, \u001b[32m'b'\u001b[0m\u001b[1m]\u001b[0m, \u001b[33mgt\u001b[0m=\u001b[1m[\u001b[0m\u001b[32m'a'\u001b[0m, \u001b[32m'b'\u001b[0m\u001b[1m]\u001b[0m\u001b[1m)\u001b[0m,\n",
       "                \u001b[1;35mSample\u001b[0m\u001b[1m(\u001b[0m\u001b[33mpred\u001b[0m=\u001b[1m[\u001b[0m\u001b[32m'a'\u001b[0m, \u001b[32m'b'\u001b[0m\u001b[1m]\u001b[0m, \u001b[33mgt\u001b[0m=\u001b[1m[\u001b[0m\u001b[32m'a'\u001b[0m, \u001b[32m'b'\u001b[0m\u001b[1m]\u001b[0m\u001b[1m)\u001b[0m,\n",
       "                \u001b[1;35mSample\u001b[0m\u001b[1m(\u001b[0m\u001b[33mpred\u001b[0m=\u001b[1m[\u001b[0m\u001b[32m'a'\u001b[0m, \u001b[32m'b'\u001b[0m\u001b[1m]\u001b[0m, \u001b[33mgt\u001b[0m=\u001b[1m[\u001b[0m\u001b[32m'a'\u001b[0m, \u001b[32m'b'\u001b[0m\u001b[1m]\u001b[0m\u001b[1m)\u001b[0m,\n",
       "                \u001b[1;35mSample\u001b[0m\u001b[1m(\u001b[0m\u001b[33mpred\u001b[0m=\u001b[1m[\u001b[0m\u001b[32m'c'\u001b[0m, \u001b[32m'd'\u001b[0m\u001b[1m]\u001b[0m, \u001b[33mgt\u001b[0m=\u001b[1m[\u001b[0m\u001b[32m'c'\u001b[0m, \u001b[32m'd'\u001b[0m\u001b[1m]\u001b[0m\u001b[1m)\u001b[0m,\n",
       "                \u001b[1;35mSample\u001b[0m\u001b[1m(\u001b[0m\u001b[33mpred\u001b[0m=\u001b[1m[\u001b[0m\u001b[32m'a'\u001b[0m, \u001b[32m'b'\u001b[0m\u001b[1m]\u001b[0m, \u001b[33mgt\u001b[0m=\u001b[1m[\u001b[0m\u001b[32m'a'\u001b[0m, \u001b[32m'b'\u001b[0m\u001b[1m]\u001b[0m\u001b[1m)\u001b[0m,\n",
       "                \u001b[1;35mSample\u001b[0m\u001b[1m(\u001b[0m\u001b[33mpred\u001b[0m=\u001b[1m[\u001b[0m\u001b[32m'e'\u001b[0m, \u001b[32m'f'\u001b[0m\u001b[1m]\u001b[0m, \u001b[33mgt\u001b[0m=\u001b[1m[\u001b[0m\u001b[32m'e'\u001b[0m, \u001b[32m'f'\u001b[0m\u001b[1m]\u001b[0m\u001b[1m)\u001b[0m,\n",
       "                \u001b[1;35mSample\u001b[0m\u001b[1m(\u001b[0m\u001b[33mpred\u001b[0m=\u001b[1m[\u001b[0m\u001b[32m'a'\u001b[0m, \u001b[32m'b'\u001b[0m\u001b[1m]\u001b[0m, \u001b[33mgt\u001b[0m=\u001b[1m[\u001b[0m\u001b[32m'a'\u001b[0m, \u001b[32m'b'\u001b[0m\u001b[1m]\u001b[0m\u001b[1m)\u001b[0m\n",
       "            \u001b[1m]\u001b[0m,\n",
       "            \u001b[33msample_metrics\u001b[0m=\u001b[1m{\u001b[0m\n",
       "                \u001b[32m'recall@1'\u001b[0m: \u001b[1;35mBootstrapMetric\u001b[0m\u001b[1m(\u001b[0m\n",
       "                    \u001b[33mname\u001b[0m=\u001b[32m'recall@1'\u001b[0m,\n",
       "                    \u001b[33mvalue\u001b[0m=\u001b[1;35mnp\u001b[0m\u001b[1;35m.float64\u001b[0m\u001b[1m(\u001b[0m\u001b[1;36m0.5\u001b[0m\u001b[1m)\u001b[0m,\n",
       "                    \u001b[33mci_lower\u001b[0m=\u001b[1;35mnp\u001b[0m\u001b[1;35m.float64\u001b[0m\u001b[1m(\u001b[0m\u001b[1;36m0.5\u001b[0m\u001b[1m)\u001b[0m,\n",
       "                    \u001b[33mci_upper\u001b[0m=\u001b[1;35mnp\u001b[0m\u001b[1;35m.float64\u001b[0m\u001b[1m(\u001b[0m\u001b[1;36m0.5\u001b[0m\u001b[1m)\u001b[0m\n",
       "                \u001b[1m)\u001b[0m,\n",
       "                \u001b[32m'recall@2'\u001b[0m: \u001b[1;35mBootstrapMetric\u001b[0m\u001b[1m(\u001b[0m\n",
       "                    \u001b[33mname\u001b[0m=\u001b[32m'recall@2'\u001b[0m,\n",
       "                    \u001b[33mvalue\u001b[0m=\u001b[1;35mnp\u001b[0m\u001b[1;35m.float64\u001b[0m\u001b[1m(\u001b[0m\u001b[1;36m1.0\u001b[0m\u001b[1m)\u001b[0m,\n",
       "                    \u001b[33mci_lower\u001b[0m=\u001b[1;35mnp\u001b[0m\u001b[1;35m.float64\u001b[0m\u001b[1m(\u001b[0m\u001b[1;36m1.0\u001b[0m\u001b[1m)\u001b[0m,\n",
       "                    \u001b[33mci_upper\u001b[0m=\u001b[1;35mnp\u001b[0m\u001b[1;35m.float64\u001b[0m\u001b[1m(\u001b[0m\u001b[1;36m1.0\u001b[0m\u001b[1m)\u001b[0m\n",
       "                \u001b[1m)\u001b[0m,\n",
       "                \u001b[32m'recall@3'\u001b[0m: \u001b[1;35mBootstrapMetric\u001b[0m\u001b[1m(\u001b[0m\n",
       "                    \u001b[33mname\u001b[0m=\u001b[32m'recall@3'\u001b[0m,\n",
       "                    \u001b[33mvalue\u001b[0m=\u001b[1;35mnp\u001b[0m\u001b[1;35m.float64\u001b[0m\u001b[1m(\u001b[0m\u001b[1;36m1.0\u001b[0m\u001b[1m)\u001b[0m,\n",
       "                    \u001b[33mci_lower\u001b[0m=\u001b[1;35mnp\u001b[0m\u001b[1;35m.float64\u001b[0m\u001b[1m(\u001b[0m\u001b[1;36m1.0\u001b[0m\u001b[1m)\u001b[0m,\n",
       "                    \u001b[33mci_upper\u001b[0m=\u001b[1;35mnp\u001b[0m\u001b[1;35m.float64\u001b[0m\u001b[1m(\u001b[0m\u001b[1;36m1.0\u001b[0m\u001b[1m)\u001b[0m\n",
       "                \u001b[1m)\u001b[0m\n",
       "            \u001b[1m}\u001b[0m\n",
       "        \u001b[1m)\u001b[0m,\n",
       "        \u001b[1;35mBootstrapSample\u001b[0m\u001b[1m(\u001b[0m\n",
       "            \u001b[33msamples\u001b[0m=\u001b[1m[\u001b[0m\n",
       "                \u001b[1;35mSample\u001b[0m\u001b[1m(\u001b[0m\u001b[33mpred\u001b[0m=\u001b[1m[\u001b[0m\u001b[32m'e'\u001b[0m, \u001b[32m'f'\u001b[0m\u001b[1m]\u001b[0m, \u001b[33mgt\u001b[0m=\u001b[1m[\u001b[0m\u001b[32m'e'\u001b[0m, \u001b[32m'f'\u001b[0m\u001b[1m]\u001b[0m\u001b[1m)\u001b[0m,\n",
       "                \u001b[1;35mSample\u001b[0m\u001b[1m(\u001b[0m\u001b[33mpred\u001b[0m=\u001b[1m[\u001b[0m\u001b[32m'e'\u001b[0m, \u001b[32m'f'\u001b[0m\u001b[1m]\u001b[0m, \u001b[33mgt\u001b[0m=\u001b[1m[\u001b[0m\u001b[32m'e'\u001b[0m, \u001b[32m'f'\u001b[0m\u001b[1m]\u001b[0m\u001b[1m)\u001b[0m,\n",
       "                \u001b[1;35mSample\u001b[0m\u001b[1m(\u001b[0m\u001b[33mpred\u001b[0m=\u001b[1m[\u001b[0m\u001b[32m'c'\u001b[0m, \u001b[32m'd'\u001b[0m\u001b[1m]\u001b[0m, \u001b[33mgt\u001b[0m=\u001b[1m[\u001b[0m\u001b[32m'c'\u001b[0m, \u001b[32m'd'\u001b[0m\u001b[1m]\u001b[0m\u001b[1m)\u001b[0m,\n",
       "                \u001b[1;35mSample\u001b[0m\u001b[1m(\u001b[0m\u001b[33mpred\u001b[0m=\u001b[1m[\u001b[0m\u001b[32m'a'\u001b[0m, \u001b[32m'b'\u001b[0m\u001b[1m]\u001b[0m, \u001b[33mgt\u001b[0m=\u001b[1m[\u001b[0m\u001b[32m'a'\u001b[0m, \u001b[32m'b'\u001b[0m\u001b[1m]\u001b[0m\u001b[1m)\u001b[0m,\n",
       "                \u001b[1;35mSample\u001b[0m\u001b[1m(\u001b[0m\u001b[33mpred\u001b[0m=\u001b[1m[\u001b[0m\u001b[32m'e'\u001b[0m, \u001b[32m'f'\u001b[0m\u001b[1m]\u001b[0m, \u001b[33mgt\u001b[0m=\u001b[1m[\u001b[0m\u001b[32m'e'\u001b[0m, \u001b[32m'f'\u001b[0m\u001b[1m]\u001b[0m\u001b[1m)\u001b[0m,\n",
       "                \u001b[1;35mSample\u001b[0m\u001b[1m(\u001b[0m\u001b[33mpred\u001b[0m=\u001b[1m[\u001b[0m\u001b[32m'a'\u001b[0m, \u001b[32m'b'\u001b[0m\u001b[1m]\u001b[0m, \u001b[33mgt\u001b[0m=\u001b[1m[\u001b[0m\u001b[32m'a'\u001b[0m, \u001b[32m'b'\u001b[0m\u001b[1m]\u001b[0m\u001b[1m)\u001b[0m,\n",
       "                \u001b[1;35mSample\u001b[0m\u001b[1m(\u001b[0m\u001b[33mpred\u001b[0m=\u001b[1m[\u001b[0m\u001b[32m'e'\u001b[0m, \u001b[32m'f'\u001b[0m\u001b[1m]\u001b[0m, \u001b[33mgt\u001b[0m=\u001b[1m[\u001b[0m\u001b[32m'e'\u001b[0m, \u001b[32m'f'\u001b[0m\u001b[1m]\u001b[0m\u001b[1m)\u001b[0m,\n",
       "                \u001b[1;35mSample\u001b[0m\u001b[1m(\u001b[0m\u001b[33mpred\u001b[0m=\u001b[1m[\u001b[0m\u001b[32m'e'\u001b[0m, \u001b[32m'f'\u001b[0m\u001b[1m]\u001b[0m, \u001b[33mgt\u001b[0m=\u001b[1m[\u001b[0m\u001b[32m'e'\u001b[0m, \u001b[32m'f'\u001b[0m\u001b[1m]\u001b[0m\u001b[1m)\u001b[0m,\n",
       "                \u001b[1;35mSample\u001b[0m\u001b[1m(\u001b[0m\u001b[33mpred\u001b[0m=\u001b[1m[\u001b[0m\u001b[32m'e'\u001b[0m, \u001b[32m'f'\u001b[0m\u001b[1m]\u001b[0m, \u001b[33mgt\u001b[0m=\u001b[1m[\u001b[0m\u001b[32m'e'\u001b[0m, \u001b[32m'f'\u001b[0m\u001b[1m]\u001b[0m\u001b[1m)\u001b[0m,\n",
       "                \u001b[1;35mSample\u001b[0m\u001b[1m(\u001b[0m\u001b[33mpred\u001b[0m=\u001b[1m[\u001b[0m\u001b[32m'c'\u001b[0m, \u001b[32m'd'\u001b[0m\u001b[1m]\u001b[0m, \u001b[33mgt\u001b[0m=\u001b[1m[\u001b[0m\u001b[32m'c'\u001b[0m, \u001b[32m'd'\u001b[0m\u001b[1m]\u001b[0m\u001b[1m)\u001b[0m\n",
       "            \u001b[1m]\u001b[0m,\n",
       "            \u001b[33msample_metrics\u001b[0m=\u001b[1m{\u001b[0m\n",
       "                \u001b[32m'recall@1'\u001b[0m: \u001b[1;35mBootstrapMetric\u001b[0m\u001b[1m(\u001b[0m\n",
       "                    \u001b[33mname\u001b[0m=\u001b[32m'recall@1'\u001b[0m,\n",
       "                    \u001b[33mvalue\u001b[0m=\u001b[1;35mnp\u001b[0m\u001b[1;35m.float64\u001b[0m\u001b[1m(\u001b[0m\u001b[1;36m0.5\u001b[0m\u001b[1m)\u001b[0m,\n",
       "                    \u001b[33mci_lower\u001b[0m=\u001b[1;35mnp\u001b[0m\u001b[1;35m.float64\u001b[0m\u001b[1m(\u001b[0m\u001b[1;36m0.5\u001b[0m\u001b[1m)\u001b[0m,\n",
       "                    \u001b[33mci_upper\u001b[0m=\u001b[1;35mnp\u001b[0m\u001b[1;35m.float64\u001b[0m\u001b[1m(\u001b[0m\u001b[1;36m0.5\u001b[0m\u001b[1m)\u001b[0m\n",
       "                \u001b[1m)\u001b[0m,\n",
       "                \u001b[32m'recall@2'\u001b[0m: \u001b[1;35mBootstrapMetric\u001b[0m\u001b[1m(\u001b[0m\n",
       "                    \u001b[33mname\u001b[0m=\u001b[32m'recall@2'\u001b[0m,\n",
       "                    \u001b[33mvalue\u001b[0m=\u001b[1;35mnp\u001b[0m\u001b[1;35m.float64\u001b[0m\u001b[1m(\u001b[0m\u001b[1;36m1.0\u001b[0m\u001b[1m)\u001b[0m,\n",
       "                    \u001b[33mci_lower\u001b[0m=\u001b[1;35mnp\u001b[0m\u001b[1;35m.float64\u001b[0m\u001b[1m(\u001b[0m\u001b[1;36m1.0\u001b[0m\u001b[1m)\u001b[0m,\n",
       "                    \u001b[33mci_upper\u001b[0m=\u001b[1;35mnp\u001b[0m\u001b[1;35m.float64\u001b[0m\u001b[1m(\u001b[0m\u001b[1;36m1.0\u001b[0m\u001b[1m)\u001b[0m\n",
       "                \u001b[1m)\u001b[0m,\n",
       "                \u001b[32m'recall@3'\u001b[0m: \u001b[1;35mBootstrapMetric\u001b[0m\u001b[1m(\u001b[0m\n",
       "                    \u001b[33mname\u001b[0m=\u001b[32m'recall@3'\u001b[0m,\n",
       "                    \u001b[33mvalue\u001b[0m=\u001b[1;35mnp\u001b[0m\u001b[1;35m.float64\u001b[0m\u001b[1m(\u001b[0m\u001b[1;36m1.0\u001b[0m\u001b[1m)\u001b[0m,\n",
       "                    \u001b[33mci_lower\u001b[0m=\u001b[1;35mnp\u001b[0m\u001b[1;35m.float64\u001b[0m\u001b[1m(\u001b[0m\u001b[1;36m1.0\u001b[0m\u001b[1m)\u001b[0m,\n",
       "                    \u001b[33mci_upper\u001b[0m=\u001b[1;35mnp\u001b[0m\u001b[1;35m.float64\u001b[0m\u001b[1m(\u001b[0m\u001b[1;36m1.0\u001b[0m\u001b[1m)\u001b[0m\n",
       "                \u001b[1m)\u001b[0m\n",
       "            \u001b[1m}\u001b[0m\n",
       "        \u001b[1m)\u001b[0m\n",
       "    \u001b[1m]\u001b[0m,\n",
       "    \u001b[33msample_metrics\u001b[0m=\u001b[1m{\u001b[0m\n",
       "        \u001b[32m'recall@1'\u001b[0m: \u001b[1;35mBootstrapMetric\u001b[0m\u001b[1m(\u001b[0m\n",
       "            \u001b[33mname\u001b[0m=\u001b[32m'recall@1'\u001b[0m,\n",
       "            \u001b[33mvalue\u001b[0m=\u001b[1;35mnp\u001b[0m\u001b[1;35m.float64\u001b[0m\u001b[1m(\u001b[0m\u001b[1;36m0.5\u001b[0m\u001b[1m)\u001b[0m,\n",
       "            \u001b[33mci_lower\u001b[0m=\u001b[1;35mnp\u001b[0m\u001b[1;35m.float64\u001b[0m\u001b[1m(\u001b[0m\u001b[1;36m0.5\u001b[0m\u001b[1m)\u001b[0m,\n",
       "            \u001b[33mci_upper\u001b[0m=\u001b[1;35mnp\u001b[0m\u001b[1;35m.float64\u001b[0m\u001b[1m(\u001b[0m\u001b[1;36m0.5\u001b[0m\u001b[1m)\u001b[0m\n",
       "        \u001b[1m)\u001b[0m,\n",
       "        \u001b[32m'recall@2'\u001b[0m: \u001b[1;35mBootstrapMetric\u001b[0m\u001b[1m(\u001b[0m\n",
       "            \u001b[33mname\u001b[0m=\u001b[32m'recall@2'\u001b[0m,\n",
       "            \u001b[33mvalue\u001b[0m=\u001b[1;35mnp\u001b[0m\u001b[1;35m.float64\u001b[0m\u001b[1m(\u001b[0m\u001b[1;36m1.0\u001b[0m\u001b[1m)\u001b[0m,\n",
       "            \u001b[33mci_lower\u001b[0m=\u001b[1;35mnp\u001b[0m\u001b[1;35m.float64\u001b[0m\u001b[1m(\u001b[0m\u001b[1;36m1.0\u001b[0m\u001b[1m)\u001b[0m,\n",
       "            \u001b[33mci_upper\u001b[0m=\u001b[1;35mnp\u001b[0m\u001b[1;35m.float64\u001b[0m\u001b[1m(\u001b[0m\u001b[1;36m1.0\u001b[0m\u001b[1m)\u001b[0m\n",
       "        \u001b[1m)\u001b[0m,\n",
       "        \u001b[32m'recall@3'\u001b[0m: \u001b[1;35mBootstrapMetric\u001b[0m\u001b[1m(\u001b[0m\n",
       "            \u001b[33mname\u001b[0m=\u001b[32m'recall@3'\u001b[0m,\n",
       "            \u001b[33mvalue\u001b[0m=\u001b[1;35mnp\u001b[0m\u001b[1;35m.float64\u001b[0m\u001b[1m(\u001b[0m\u001b[1;36m1.0\u001b[0m\u001b[1m)\u001b[0m,\n",
       "            \u001b[33mci_lower\u001b[0m=\u001b[1;35mnp\u001b[0m\u001b[1;35m.float64\u001b[0m\u001b[1m(\u001b[0m\u001b[1;36m1.0\u001b[0m\u001b[1m)\u001b[0m,\n",
       "            \u001b[33mci_upper\u001b[0m=\u001b[1;35mnp\u001b[0m\u001b[1;35m.float64\u001b[0m\u001b[1m(\u001b[0m\u001b[1;36m1.0\u001b[0m\u001b[1m)\u001b[0m\n",
       "        \u001b[1m)\u001b[0m\n",
       "    \u001b[1m}\u001b[0m\n",
       "\u001b[1m)\u001b[0m\n"
      ]
     },
     "metadata": {},
     "output_type": "display_data"
    }
   ],
   "source": [
    "from indomee import bootstrap\n",
    "\n",
    "# Bootstrapping multiple samples\n",
    "result = bootstrap(\n",
    "    preds=[[\"a\", \"b\"], [\"c\", \"d\"], [\"e\", \"f\"]],\n",
    "    labels=[[\"a\", \"b\"], [\"c\", \"d\"], [\"e\", \"f\"]],\n",
    "    n_samples=2,\n",
    "    sample_size=10,\n",
    "    metrics=[\"recall\"],\n",
    "    k=[1, 2, 3],\n",
    ")\n",
    "print(\"Bootstrap Metrics:\", result)"
   ]
  },
  {
   "cell_type": "markdown",
   "metadata": {},
   "source": [
    "Under the hood, we can see that `indomee` performs the bootstrap but you have full access to\n",
    "\n",
    "1. The raw samples that were chosen for each individual iteration of the bootstrap\n",
    "2. The metrics that were calculated for each individual iteration of the bootstrap\n",
    "3. The summary statistic of the bootstrapping process\n",
    "\n",
    "This makes it easy for you to perform any additional analysis on the raw data itself because we don't hide any of the data from you."
   ]
  },
  {
   "cell_type": "markdown",
   "metadata": {},
   "source": [
    "## T-Testing\n",
    "\n",
    "The t-test is a statistical method that helps us determine if the differences we observe between two methods are statistically significant or just due to random chance. \n",
    "\n",
    "When we look at our bootstrap plots, we can see some overlap in the confidence intervals between methods. While this gives us a visual indication, the t-test provides a formal statistical framework to quantify this difference:\n",
    "\n",
    "1. The t-test calculates a t-statistic and p-value:\n",
    "   - The t-statistic measures how many standard deviations the difference between means is from zero\n",
    "   - The p-value tells us the probability of observing such a difference if there was actually no real difference between the methods\n",
    "\n",
    "2. We use a paired t-test here because:\n",
    "   - Our measurements are related (same queries used for each method)\n",
    "   - Each data point in one method has a natural pairing with a data point in the other method\n",
    "   - This helps control for query-specific variations\n",
    "\n",
    "`indomee` provides a simple interface for this analysis - just specify whether you want a paired test (default) or unpaired test by setting the `paired` argument:"
   ]
  },
  {
   "cell_type": "code",
   "execution_count": 2,
   "metadata": {},
   "outputs": [
    {
     "data": {
      "text/html": [
       "<div>\n",
       "<style scoped>\n",
       "    .dataframe tbody tr th:only-of-type {\n",
       "        vertical-align: middle;\n",
       "    }\n",
       "\n",
       "    .dataframe tbody tr th {\n",
       "        vertical-align: top;\n",
       "    }\n",
       "\n",
       "    .dataframe thead th {\n",
       "        text-align: right;\n",
       "    }\n",
       "</style>\n",
       "<table border=\"1\" class=\"dataframe\">\n",
       "  <thead>\n",
       "    <tr style=\"text-align: right;\">\n",
       "      <th></th>\n",
       "      <th>population_1</th>\n",
       "      <th>population_2</th>\n",
       "      <th>t_statistic</th>\n",
       "      <th>p_value</th>\n",
       "      <th>significant</th>\n",
       "    </tr>\n",
       "  </thead>\n",
       "  <tbody>\n",
       "    <tr>\n",
       "      <th>0</th>\n",
       "      <td>Baseline</td>\n",
       "      <td>Method 1</td>\n",
       "      <td>-7.42</td>\n",
       "      <td>3.30e-12</td>\n",
       "      <td>True</td>\n",
       "    </tr>\n",
       "    <tr>\n",
       "      <th>1</th>\n",
       "      <td>Baseline</td>\n",
       "      <td>Method 2</td>\n",
       "      <td>-6.91</td>\n",
       "      <td>6.55e-11</td>\n",
       "      <td>True</td>\n",
       "    </tr>\n",
       "    <tr>\n",
       "      <th>2</th>\n",
       "      <td>Method 1</td>\n",
       "      <td>Method 2</td>\n",
       "      <td>-1.59</td>\n",
       "      <td>1.14e-01</td>\n",
       "      <td>False</td>\n",
       "    </tr>\n",
       "  </tbody>\n",
       "</table>\n",
       "</div>"
      ],
      "text/plain": [
       "  population_1 population_2  t_statistic   p_value  significant\n",
       "0     Baseline     Method 1        -7.42  3.30e-12         True\n",
       "1     Baseline     Method 2        -6.91  6.55e-11         True\n",
       "2     Method 1     Method 2        -1.59  1.14e-01        False"
      ]
     },
     "execution_count": 2,
     "metadata": {},
     "output_type": "execute_result"
    }
   ],
   "source": [
    "from indomee import perform_t_tests\n",
    "import pandas as pd\n",
    "\n",
    "df = pd.read_csv(\"./data.csv\")\n",
    "\n",
    "# Calculate the mean for each method\n",
    "method_1 = df[\"method_1\"].tolist()\n",
    "method_2 = df[\"method_2\"].tolist()\n",
    "baseline = df[\"baseline\"].tolist()\n",
    "\n",
    "results = perform_t_tests(\n",
    "    baseline, method_1, method_2,\n",
    "    names=[\"Baseline\", \"Method 1\", \"Method 2\"],\n",
    "    paired=True,\n",
    ")\n",
    "results"
   ]
  }
 ],
 "metadata": {
  "kernelspec": {
   "display_name": ".venv",
   "language": "python",
   "name": "python3"
  },
  "language_info": {
   "codemirror_mode": {
    "name": "ipython",
    "version": 3
   },
   "file_extension": ".py",
   "mimetype": "text/x-python",
   "name": "python",
   "nbconvert_exporter": "python",
   "pygments_lexer": "ipython3",
   "version": "3.11.10"
  }
 },
 "nbformat": 4,
 "nbformat_minor": 2
}
